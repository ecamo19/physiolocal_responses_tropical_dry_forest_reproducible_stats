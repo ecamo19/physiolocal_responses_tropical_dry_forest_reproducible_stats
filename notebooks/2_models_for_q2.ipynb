{
 "cells": [
  {
   "cell_type": "raw",
   "id": "e02e2002",
   "metadata": {},
   "source": [
    "---\n",
    "title: 'Models for Q2'\n",
    "author: \"Erick Calderon-Morales and Leland Werden\"\n",
    "date: ''\n",
    "due_date: \"\"\n",
    "output:\n",
    "  prettydoc::html_pretty:\n",
    "    highlight: pygments\n",
    "    theme: tactile\n",
    "    toc: yes\n",
    "    number_sections: no\n",
    "    toc_depth: 1\n",
    "---"
   ]
  },
  {
   "cell_type": "code",
   "execution_count": null,
   "id": "07dd4d10",
   "metadata": {
    "lines_to_next_cell": 2,
    "name": "knitr",
    "tags": [
     "remove_cell"
    ]
   },
   "outputs": [],
   "source": [
    "\n",
    "# Save figures in specific place\n",
    "\n",
    "knitr::opts_chunk$set(autodep        = TRUE,\n",
    "                      cache          = FALSE,\n",
    "                      cache.comments = TRUE,\n",
    "\n",
    "                      # Save figures as pdf ?\n",
    "                      dev = c(\"png\", \"pdf\"),\n",
    "\n",
    "                      # Include code?\n",
    "                      echo           = TRUE,\n",
    "                      warning = FALSE,\n",
    "\n",
    "                      error          = FALSE,\n",
    "                      fig.align      = \"center\",\n",
    "\n",
    "                      # Path where figures are going to be store pdf single\n",
    "                      # figures\n",
    "                      fig.path       = paste0(\"./figures\", \"/\"),\n",
    "                      fig.width      = 11,\n",
    "                      fig.height     = 7,\n",
    "                      message        = FALSE)\n",
    "\n",
    "# set to two decimal\n",
    "options(scipen = 1, digits = 4)"
   ]
  },
  {
   "cell_type": "code",
   "execution_count": null,
   "id": "a98bdbaa",
   "metadata": {
    "cache": false,
    "message": false,
    "name": "libaries",
    "warning": false
   },
   "outputs": [],
   "source": [
    "library(dplyr)\n",
    "library(nlme)\n",
    "library(purrr)\n",
    "library(performance)\n",
    "library(tibble)\n",
    "library(here)\n",
    "library(reactablefmtr)\n",
    "library(reactable)\n",
    "library(emmeans)\n",
    "library(car)\n",
    "library(ggplot2)\n",
    "library(modelr)\n",
    "library(knitr)"
   ]
  },
  {
   "cell_type": "code",
   "execution_count": null,
   "id": "a0da1700",
   "metadata": {
    "name": "setup",
    "tags": [
     "remove_cell"
    ]
   },
   "outputs": [],
   "source": [
    "# Set knit directory\n",
    "setwd(here::here())\n",
    "knitr::opts_knit$set(root.dir = setwd(here::here()))\n",
    "getwd()"
   ]
  },
  {
   "cell_type": "markdown",
   "id": "3a6b9d6e",
   "metadata": {},
   "source": [
    "# Load functions and data"
   ]
  },
  {
   "cell_type": "code",
   "execution_count": null,
   "id": "f1d49003",
   "metadata": {
    "message": false,
    "warning": false
   },
   "outputs": [],
   "source": [
    "# Load all joined dataset\n",
    "source(\"./scripts/code_join_data_full_dataset.R\")\n",
    "\n",
    "# Step was done like this because I am working with a subset of the data\n",
    "# source cleaned data\n",
    "source(\"./scripts/code_clean_data_nodules.R\")"
   ]
  },
  {
   "cell_type": "code",
   "execution_count": null,
   "id": "2f3bb9b3",
   "metadata": {
    "message": false,
    "warning": false
   },
   "outputs": [],
   "source": [
    "# Load custom made functions\n",
    "source(\"./R/functions_models.R\")\n",
    "source(\"./R/function_plots.R\")\n",
    "source(\"./R/function_validation_plots.R\")\n",
    "source(\"./R/function_for_inference_emmeans_and_percentage_diff.R\")"
   ]
  },
  {
   "cell_type": "markdown",
   "id": "70acc8e7",
   "metadata": {},
   "source": [
    "__Q2: How does increased nutrient and/or water availability influence seedling\n",
    "water- and nutrient-use traits and the relationships with N-fixing bacteria?__\n",
    "\n",
    "# Model fitting\n",
    "\n",
    "## Traits"
   ]
  },
  {
   "cell_type": "code",
   "execution_count": null,
   "id": "864694dd",
   "metadata": {},
   "outputs": [],
   "source": [
    "# Take response variables names\n",
    "response_vars_q2 <-\n",
    "  set_names(c(\"amax\", \"gs\", \"sla\"))"
   ]
  },
  {
   "cell_type": "code",
   "execution_count": null,
   "id": "b210853c",
   "metadata": {},
   "outputs": [],
   "source": [
    "## Create empty list\n",
    "models_q2 <- list()"
   ]
  },
  {
   "cell_type": "code",
   "execution_count": null,
   "id": "edd48a8e",
   "metadata": {},
   "outputs": [],
   "source": [
    "model_q2_amax <- lme(amax ~ nfixer*treatment +init_height,\n",
    "                                        random = ~1|spcode,\n",
    "                                        data = data_for_models)\n",
    "\n",
    "model_q2_amax <- list(model_q2_amax)\n",
    "\n",
    "names(model_q2_amax) <- \"amax\"\n",
    "\n"
   ]
  },
  {
   "cell_type": "code",
   "execution_count": null,
   "id": "a77687c4",
   "metadata": {},
   "outputs": [],
   "source": [
    "model_q2_gs <- lme(gs ~ nfixer*treatment +init_height,\n",
    "                                        random = ~1|spcode,\n",
    "                                        data = data_for_models)\n",
    "\n",
    "model_q2_gs <- list(model_q2_gs)\n",
    "\n",
    "names(model_q2_gs) <- \"gs\"\n"
   ]
  },
  {
   "cell_type": "code",
   "execution_count": null,
   "id": "df71e3b8",
   "metadata": {},
   "outputs": [],
   "source": [
    "model_q2_sla <- lme(sla ~ nfixer*treatment +init_height,\n",
    "                                        random = ~1|spcode,\n",
    "                                        data = data_for_models)\n",
    "\n",
    "model_q2_sla <- list(model_q2_sla)\n",
    "\n",
    "names(model_q2_sla) <- \"sla\"                      "
   ]
  },
  {
   "cell_type": "code",
   "execution_count": null,
   "id": "75106aa4",
   "metadata": {},
   "outputs": [],
   "source": [
    "## PNUE\n",
    "model_q2_pnue_log <- lme(log(pnue) ~ nfixer*treatment +init_height,\n",
    "                                        random = ~1|spcode,\n",
    "                                        data = data_for_models)\n",
    "\n",
    "model_q2_pnue_log <- list(model_q2_pnue_log)\n",
    "\n",
    "names(model_q2_pnue_log) <- \"pnue_log\""
   ]
  },
  {
   "cell_type": "code",
   "execution_count": null,
   "id": "e44aed12",
   "metadata": {},
   "outputs": [],
   "source": [
    "model_q2_pnue_nlme <- lme(pnue ~ nfixer*treatment + init_height,\n",
    "                                        random = ~1|spcode,\n",
    "                                        weights = varIdent(form = ~1|spcode*treatment),\n",
    "                                        data = data_for_models)\n",
    "\n",
    "model_q2_pnue_nlme <- list(model_q2_pnue_nlme)\n",
    "\n",
    "names(model_q2_pnue_nlme) <- \"pnue_nlme\"\n"
   ]
  },
  {
   "cell_type": "code",
   "execution_count": null,
   "id": "48889081",
   "metadata": {
    "lines_to_next_cell": 2
   },
   "outputs": [],
   "source": [
    "## Narea_g_m2 log model\n",
    "model_q2_n_area_log <- lme(log(narea_g_m2) ~ nfixer*treatment + init_height,\n",
    "                                                random = ~1|spcode,\n",
    "                                                data = data_for_models)\n",
    "\n",
    "model_q2_n_area_log <- list(model_q2_n_area_log)\n",
    "\n",
    "names(model_q2_n_area_log) <- \"n_area_log\""
   ]
  },
  {
   "cell_type": "code",
   "execution_count": null,
   "id": "6e3f4ac4",
   "metadata": {
    "lines_to_next_cell": 2
   },
   "outputs": [],
   "source": [
    "model_q2_n_area_nlme <- lme(narea_g_m2 ~ nfixer*treatment + init_height,\n",
    "                                        random = ~1|spcode,\n",
    "                                        weights = varIdent(form = ~1|spcode*treatment),\n",
    "                                        data = data_for_models)\n",
    "\n",
    "model_q2_n_area_nlme <- list(model_q2_n_area_nlme)\n",
    "\n",
    "names(model_q2_n_area_nlme) <- \"n_area_nlme\"\n"
   ]
  },
  {
   "cell_type": "code",
   "execution_count": null,
   "id": "65567f07",
   "metadata": {},
   "outputs": [],
   "source": [
    "## WUE log model\n",
    "model_q2_wue_log <- lme(log(wue) ~ nfixer*treatment + init_height,\n",
    "                                        random = ~1|spcode,\n",
    "                                        data = data_for_models)\n",
    "\n",
    "model_q2_wue_log <- list(model_q2_wue_log)\n",
    "\n",
    "names(model_q2_wue_log) <- \"wue_log\""
   ]
  },
  {
   "cell_type": "code",
   "execution_count": null,
   "id": "0c1531d1",
   "metadata": {},
   "outputs": [],
   "source": [
    "model_q2_wue_nlme <- lme(wue ~ nfixer*treatment + init_height,\n",
    "                                        random = ~1|spcode,\n",
    "                                        weights = varIdent(form = ~1|spcode*treatment),\n",
    "                                        data = data_for_models)\n",
    "\n",
    "model_q2_wue_nlme <- list(model_q2_wue_nlme)\n",
    "\n",
    "names(model_q2_wue_nlme) <- \"wue_nlme\""
   ]
  },
  {
   "cell_type": "markdown",
   "id": "7e389c95",
   "metadata": {},
   "source": [
    "## Nodule colonization data"
   ]
  },
  {
   "cell_type": "code",
   "execution_count": null,
   "id": "24997497",
   "metadata": {},
   "outputs": [],
   "source": [
    "# Delete unused variables\n",
    "data_nodules_cleaned <-\n",
    "    data_nodules_cleaned %>%\n",
    "\n",
    "        # add id to rownames for keep track of the rows\n",
    "        column_to_rownames(\"id\") %>%\n",
    "        dplyr::select(spcode, treatment, everything())"
   ]
  },
  {
   "cell_type": "markdown",
   "id": "ae14ddf9",
   "metadata": {},
   "source": [
    "### Nodule weight"
   ]
  },
  {
   "cell_type": "code",
   "execution_count": null,
   "id": "abe91fae",
   "metadata": {},
   "outputs": [],
   "source": [
    "nlme_nodule_weight <- lme(estimated_total_nodule_mass_per_plant ~ treatment + init_height,\n",
    "                                    random = ~1|spcode,\n",
    "                                    weights = varIdent(form = ~1|spcode*treatment),\n",
    "                                    data = data_nodules_cleaned)\n",
    "\n",
    "\n",
    "model_q2_nodule_weight <- list(nlme_nodule_weight)\n",
    "\n",
    "names(model_q2_nodule_weight) <- \"nodule_weight\""
   ]
  },
  {
   "cell_type": "markdown",
   "id": "bfbbea16",
   "metadata": {
    "lines_to_next_cell": 0
   },
   "source": [
    "### Nodule count"
   ]
  },
  {
   "cell_type": "code",
   "execution_count": null,
   "id": "c60c1484",
   "metadata": {},
   "outputs": [],
   "source": [
    "nlme_nodule_count <- lme(log(total_number_of_plant_nodules) ~ treatment + init_height,\n",
    "                                    random = ~1|spcode,\n",
    "                                    weights = varIdent(form = ~1|spcode),\n",
    "                                    data = data_nodules_cleaned)\n",
    "\n",
    "model_q2_nodule_count <- list(nlme_nodule_count)\n",
    "\n",
    "names(model_q2_nodule_count) <- \"nodule_count\""
   ]
  },
  {
   "cell_type": "markdown",
   "id": "9a4feeeb",
   "metadata": {},
   "source": [
    "### Plant biomass investment to nodules"
   ]
  },
  {
   "cell_type": "code",
   "execution_count": null,
   "id": "151ca277",
   "metadata": {},
   "outputs": [],
   "source": [
    "# Get Nfixers biomass\n",
    "data_fixers_plant_biomass <- \n",
    "        data_for_models  %>% \n",
    "\n",
    "        # Filter only Nfixers\n",
    "        filter(nfixer == 'fixer') %>% \n",
    "\n",
    "        # Select only the columns that will be used\n",
    "        select(\"spcode\", \"treatment\", \"init_height\", \"total_biomass\") %>% \n",
    "\n",
    "        # Get plant's id\n",
    "        rownames_to_column(\"id\")"
   ]
  },
  {
   "cell_type": "code",
   "execution_count": null,
   "id": "6a3c49fd",
   "metadata": {
    "lines_to_next_cell": 2
   },
   "outputs": [],
   "source": [
    "# Join datasets\n",
    "data_plant_inves_to_nodule <- \n",
    "        data_nodules_cleaned  %>% \n",
    "\n",
    "                # Get plant's id\n",
    "                rownames_to_column(\"id\") %>% \n",
    "\n",
    "                # join data\n",
    "                full_join(., data_fixers_plant_biomass, by = join_by(id, spcode, \n",
    "                                                                        treatment, \n",
    "                                                                        init_height)) %>% \n",
    "\n",
    "                # Remove NA's\n",
    "                drop_na() %>% \n",
    "\n",
    "                # Calculate investment to nodules\n",
    "                mutate(plant_inves_to_nodules = estimated_total_nodule_mass_per_plant / total_biomass)"
   ]
  },
  {
   "cell_type": "code",
   "execution_count": null,
   "id": "f4334f57",
   "metadata": {},
   "outputs": [],
   "source": [
    "nlme_plant_invest_nodules <- lme(log(plant_inves_to_nodules) ~ treatment + init_height,\n",
    "                                    random = ~1|spcode,\n",
    "                                    weights = varIdent(form = ~1|spcode),\n",
    "                                    data = data_plant_inves_to_nodule)\n",
    "\n",
    "model_q2_plant_invest_nodules <- list(nlme_plant_invest_nodules)\n",
    "\n",
    "names(model_q2_plant_invest_nodules) <- \"plant_investment_to_nodules\""
   ]
  },
  {
   "cell_type": "markdown",
   "id": "ecba4621",
   "metadata": {
    "lines_to_next_cell": 0
   },
   "source": [
    "## Append all models into a single list"
   ]
  },
  {
   "cell_type": "code",
   "execution_count": null,
   "id": "797dc6eb",
   "metadata": {},
   "outputs": [],
   "source": [
    "# Append models to model list\n",
    "models_q2 <- append(model_q2_amax, models_q2)\n",
    "models_q2 <- append(model_q2_gs, models_q2)\n",
    "models_q2 <- append(model_q2_sla, models_q2)\n",
    "\n",
    "models_q2 <- append(model_q2_n_area_log, models_q2)\n",
    "models_q2 <- append(model_q2_n_area_nlme, models_q2)\n",
    "\n",
    "models_q2 <- append(model_q2_pnue_log, models_q2)\n",
    "models_q2 <- append(model_q2_pnue_nlme, models_q2)\n",
    "\n",
    "models_q2 <- append(model_q2_wue_log, models_q2)\n",
    "models_q2 <- append(model_q2_wue_nlme, models_q2)\n",
    "\n",
    "models_q2 <- append(model_q2_nodule_count, models_q2)\n",
    "models_q2 <- append(model_q2_nodule_weight, models_q2)\n",
    "models_q2 <- append(model_q2_plant_invest_nodules,models_q2)"
   ]
  },
  {
   "cell_type": "code",
   "execution_count": null,
   "id": "cd9d90ab",
   "metadata": {},
   "outputs": [],
   "source": [
    "names(models_q2)"
   ]
  },
  {
   "cell_type": "markdown",
   "id": "c5d05329",
   "metadata": {},
   "source": [
    "# Model Assumptions\n",
    "\n",
    "## Maximal photosynthesis"
   ]
  },
  {
   "cell_type": "code",
   "execution_count": null,
   "id": "a96b571b",
   "metadata": {
    "dpi": 350,
    "fig.align": "center",
    "name": "q2_validation_model_plot_amax",
    "out.height": 500,
    "out.width": 1000
   },
   "outputs": [],
   "source": [
    "validation_plots(models_q2$amax, data = data_for_models, group = \"spcode\")"
   ]
  },
  {
   "cell_type": "markdown",
   "id": "dca67b39",
   "metadata": {},
   "source": [
    "## Stomatal Conductance"
   ]
  },
  {
   "cell_type": "code",
   "execution_count": null,
   "id": "5fe297c5",
   "metadata": {
    "dpi": 350,
    "fig.align": "center",
    "name": "q2_validation_model_plot_gs",
    "out.height": 500,
    "out.width": 1000
   },
   "outputs": [],
   "source": [
    "validation_plots(models_q2$gs, data = data_for_models, group = \"spcode\")"
   ]
  },
  {
   "cell_type": "markdown",
   "id": "1b7d22cb",
   "metadata": {},
   "source": [
    "## SLA"
   ]
  },
  {
   "cell_type": "code",
   "execution_count": null,
   "id": "62af3e57",
   "metadata": {
    "dpi": 350,
    "fig.align": "center",
    "name": "q2_validation_model_plot_sla",
    "out.height": 500,
    "out.width": 1000
   },
   "outputs": [],
   "source": [
    "validation_plots(models_q2$sla, data = data_for_models, group = \"spcode\")"
   ]
  },
  {
   "cell_type": "markdown",
   "id": "f31a60ae",
   "metadata": {},
   "source": [
    "## Water Use Efficiency"
   ]
  },
  {
   "cell_type": "code",
   "execution_count": null,
   "id": "bd2a796e",
   "metadata": {
    "dpi": 350,
    "fig.align": "center",
    "name": "q2_validation_model_plot_wue",
    "out.height": 500,
    "out.width": 1000
   },
   "outputs": [],
   "source": [
    "validation_plots(models_q2$wue_log, data = data_for_models, group = \"spcode\")"
   ]
  },
  {
   "cell_type": "code",
   "execution_count": null,
   "id": "b98fe8ae",
   "metadata": {
    "dpi": 350,
    "fig.align": "center",
    "name": "q2_validation_model_plot_wue_nlme",
    "out.height": 500,
    "out.width": 1000
   },
   "outputs": [],
   "source": [
    "validation_plots(models_q2$wue_nlme, data = data_for_models, group = \"spcode\")"
   ]
  },
  {
   "cell_type": "markdown",
   "id": "0794eef5",
   "metadata": {},
   "source": [
    "## PNUE"
   ]
  },
  {
   "cell_type": "code",
   "execution_count": null,
   "id": "afd356fa",
   "metadata": {
    "dpi": 350,
    "fig.align": "center",
    "name": "q2_validation_model_plot_pnue",
    "out.height": 500,
    "out.width": 1000
   },
   "outputs": [],
   "source": [
    "validation_plots(models_q2$pnue_log, data = data_for_models, group = \"spcode\")"
   ]
  },
  {
   "cell_type": "code",
   "execution_count": null,
   "id": "af1106c7",
   "metadata": {
    "dpi": 350,
    "fig.align": "center",
    "name": "q2_validation_model_plot_pnue_nlme",
    "out.height": 500,
    "out.width": 1000
   },
   "outputs": [],
   "source": [
    "validation_plots(models_q2$pnue_nlme, data = data_for_models, group = \"spcode\")"
   ]
  },
  {
   "cell_type": "markdown",
   "id": "98842a78",
   "metadata": {},
   "source": [
    "## Nitrogen concentration per unit of area"
   ]
  },
  {
   "cell_type": "code",
   "execution_count": null,
   "id": "2e95f9fb",
   "metadata": {
    "dpi": 350,
    "fig.align": "center",
    "name": "q2_validation_model_plot_n_area",
    "out.height": 500,
    "out.width": 1000
   },
   "outputs": [],
   "source": [
    "validation_plots(models_q2$n_area_log, data = data_for_models, group = \"spcode\")"
   ]
  },
  {
   "cell_type": "code",
   "execution_count": null,
   "id": "5a51c331",
   "metadata": {
    "dpi": 350,
    "fig.align": "center",
    "name": "q2_validation_model_plot_n_area_nlme",
    "out.height": 500,
    "out.width": 1000
   },
   "outputs": [],
   "source": [
    "validation_plots(models_q2$n_area_nlme, data = data_for_models, group = \"spcode\")"
   ]
  },
  {
   "cell_type": "markdown",
   "id": "2d8ff44a",
   "metadata": {},
   "source": [
    "## Nodule weight"
   ]
  },
  {
   "cell_type": "code",
   "execution_count": null,
   "id": "2d7bb5c9",
   "metadata": {
    "dpi": 350,
    "fig.align": "center",
    "name": "q2_validation_model_plot_nodule_weight",
    "out.height": 500,
    "out.width": 1000
   },
   "outputs": [],
   "source": [
    "validation_plots(models_q2$nodule_weight, data = data_nodules_cleaned, group = \"treatment\")"
   ]
  },
  {
   "cell_type": "markdown",
   "id": "89e6a00e",
   "metadata": {},
   "source": [
    "## Nodule count"
   ]
  },
  {
   "cell_type": "code",
   "execution_count": null,
   "id": "99088c77",
   "metadata": {
    "dpi": 350,
    "fig.align": "center",
    "name": "q2_validation_model_plot_nodule_count",
    "out.height": 500,
    "out.width": 1000
   },
   "outputs": [],
   "source": [
    "validation_plots(models_q2$nodule_count, data = data_nodules_cleaned, group = 'spcode')"
   ]
  },
  {
   "cell_type": "markdown",
   "id": "162429ba",
   "metadata": {},
   "source": [
    "## Plant invesment to nodules"
   ]
  },
  {
   "cell_type": "code",
   "execution_count": null,
   "id": "6c0ace7e",
   "metadata": {
    "dpi": 350,
    "fig.align": "center",
    "name": "q2_validation_model_plot_nodule_investment",
    "out.height": 500,
    "out.width": 1000
   },
   "outputs": [],
   "source": [
    "validation_plots(models_q2$nodule_count, data = data_nodules_cleaned, group = 'spcode')"
   ]
  },
  {
   "cell_type": "markdown",
   "id": "73d50a7e",
   "metadata": {},
   "source": [
    "# Model inference"
   ]
  },
  {
   "cell_type": "code",
   "execution_count": null,
   "id": "6e6bd10a",
   "metadata": {},
   "outputs": [],
   "source": [
    "## r2 models\n",
    "models_q2 %>%\n",
    "    map(., r2_nakagawa) %>%\n",
    "    unlist()"
   ]
  },
  {
   "cell_type": "code",
   "execution_count": null,
   "id": "0e738644",
   "metadata": {},
   "outputs": [],
   "source": [
    "## r2 models\n",
    "models_q2 %>%\n",
    "    map(., AIC) %>%\n",
    "    unlist()"
   ]
  },
  {
   "cell_type": "markdown",
   "id": "a9ab9618",
   "metadata": {},
   "source": [
    "## Anova tables"
   ]
  },
  {
   "cell_type": "code",
   "execution_count": null,
   "id": "edfab932",
   "metadata": {},
   "outputs": [],
   "source": [
    "map(models_q2, ~anova.lme(.x, type = \"marginal\"))"
   ]
  },
  {
   "cell_type": "markdown",
   "id": "0a8f7e92",
   "metadata": {},
   "source": [
    "## Post-Hoc: Tukey's test\n",
    "\n",
    "### Maximal photosynthesis"
   ]
  },
  {
   "cell_type": "code",
   "execution_count": null,
   "id": "d078ccb9",
   "metadata": {
    "warning": false
   },
   "outputs": [],
   "source": [
    "as_tibble(emmeans(models_q2$amax,\n",
    "        pairwise ~ treatment*nfixer,\n",
    "        adjust = \"tukey\"\n",
    "        )$contrast) %>%\n",
    "        mutate(across(2:6, round, 6)) %>%\n",
    "        kable()"
   ]
  },
  {
   "cell_type": "code",
   "execution_count": null,
   "id": "ef90da09",
   "metadata": {},
   "outputs": [],
   "source": [
    "# Treatment effects\n",
    "emmeans_table_tidy(models_q2$amax,\n",
    "                        formula = \"treatment|nfixer\",\n",
    "                        grouping_var = \"nfixer\")"
   ]
  },
  {
   "cell_type": "markdown",
   "id": "b951e2d7",
   "metadata": {},
   "source": [
    "### Water Use Efficiency"
   ]
  },
  {
   "cell_type": "code",
   "execution_count": null,
   "id": "c5c86c75",
   "metadata": {
    "warning": false
   },
   "outputs": [],
   "source": [
    "as_tibble(emmeans(models_q2$wue_log,\n",
    "        pairwise ~ treatment*nfixer,\n",
    "        adjust = \"tukey\"\n",
    "        )$contrast) %>%\n",
    "        mutate(across(2:6, round, 6)) %>%\n",
    "        kable() "
   ]
  },
  {
   "cell_type": "code",
   "execution_count": null,
   "id": "3e6e92bb",
   "metadata": {},
   "outputs": [],
   "source": [
    "# Treatment effects\n",
    "emmeans_table_tidy(models_q2$wue_log,\n",
    "                        formula = \"treatment|nfixer\",\n",
    "                        grouping_var = \"nfixer\")"
   ]
  },
  {
   "cell_type": "code",
   "execution_count": null,
   "id": "f6dc2705",
   "metadata": {
    "warning": false
   },
   "outputs": [],
   "source": [
    "as_tibble(emmeans(models_q2$wue_log,\n",
    "        pairwise ~ nfixer,\n",
    "        adjust = \"tukey\"\n",
    "        )$contrast) %>%\n",
    "        mutate(across(2:6, round, 6)) %>%\n",
    "        kable()"
   ]
  },
  {
   "cell_type": "code",
   "execution_count": null,
   "id": "e1f0f631",
   "metadata": {
    "warning": false
   },
   "outputs": [],
   "source": [
    "# Treatment effects\n",
    "as.data.frame(emmeans::emmeans(models_q2$wue_log,\n",
    "                                specs = pairwise ~nfixer,\n",
    "                                type = \"response\",\n",
    "                                adjust = \"tukey\")$emmeans) %>%\n",
    "\n",
    "        janitor::clean_names() %>%\n",
    "        dplyr::select(response, everything(),\n",
    "                        # Remove variables\n",
    "                      -c(df, lower_cl, upper_cl, se)) %>%\n",
    "\n",
    "        # Rename response to emmean, this is done when models is log\n",
    "        dplyr::rename_all(funs(stringr::str_replace_all(., \"response\", \"emmean\"))) %>% \n",
    "\n",
    "        # Calculate % difference between control and variable, this assume that\n",
    "        # that first name is the control\n",
    "\n",
    "        dplyr::mutate(difference = ((emmean - first(emmean))),\n",
    "               perc_difference =((emmean - first(emmean) )/first(emmean))*100) %>%\n",
    "\n",
    "        dplyr::mutate_if(is.numeric, round, 3)"
   ]
  },
  {
   "cell_type": "markdown",
   "id": "ab4dea99",
   "metadata": {
    "lines_to_next_cell": 0
   },
   "source": [
    "### Stomatal Conductance"
   ]
  },
  {
   "cell_type": "code",
   "execution_count": null,
   "id": "57bb46b0",
   "metadata": {
    "warning": false
   },
   "outputs": [],
   "source": [
    "as_tibble(emmeans(models_q2$gs,\n",
    "        pairwise ~ treatment,\n",
    "        adjust = \"tukey\"\n",
    "        )$contrast) %>%\n",
    "        mutate(across(2:6, round, 6)) %>%\n",
    "        kable() "
   ]
  },
  {
   "cell_type": "code",
   "execution_count": null,
   "id": "2720ec4c",
   "metadata": {},
   "outputs": [],
   "source": [
    "# Treatment effects\n",
    "emmeans_table_tidy(models_q2$gs,\n",
    "                        formula = \"treatment\",\n",
    "                        )"
   ]
  },
  {
   "cell_type": "markdown",
   "id": "39c8bbcc",
   "metadata": {},
   "source": [
    "### SLA \n",
    "\n",
    "SLA did not responded to any of the treatments nor varied between nfixers and \n",
    "non-fixing species so no post hoc test was performed.\n",
    "\n",
    "### PNUE"
   ]
  },
  {
   "cell_type": "code",
   "execution_count": null,
   "id": "692d56de",
   "metadata": {
    "warning": false
   },
   "outputs": [],
   "source": [
    "as_tibble(emmeans(models_q2$pnue_log,\n",
    "        pairwise ~ treatment,\n",
    "        adjust = \"tukey\"\n",
    "        )$contrast) %>%\n",
    "        mutate(across(2:6, round, 6)) %>%\n",
    "        kable()"
   ]
  },
  {
   "cell_type": "code",
   "execution_count": null,
   "id": "1a8dbdb6",
   "metadata": {},
   "outputs": [],
   "source": [
    "# Treatment effects\n",
    "emmeans_table_tidy(models_q2$pnue_log,\n",
    "                        formula = \"treatment\",\n",
    "                        )"
   ]
  },
  {
   "cell_type": "markdown",
   "id": "dbcb675b",
   "metadata": {},
   "source": [
    "### Nitrogen concentration per unit of area"
   ]
  },
  {
   "cell_type": "code",
   "execution_count": null,
   "id": "5fe86e4e",
   "metadata": {
    "lines_to_next_cell": 2,
    "warning": false
   },
   "outputs": [],
   "source": [
    "as_tibble(emmeans(models_q2$n_area_log,\n",
    "        pairwise ~ treatment,\n",
    "        adjust = \"tukey\"\n",
    "        )$contrast) %>%\n",
    "        mutate(across(2:6, round, 6)) %>%\n",
    "        kable()"
   ]
  },
  {
   "cell_type": "code",
   "execution_count": null,
   "id": "71e5ddcb",
   "metadata": {},
   "outputs": [],
   "source": [
    "# Treatment effects\n",
    "emmeans_table_tidy(models_q2$n_area_log,\n",
    "                        formula = \"treatment\",\n",
    "                        )"
   ]
  },
  {
   "cell_type": "code",
   "execution_count": null,
   "id": "feda3194",
   "metadata": {
    "warning": false
   },
   "outputs": [],
   "source": [
    "as_tibble(emmeans(models_q2$n_area_log,\n",
    "        pairwise ~ nfixer,\n",
    "        adjust = \"tukey\"\n",
    "        )$contrast) %>%\n",
    "        mutate(across(2:6, round, 6)) %>%\n",
    "        kable()"
   ]
  },
  {
   "cell_type": "code",
   "execution_count": null,
   "id": "b5b0e5b9",
   "metadata": {
    "warning": false
   },
   "outputs": [],
   "source": [
    "# Treatment effects\n",
    "as.data.frame(emmeans::emmeans(models_q2$n_area_log,\n",
    "                                specs = pairwise ~nfixer,\n",
    "                                type = \"response\",\n",
    "                                adjust = \"tukey\")$emmeans) %>%\n",
    "\n",
    "        janitor::clean_names() %>%\n",
    "        dplyr::select(response, everything(),\n",
    "                        # Remove variables\n",
    "                      -c(df, lower_cl, upper_cl, se)) %>%\n",
    "\n",
    "        # Rename response to emmean, this is done when models is log\n",
    "        dplyr::rename_all(funs(stringr::str_replace_all(., \"response\", \"emmean\"))) %>%\n",
    "\n",
    "        # Calculate % difference between control and variable, this assume that\n",
    "        # that first name is the control\n",
    "\n",
    "        dplyr::mutate(difference = ((emmean - first(emmean))),\n",
    "               perc_difference =((emmean - first(emmean) )/first(emmean))*100) %>%\n",
    "\n",
    "        dplyr::mutate_if(is.numeric, round, 3)"
   ]
  },
  {
   "cell_type": "markdown",
   "id": "c20b1869",
   "metadata": {},
   "source": [
    "### Nodule weight"
   ]
  },
  {
   "cell_type": "code",
   "execution_count": null,
   "id": "7f4de649",
   "metadata": {},
   "outputs": [],
   "source": [
    "as_tibble(emmeans(models_q2$nodule_weight,\n",
    "        pairwise ~ treatment,\n",
    "        adjust = \"tukey\"\n",
    "        )$contrast) %>%\n",
    "        mutate(across(2:6, round, 6)) %>%\n",
    "        kable()"
   ]
  },
  {
   "cell_type": "code",
   "execution_count": null,
   "id": "c60e6b98",
   "metadata": {},
   "outputs": [],
   "source": [
    "# Treatment effects\n",
    "emmeans_table_tidy(models_q2$nodule_weight,\n",
    "                        formula = \"treatment\")"
   ]
  },
  {
   "cell_type": "markdown",
   "id": "5b599f5a",
   "metadata": {},
   "source": [
    "### Nodule Count"
   ]
  },
  {
   "cell_type": "code",
   "execution_count": null,
   "id": "052a062a",
   "metadata": {},
   "outputs": [],
   "source": [
    "as_tibble(emmeans(models_q2$nodule_count,\n",
    "        pairwise ~ treatment,\n",
    "        adjust = \"tukey\"\n",
    "        )$contrast) %>%\n",
    "        mutate(across(2:6, round, 6)) %>%\n",
    "        kable()"
   ]
  },
  {
   "cell_type": "code",
   "execution_count": null,
   "id": "b1766fbc",
   "metadata": {
    "lines_to_next_cell": 2
   },
   "outputs": [],
   "source": [
    "# Treatment effects\n",
    "emmeans_table_tidy(models_q2$nodule_count,\n",
    "                        formula = \"treatment\")"
   ]
  },
  {
   "cell_type": "markdown",
   "id": "522fbb86",
   "metadata": {},
   "source": [
    "### Plant investment to nodule \n",
    "Plant investment to nodule did not responded to any of the treatments applied \n",
    "so no post hoc test was performed."
   ]
  },
  {
   "cell_type": "markdown",
   "id": "c39484c9",
   "metadata": {},
   "source": [
    "### Boxplots\n",
    "\n",
    "#### Boxplots traits"
   ]
  },
  {
   "cell_type": "code",
   "execution_count": null,
   "id": "24828ff7",
   "metadata": {
    "warning": false
   },
   "outputs": [],
   "source": [
    "# Step done for getting predictions from models for Q2\n",
    "data_for_predictions <-\n",
    "    data_for_models %>%\n",
    "\n",
    "        rownames_to_column(\"id\") %>%\n",
    "\n",
    "        # Remove unused variables\n",
    "        dplyr::select(id, spcode, treatment, nfixer, init_height)"
   ]
  },
  {
   "cell_type": "code",
   "execution_count": null,
   "id": "f207f3ce",
   "metadata": {
    "warning": false
   },
   "outputs": [],
   "source": [
    "string <- c(\"models_q2\")\n",
    "\n",
    "data_pred_traits <-\n",
    "\n",
    "        # Get models prediction\n",
    "        gather_predictions(data_for_predictions ,\n",
    "\n",
    "                           # Return predictions\n",
    "                            models_q2$amax,\n",
    "                            models_q2$sla,\n",
    "                            models_q2$gs,\n",
    "                            models_q2$wue_log,\n",
    "                            models_q2$pnue_log,\n",
    "                            models_q2$n_area_log\n",
    "\n",
    "                            ) %>%\n",
    "\n",
    "        pivot_wider(names_from = model, values_from = pred) %>%\n",
    "            rename_all(funs(\n",
    "\n",
    "                # rename columns\n",
    "                stringr::str_to_lower(.) %>%\n",
    "                stringr::str_replace(., c(string),\"pred_\") %>%\n",
    "\n",
    "                # Remove dollar sing\n",
    "                gsub(\"\\\\$\", \"\", .)\n",
    "                )) %>%\n",
    "\n",
    "        # Back transform log variables\n",
    "        mutate(pred_wue = exp(pred_wue_log),\n",
    "                pred_n_area = exp(pred_n_area_log),\n",
    "                pred_pnue =  exp(pred_pnue_log),\n",
    "\n",
    "            ) %>%\n",
    "\n",
    "        # Remove log predictions and init height\n",
    "        dplyr::select(-c(init_height, pred_wue_log, pred_n_area_log))"
   ]
  },
  {
   "cell_type": "code",
   "execution_count": null,
   "id": "e4c97abe",
   "metadata": {
    "warning": false
   },
   "outputs": [],
   "source": [
    "# Generate plot combinations\n",
    "\n",
    "vars_q2_interaction <-\n",
    "\n",
    "  crossing(\n",
    "\n",
    "    # Get all numeric variables to plot (all y)\n",
    "    as_tibble(t(combn(dplyr::select(data_pred_traits, where(is.numeric)) %>% names, 1))),\n",
    "\n",
    "    # Select factor variables to plot\n",
    "    x_axis_var = dplyr::select(data_pred_traits, nfixer) %>%  names,\n",
    "    group_var = dplyr::select(data_pred_traits, treatment) %>%  names) %>%\n",
    "\n",
    "    filter(V1 %in% c('pred_amax', 'pred_wue'))"
   ]
  },
  {
   "cell_type": "code",
   "execution_count": null,
   "id": "14d8a512",
   "metadata": {
    "dpi": 350,
    "fig.align": "center",
    "name": "q2_fig_2_traits_interaction",
    "out.height": 500,
    "out.width": 1000
   },
   "outputs": [],
   "source": [
    "vars_q2_interaction %>%\n",
    "      # Gererate plots\n",
    "      pmap( ~ boxplot_plot_pmap(data = data_pred_traits,\n",
    "                                y = !!sym(..1), x = !!sym(..2),\n",
    "                                fill = !!sym(..3)))"
   ]
  },
  {
   "cell_type": "code",
   "execution_count": null,
   "id": "22d85918",
   "metadata": {
    "lines_to_next_cell": 2,
    "warning": false
   },
   "outputs": [],
   "source": [
    "vars_q2_treatment <-\n",
    "\n",
    "  crossing(\n",
    "\n",
    "    # Get all numeric variables to plot (all y)\n",
    "    as_tibble(t(combn(dplyr::select(data_pred_traits, where(is.numeric)) %>% names, 1))),\n",
    "\n",
    "    # Select factor variables to plot\n",
    "    x_axis_var = dplyr::select(data_pred_traits, treatment) %>%  names,\n",
    "    group_var = dplyr::select(data_pred_traits, treatment) %>%  names) %>%\n",
    "\n",
    "    filter(V1 %in% c('pred_gs', 'pred_n_area', 'pred_pnue' ))"
   ]
  },
  {
   "cell_type": "code",
   "execution_count": null,
   "id": "a8cbeadf",
   "metadata": {
    "dpi": 350,
    "fig.align": "center",
    "name": "q2_fig_3_traits_treatment",
    "out.height": 500,
    "out.width": 1000
   },
   "outputs": [],
   "source": [
    "vars_q2_treatment %>%\n",
    "      # Gererate plots\n",
    "      pmap( ~ boxplot_plot_pmap(data = data_pred_traits,\n",
    "                                y = !!sym(..1), x = !!sym(..2),\n",
    "                                fill = !!sym(..3)))"
   ]
  },
  {
   "cell_type": "markdown",
   "id": "393f9a16",
   "metadata": {},
   "source": [
    "#### Boxplots Nodules"
   ]
  },
  {
   "cell_type": "code",
   "execution_count": null,
   "id": "ec5c6cf8",
   "metadata": {
    "lines_to_next_cell": 2
   },
   "outputs": [],
   "source": [
    "data_for_nodule_predictions <- \n",
    "        data_nodules_cleaned %>%\n",
    "\n",
    "        rownames_to_column(\"id\") %>%\n",
    "\n",
    "        # Remove unused variables\n",
    "        dplyr::select(id, spcode, treatment, init_height)"
   ]
  },
  {
   "cell_type": "code",
   "execution_count": null,
   "id": "09f3eec0",
   "metadata": {},
   "outputs": [],
   "source": [
    "string <- c(\"models_q2\")\n",
    "\n",
    "data_pred_nodules <-\n",
    "\n",
    "        # Get models prediction\n",
    "        gather_predictions(data_for_nodule_predictions,\n",
    "\n",
    "                           # Return predictions\n",
    "                            models_q2$nodule_count,\n",
    "                            models_q2$nodule_weight) %>% \n",
    "\n",
    "        pivot_wider(names_from = model, values_from = pred) %>%\n",
    "            rename_all(funs(\n",
    "\n",
    "                # rename columns\n",
    "                stringr::str_to_lower(.) %>%\n",
    "                stringr::str_replace(., c(string),\"pred_\") %>%\n",
    "\n",
    "                # Remove dollar sing\n",
    "                gsub(\"\\\\$\", \"\", .)\n",
    "                ))  %>% \n",
    "        \n",
    "        # Back transform log variables\n",
    "        mutate(pred_nodule_count = exp(pred_nodule_count)) %>% \n",
    "\n",
    "        # Remove log predictions and init height\n",
    "        dplyr::select(-c(init_height))"
   ]
  },
  {
   "cell_type": "code",
   "execution_count": null,
   "id": "a46621ca",
   "metadata": {},
   "outputs": [],
   "source": [
    "# Generate plot combinations\n",
    "\n",
    "vars_q2_nodules <-\n",
    "\n",
    "  crossing(\n",
    "\n",
    "    # Get all numeric variables to plot (all y)\n",
    "    as_tibble(t(combn(dplyr::select(data_pred_nodules, where(is.numeric)) %>% names, 1))),\n",
    "\n",
    "    # Select factor variables to plot\n",
    "    x_axis_var = dplyr::select(data_pred_nodules, treatment) %>%  names,\n",
    "    group_var = dplyr::select(data_pred_nodules, treatment) %>%  names) "
   ]
  },
  {
   "cell_type": "code",
   "execution_count": null,
   "id": "a204ed2e",
   "metadata": {
    "dpi": 350,
    "fig.align": "center",
    "lines_to_next_cell": 0,
    "name": "q2_fig_4_noudle",
    "out.height": 500,
    "out.width": 1000
   },
   "outputs": [],
   "source": [
    "vars_q2_nodules %>%\n",
    "      # Gererate plots\n",
    "      pmap( ~ boxplot_plot_pmap(data = data_pred_nodules,\n",
    "                                y = !!sym(..1), x = !!sym(..2),\n",
    "                                fill = !!sym(..3)))"
   ]
  },
  {
   "cell_type": "markdown",
   "id": "230ed945",
   "metadata": {},
   "source": []
  }
 ],
 "metadata": {
  "jupytext": {
   "cell_metadata_filter": "out.height,fig.align,tags,name,warning,out.width,dpi,message,cache,-all",
   "main_language": "R",
   "notebook_metadata_filter": "-all"
  }
 },
 "nbformat": 4,
 "nbformat_minor": 5
}
