{
 "cells": [
  {
   "cell_type": "raw",
   "id": "ace7d99b",
   "metadata": {},
   "source": [
    "---\n",
    "title: 'Models for Q2'\n",
    "author: \"Erick Calderon-Morales and Leland Werden\"\n",
    "date: ''\n",
    "due_date: \"\"\n",
    "output:\n",
    "  prettydoc::html_pretty:\n",
    "    highlight: pygments\n",
    "    theme: tactile\n",
    "    toc: yes\n",
    "    number_sections: no\n",
    "    toc_depth: 1\n",
    "---"
   ]
  },
  {
   "cell_type": "code",
   "execution_count": null,
   "id": "f4b56e0c",
   "metadata": {
    "lines_to_next_cell": 2,
    "name": "knitr",
    "tags": [
     "remove_cell"
    ]
   },
   "outputs": [],
   "source": [
    "\n",
    "# Save figures in specific place\n",
    "\n",
    "knitr::opts_chunk$set(autodep        = TRUE,\n",
    "                      cache          = FALSE,\n",
    "                      cache.comments = TRUE,\n",
    "\n",
    "                      # Save figures as pdf ?\n",
    "                      dev = c(\"png\", \"pdf\"),\n",
    "\n",
    "                      # Include code?\n",
    "                      echo           = TRUE,\n",
    "                      warning = FALSE,\n",
    "\n",
    "                      error          = FALSE,\n",
    "                      fig.align      = \"center\",\n",
    "\n",
    "                      # Path where figures are going to be store pdf single\n",
    "                      # figures\n",
    "                      fig.path       = paste0(\"./figures\", \"/\"),\n",
    "                      fig.width      = 11,\n",
    "                      fig.height     = 7,\n",
    "                      message        = FALSE)\n",
    "\n",
    "# set to two decimal\n",
    "options(scipen = 1, digits = 4)"
   ]
  },
  {
   "cell_type": "code",
   "execution_count": null,
   "id": "f6a69133",
   "metadata": {
    "cache": false,
    "message": false,
    "name": "libaries",
    "warning": false
   },
   "outputs": [],
   "source": [
    "library(dplyr)\n",
    "library(nlme)\n",
    "library(purrr)\n",
    "library(performance)\n",
    "library(tibble)\n",
    "library(here)\n",
    "library(reactablefmtr)\n",
    "library(reactable)\n",
    "library(emmeans)\n",
    "library(car)\n",
    "library(ggplot2)\n",
    "library(modelr)\n",
    "library(knitr)\n",
    "library(glmmTMB)"
   ]
  },
  {
   "cell_type": "code",
   "execution_count": null,
   "id": "48bdaeb1",
   "metadata": {
    "name": "setup",
    "tags": [
     "remove_cell"
    ]
   },
   "outputs": [],
   "source": [
    "# Set knit directory\n",
    "setwd(here::here())\n",
    "knitr::opts_knit$set(root.dir = setwd(here::here()))\n",
    "getwd()"
   ]
  },
  {
   "cell_type": "markdown",
   "id": "03307741",
   "metadata": {},
   "source": [
    "# Load functions and data"
   ]
  },
  {
   "cell_type": "code",
   "execution_count": null,
   "id": "462f2692",
   "metadata": {
    "message": false,
    "warning": false
   },
   "outputs": [],
   "source": [
    "# Load all joined dataset\n",
    "source(\"./scripts/code_join_data_full_dataset.R\")\n",
    "\n",
    "# Step was done like this because I am working with a subset of the data\n",
    "# source cleaned data\n",
    "source(\"./scripts/code_clean_data_nodules.R\")"
   ]
  },
  {
   "cell_type": "code",
   "execution_count": null,
   "id": "ac4696ee",
   "metadata": {
    "message": false,
    "warning": false
   },
   "outputs": [],
   "source": [
    "# Load custom made functions\n",
    "source(\"./R/functions_models.R\")\n",
    "source(\"./R/function_plots.R\")\n",
    "source(\"./R/function_validation_plots.R\")\n",
    "source(\"./R/function_for_inference_emmeans_and_percentage_diff.R\")"
   ]
  },
  {
   "cell_type": "markdown",
   "id": "e030c825",
   "metadata": {},
   "source": [
    "__Q2: How does increased nutrient and/or water availability influence seedling\n",
    "water- and nutrient-use traits and the relationships with N-fixing bacteria?__\n",
    "\n",
    "# Model fitting\n",
    "\n",
    "## Traits"
   ]
  },
  {
   "cell_type": "code",
   "execution_count": null,
   "id": "7ed53cb8",
   "metadata": {},
   "outputs": [],
   "source": [
    "# Take response variables names\n",
    "response_vars_q2 <-\n",
    "  set_names(c(\"amax\", \"gs\", \"sla\"))"
   ]
  },
  {
   "cell_type": "code",
   "execution_count": null,
   "id": "cbccd922",
   "metadata": {},
   "outputs": [],
   "source": [
    "## Create empty list\n",
    "models_q2 <- list()"
   ]
  },
  {
   "cell_type": "code",
   "execution_count": null,
   "id": "6c3b62f4",
   "metadata": {},
   "outputs": [],
   "source": [
    "model_q2_amax <- lme(amax ~ nfixer*treatment +init_height,\n",
    "                                        random = ~1|spcode,\n",
    "                                        data = data_for_models)\n",
    "\n",
    "model_q2_amax <- list(model_q2_amax)\n",
    "\n",
    "names(model_q2_amax) <- \"amax\"\n",
    "\n"
   ]
  },
  {
   "cell_type": "code",
   "execution_count": null,
   "id": "94fc1782",
   "metadata": {},
   "outputs": [],
   "source": [
    "model_q2_gs <- lme(gs ~ nfixer*treatment +init_height,\n",
    "                                        random = ~1|spcode,\n",
    "                                        data = data_for_models)\n",
    "\n",
    "model_q2_gs <- list(model_q2_gs)\n",
    "\n",
    "names(model_q2_gs) <- \"gs\"\n"
   ]
  },
  {
   "cell_type": "code",
   "execution_count": null,
   "id": "79927774",
   "metadata": {},
   "outputs": [],
   "source": [
    "model_q2_sla <- lme(sla ~ nfixer*treatment +init_height,\n",
    "                                        random = ~1|spcode,\n",
    "                                        data = data_for_models)\n",
    "\n",
    "model_q2_sla <- list(model_q2_sla)\n",
    "\n",
    "names(model_q2_sla) <- \"sla\"                      "
   ]
  },
  {
   "cell_type": "code",
   "execution_count": null,
   "id": "5b1aa3f5",
   "metadata": {},
   "outputs": [],
   "source": [
    "## PNUE\n",
    "model_q2_pnue_log <- lme(log(pnue) ~ nfixer*treatment +init_height,\n",
    "                                        random = ~1|spcode,\n",
    "                                        data = data_for_models)\n",
    "\n",
    "model_q2_pnue_log <- list(model_q2_pnue_log)\n",
    "\n",
    "names(model_q2_pnue_log) <- \"pnue_log\""
   ]
  },
  {
   "cell_type": "code",
   "execution_count": null,
   "id": "dbb519f4",
   "metadata": {},
   "outputs": [],
   "source": [
    "model_q2_pnue_nlme <- lme(pnue ~ nfixer*treatment + init_height,\n",
    "                                        random = ~1|spcode,\n",
    "                                        weights = varIdent(form = ~1|spcode*treatment),\n",
    "                                        data = data_for_models)\n",
    "\n",
    "model_q2_pnue_nlme <- list(model_q2_pnue_nlme)\n",
    "\n",
    "names(model_q2_pnue_nlme) <- \"pnue_nlme\"\n"
   ]
  },
  {
   "cell_type": "code",
   "execution_count": null,
   "id": "173ca6b7",
   "metadata": {
    "lines_to_next_cell": 2
   },
   "outputs": [],
   "source": [
    "## Narea_g_m2 log model\n",
    "model_q2_n_area_log <- lme(log(narea_g_m2) ~ nfixer*treatment + init_height,\n",
    "                                                random = ~1|spcode,\n",
    "                                                data = data_for_models)\n",
    "\n",
    "model_q2_n_area_log <- list(model_q2_n_area_log)\n",
    "\n",
    "names(model_q2_n_area_log) <- \"n_area_log\""
   ]
  },
  {
   "cell_type": "code",
   "execution_count": null,
   "id": "2835705b",
   "metadata": {
    "lines_to_next_cell": 2
   },
   "outputs": [],
   "source": [
    "model_q2_n_area_nlme <- lme(narea_g_m2 ~ nfixer*treatment + init_height,\n",
    "                                        random = ~1|spcode,\n",
    "                                        weights = varIdent(form = ~1|spcode*treatment),\n",
    "                                        data = data_for_models)\n",
    "\n",
    "model_q2_n_area_nlme <- list(model_q2_n_area_nlme)\n",
    "\n",
    "names(model_q2_n_area_nlme) <- \"n_area_nlme\"\n"
   ]
  },
  {
   "cell_type": "code",
   "execution_count": null,
   "id": "d2c2db1e",
   "metadata": {},
   "outputs": [],
   "source": [
    "## WUE log model\n",
    "model_q2_wue_log <- lme(log(wue) ~ nfixer*treatment + init_height,\n",
    "                                        random = ~1|spcode,\n",
    "                                        data = data_for_models)\n",
    "\n",
    "model_q2_wue_log <- list(model_q2_wue_log)\n",
    "\n",
    "names(model_q2_wue_log) <- \"wue_log\""
   ]
  },
  {
   "cell_type": "code",
   "execution_count": null,
   "id": "648d6d9e",
   "metadata": {},
   "outputs": [],
   "source": [
    "model_q2_wue_nlme <- lme(wue ~ nfixer*treatment + init_height,\n",
    "                                        random = ~1|spcode,\n",
    "                                        weights = varIdent(form = ~1|spcode*treatment),\n",
    "                                        data = data_for_models)\n",
    "\n",
    "model_q2_wue_nlme <- list(model_q2_wue_nlme)\n",
    "\n",
    "names(model_q2_wue_nlme) <- \"wue_nlme\""
   ]
  },
  {
   "cell_type": "markdown",
   "id": "4cd137db",
   "metadata": {},
   "source": [
    "## Nodule colonization data"
   ]
  },
  {
   "cell_type": "code",
   "execution_count": null,
   "id": "a69245b8",
   "metadata": {},
   "outputs": [],
   "source": [
    "# Delete unused variables\n",
    "data_nodules_cleaned <-\n",
    "    data_nodules_cleaned %>%\n",
    "\n",
    "        # add id to rownames for keep track of the rows\n",
    "        column_to_rownames(\"id\") %>%\n",
    "        dplyr::select(spcode, treatment, everything())"
   ]
  },
  {
   "cell_type": "markdown",
   "id": "d971e4b4",
   "metadata": {},
   "source": [
    "### Nodule weight"
   ]
  },
  {
   "cell_type": "code",
   "execution_count": null,
   "id": "2b62a445",
   "metadata": {},
   "outputs": [],
   "source": [
    "nlme_nodule_weight <- lme(estimated_total_nodule_mass_per_plant ~ treatment + init_height,\n",
    "                                    random = ~1|spcode,\n",
    "                                    weights = varIdent(form = ~1|spcode*treatment),\n",
    "                                    data = data_nodules_cleaned)\n",
    "\n",
    "\n",
    "model_q2_nodule_weight <- list(nlme_nodule_weight)\n",
    "\n",
    "names(model_q2_nodule_weight) <- \"nodule_weight\""
   ]
  },
  {
   "cell_type": "markdown",
   "id": "f9de1c67",
   "metadata": {
    "lines_to_next_cell": 0
   },
   "source": [
    "### Nodule count"
   ]
  },
  {
   "cell_type": "code",
   "execution_count": null,
   "id": "e1c00a34",
   "metadata": {},
   "outputs": [],
   "source": [
    "nlme_nodule_count <- lme(log(total_number_of_plant_nodules) ~ treatment + init_height,\n",
    "                                    random = ~1|spcode,\n",
    "                                    weights = varIdent(form = ~1|spcode),\n",
    "                                    data = data_nodules_cleaned)\n",
    "\n",
    "model_q2_nodule_count <- list(nlme_nodule_count)\n",
    "\n",
    "names(model_q2_nodule_count) <- \"nodule_count\""
   ]
  },
  {
   "cell_type": "markdown",
   "id": "efeb3bb1",
   "metadata": {},
   "source": [
    "#### Nodule count models with glmmTMB package"
   ]
  },
  {
   "cell_type": "code",
   "execution_count": null,
   "id": "2e161647",
   "metadata": {},
   "outputs": [],
   "source": [
    "rows <- \n",
    "        data_for_models  %>% \n",
    "        select(spcode,treatment, init_height) %>% \n",
    "        rownames_to_column(\"plant_id\") "
   ]
  },
  {
   "cell_type": "code",
   "execution_count": null,
   "id": "89633cd3",
   "metadata": {},
   "outputs": [],
   "source": [
    "# Add Zeros to non-fixing species\n",
    "zero_inflated_nodule_data <- \n",
    "        data_nodules_cleaned  %>% \n",
    "                select(spcode,treatment, total_number_of_plant_nodules, init_height) %>% \n",
    "                rownames_to_column(\"plant_id\") %>%  \n",
    "                full_join(., rows) %>%   \n",
    "                arrange(spcode)  %>% \n",
    "                replace_na(list(total_number_of_plant_nodules = 0)) %>% \n",
    "                select(-plant_id) %>% \n",
    "                mutate(treatment = factor(treatment), \n",
    "                        nfixer = if_else(spcode == \"dr\"|spcode == \"ec\"|\n",
    "                                        spcode == \"gs\",\n",
    "                        \"nfixer\", \"nonfixer\")\n",
    "                        )        \n"
   ]
  },
  {
   "cell_type": "markdown",
   "id": "3e558d2b",
   "metadata": {},
   "source": [
    "##### glmmTMB models"
   ]
  },
  {
   "cell_type": "code",
   "execution_count": null,
   "id": "505b59b5",
   "metadata": {},
   "outputs": [],
   "source": [
    "glmmtmb_negative_binomial_with_all_species <- glmmTMB(total_number_of_plant_nodules ~ treatment + \n",
    "                        init_height,\n",
    "                                \n",
    "\n",
    "\n",
    "                # This is a formula that describes how the probability of an \n",
    "                # extra zero (i.e., structural zero) will vary with predictors.\n",
    "                                 \n",
    "                ziformula = ~0, \n",
    "                family = nbinom1, \n",
    "                data = zero_inflated_nodule_data)"
   ]
  },
  {
   "cell_type": "code",
   "execution_count": null,
   "id": "e1c2e63a",
   "metadata": {},
   "outputs": [],
   "source": [
    "check_overdispersion(glmmtmb_negative_binomial_with_all_species)"
   ]
  },
  {
   "cell_type": "code",
   "execution_count": null,
   "id": "d9dc627c",
   "metadata": {},
   "outputs": [],
   "source": [
    "check_zeroinflation(glmmtmb_negative_binomial_with_all_species)"
   ]
  },
  {
   "cell_type": "code",
   "execution_count": null,
   "id": "2cb6bbe0",
   "metadata": {},
   "outputs": [],
   "source": [
    "# Model \n",
    "glmmtmb_negative_binomial_with_nfixers <- glmmTMB(total_number_of_plant_nodules ~ treatment + \n",
    "                        init_height,\n",
    "                                \n",
    "\n",
    "\n",
    "                # This is a formula that describes how the probability of an \n",
    "                # extra zero (i.e., structural zero) will vary with predictors.\n",
    "                                 \n",
    "                ziformula = ~0, \n",
    "                family = nbinom1, \n",
    "                data = data_nodules_cleaned)"
   ]
  },
  {
   "cell_type": "code",
   "execution_count": null,
   "id": "387db80b",
   "metadata": {},
   "outputs": [],
   "source": [
    "check_overdispersion(glmmtmb_negative_binomial_with_nfixers)"
   ]
  },
  {
   "cell_type": "code",
   "execution_count": null,
   "id": "93325d36",
   "metadata": {},
   "outputs": [],
   "source": [
    "# Model \n",
    "glmmtmb_log_gaussian_with_nfixers <- glmmTMB(log(total_number_of_plant_nodules) ~ treatment + \n",
    "                        init_height,\n",
    "                                \n",
    "\n",
    "                # This is a formula that describes how the probability of an \n",
    "                # extra zero (i.e., structural zero) will vary with predictors.\n",
    "                                 \n",
    "                ziformula = ~0, \n",
    "                family = gaussian, \n",
    "                data = data_nodules_cleaned)"
   ]
  },
  {
   "cell_type": "markdown",
   "id": "cf2b9fda",
   "metadata": {},
   "source": [
    "#### AIC values for glmmTMB models"
   ]
  },
  {
   "cell_type": "code",
   "execution_count": null,
   "id": "f7162688",
   "metadata": {},
   "outputs": [],
   "source": [
    "AIC(glmmtmb_negative_binomial_with_all_species)"
   ]
  },
  {
   "cell_type": "code",
   "execution_count": null,
   "id": "b5286354",
   "metadata": {},
   "outputs": [],
   "source": [
    "AIC(glmmtmb_negative_binomial_with_nfixers)"
   ]
  },
  {
   "cell_type": "code",
   "execution_count": null,
   "id": "82d8b2ce",
   "metadata": {},
   "outputs": [],
   "source": [
    "AIC(glmmtmb_log_gaussian_with_nfixers)"
   ]
  },
  {
   "cell_type": "markdown",
   "id": "673f41b5",
   "metadata": {},
   "source": [
    "### Nodule mass fraction"
   ]
  },
  {
   "cell_type": "code",
   "execution_count": null,
   "id": "4610718d",
   "metadata": {},
   "outputs": [],
   "source": [
    "# Get Nfixers biomass\n",
    "data_fixers_plant_biomass <- \n",
    "        data_for_models  %>% \n",
    "\n",
    "        # Filter only Nfixers\n",
    "        filter(nfixer == 'fixer') %>% \n",
    "\n",
    "        # Select only the columns that will be used\n",
    "        select(\"spcode\", \"treatment\", \"init_height\", \"total_biomass\") %>% \n",
    "\n",
    "        # Get plant's id\n",
    "        rownames_to_column(\"id\")"
   ]
  },
  {
   "cell_type": "code",
   "execution_count": null,
   "id": "d6e637bc",
   "metadata": {
    "lines_to_next_cell": 2
   },
   "outputs": [],
   "source": [
    "# Join datasets\n",
    "data_nodule_mass_fraction <- \n",
    "        data_nodules_cleaned  %>% \n",
    "\n",
    "                # Get plant's id\n",
    "                rownames_to_column(\"id\") %>% \n",
    "\n",
    "                # join data\n",
    "                dplyr::full_join(., data_fixers_plant_biomass, by = join_by(id, spcode, \n",
    "                                                                        treatment, \n",
    "                                                                        init_height)) %>% \n",
    "\n",
    "                # Remove NA's\n",
    "                drop_na() %>% \n",
    "\n",
    "                # Calculate nodule mass fraction\n",
    "                mutate(nodule_mass_ratio = (estimated_total_nodule_mass_per_plant / total_biomass)*100)"
   ]
  },
  {
   "cell_type": "code",
   "execution_count": null,
   "id": "6c5d8c43",
   "metadata": {},
   "outputs": [],
   "source": [
    "nlme_nodule_mass_ratio <- lme(log(nodule_mass_ratio) ~ treatment + init_height,\n",
    "                                    random = ~1|spcode,\n",
    "                                    weights = varIdent(form = ~1|spcode),\n",
    "                                    data = data_nodule_mass_fraction)\n",
    "\n",
    "model_q2_nodule_mass_ratio <- list(nlme_nodule_mass_ratio)\n",
    "\n",
    "names(model_q2_nodule_mass_ratio) <- \"nodule_mass_ratio\""
   ]
  },
  {
   "cell_type": "markdown",
   "id": "a0323ce7",
   "metadata": {
    "lines_to_next_cell": 0
   },
   "source": [
    "## Append all models into a single list"
   ]
  },
  {
   "cell_type": "code",
   "execution_count": null,
   "id": "f3b3671b",
   "metadata": {
    "lines_to_next_cell": 0
   },
   "outputs": [],
   "source": [
    "# Append models to model list\n",
    "models_q2 <- append(model_q2_amax, models_q2)\n",
    "models_q2 <- append(model_q2_gs, models_q2)\n",
    "models_q2 <- append(model_q2_sla, models_q2)\n",
    "\n",
    "models_q2 <- append(model_q2_n_area_log, models_q2)\n",
    "models_q2 <- append(model_q2_n_area_nlme, models_q2)\n",
    "\n",
    "models_q2 <- append(model_q2_pnue_log, models_q2)\n",
    "models_q2 <- append(model_q2_pnue_nlme, models_q2)\n",
    "\n",
    "models_q2 <- append(model_q2_wue_log, models_q2)\n",
    "models_q2 <- append(model_q2_wue_nlme, models_q2)\n",
    "\n",
    "models_q2 <- append(model_q2_nodule_count, models_q2)\n",
    "models_q2 <- append(model_q2_nodule_weight, models_q2)\n",
    "models_q2 <- append(model_q2_nodule_mass_ratio, models_q2)"
   ]
  },
  {
   "cell_type": "markdown",
   "id": "428eabbf",
   "metadata": {},
   "source": [
    "glmmTMB\n",
    "\n",
    "## Maximal photosynthesis"
   ]
  },
  {
   "cell_type": "code",
   "execution_count": null,
   "id": "f41af4be",
   "metadata": {
    "dpi": 350,
    "fig.align": "center",
    "name": "q2_validation_model_plot_amax",
    "out.height": 500,
    "out.width": 1000
   },
   "outputs": [],
   "source": [
    "validation_plots(models_q2$amax, data = data_for_models, group = \"spcode\")"
   ]
  },
  {
   "cell_type": "markdown",
   "id": "a053d4ea",
   "metadata": {},
   "source": [
    "## Stomatal Conductance"
   ]
  },
  {
   "cell_type": "code",
   "execution_count": null,
   "id": "b3d0a9d4",
   "metadata": {
    "dpi": 350,
    "fig.align": "center",
    "name": "q2_validation_model_plot_gs",
    "out.height": 500,
    "out.width": 1000
   },
   "outputs": [],
   "source": [
    "validation_plots(models_q2$gs, data = data_for_models, group = \"spcode\")"
   ]
  },
  {
   "cell_type": "markdown",
   "id": "337a1bdb",
   "metadata": {},
   "source": [
    "## SLA"
   ]
  },
  {
   "cell_type": "code",
   "execution_count": null,
   "id": "0f17ff18",
   "metadata": {
    "dpi": 350,
    "fig.align": "center",
    "name": "q2_validation_model_plot_sla",
    "out.height": 500,
    "out.width": 1000
   },
   "outputs": [],
   "source": [
    "validation_plots(models_q2$sla, data = data_for_models, group = \"spcode\")"
   ]
  },
  {
   "cell_type": "markdown",
   "id": "cd21ba19",
   "metadata": {},
   "source": [
    "## Water Use Efficiency"
   ]
  },
  {
   "cell_type": "code",
   "execution_count": null,
   "id": "47589f89",
   "metadata": {
    "dpi": 350,
    "fig.align": "center",
    "name": "q2_validation_model_plot_wue",
    "out.height": 500,
    "out.width": 1000
   },
   "outputs": [],
   "source": [
    "validation_plots(models_q2$wue_log, data = data_for_models, group = \"spcode\")"
   ]
  },
  {
   "cell_type": "code",
   "execution_count": null,
   "id": "6309569c",
   "metadata": {
    "dpi": 350,
    "fig.align": "center",
    "name": "q2_validation_model_plot_wue_nlme",
    "out.height": 500,
    "out.width": 1000
   },
   "outputs": [],
   "source": [
    "validation_plots(models_q2$wue_nlme, data = data_for_models, group = \"spcode\")"
   ]
  },
  {
   "cell_type": "markdown",
   "id": "1728b2d8",
   "metadata": {},
   "source": [
    "## PNUE"
   ]
  },
  {
   "cell_type": "code",
   "execution_count": null,
   "id": "904793a3",
   "metadata": {
    "dpi": 350,
    "fig.align": "center",
    "name": "q2_validation_model_plot_pnue",
    "out.height": 500,
    "out.width": 1000
   },
   "outputs": [],
   "source": [
    "validation_plots(models_q2$pnue_log, data = data_for_models, group = \"spcode\")"
   ]
  },
  {
   "cell_type": "code",
   "execution_count": null,
   "id": "c233bc44",
   "metadata": {
    "dpi": 350,
    "fig.align": "center",
    "name": "q2_validation_model_plot_pnue_nlme",
    "out.height": 500,
    "out.width": 1000
   },
   "outputs": [],
   "source": [
    "validation_plots(models_q2$pnue_nlme, data = data_for_models, group = \"spcode\")"
   ]
  },
  {
   "cell_type": "markdown",
   "id": "6c8c2f65",
   "metadata": {},
   "source": [
    "## Nitrogen concentration per unit of area"
   ]
  },
  {
   "cell_type": "code",
   "execution_count": null,
   "id": "8d912532",
   "metadata": {
    "dpi": 350,
    "fig.align": "center",
    "name": "q2_validation_model_plot_n_area",
    "out.height": 500,
    "out.width": 1000
   },
   "outputs": [],
   "source": [
    "validation_plots(models_q2$n_area_log, data = data_for_models, group = \"spcode\")"
   ]
  },
  {
   "cell_type": "code",
   "execution_count": null,
   "id": "0b524af4",
   "metadata": {
    "dpi": 350,
    "fig.align": "center",
    "name": "q2_validation_model_plot_n_area_nlme",
    "out.height": 500,
    "out.width": 1000
   },
   "outputs": [],
   "source": [
    "validation_plots(models_q2$n_area_nlme, data = data_for_models, group = \"spcode\")"
   ]
  },
  {
   "cell_type": "markdown",
   "id": "a6e7f697",
   "metadata": {},
   "source": [
    "## Nodule weight"
   ]
  },
  {
   "cell_type": "code",
   "execution_count": null,
   "id": "8fb3fe90",
   "metadata": {
    "dpi": 350,
    "fig.align": "center",
    "name": "q2_validation_model_plot_nodule_weight",
    "out.height": 500,
    "out.width": 1000
   },
   "outputs": [],
   "source": [
    "validation_plots(models_q2$nodule_weight, data = data_nodules_cleaned, group = \"treatment\")"
   ]
  },
  {
   "cell_type": "markdown",
   "id": "90ff8894",
   "metadata": {},
   "source": [
    "## Nodule count"
   ]
  },
  {
   "cell_type": "code",
   "execution_count": null,
   "id": "71f8996f",
   "metadata": {
    "dpi": 350,
    "fig.align": "center",
    "name": "q2_validation_model_plot_nodule_count",
    "out.height": 500,
    "out.width": 1000
   },
   "outputs": [],
   "source": [
    "validation_plots(models_q2$nodule_count, data = data_nodules_cleaned, group = 'spcode')"
   ]
  },
  {
   "cell_type": "markdown",
   "id": "401a521a",
   "metadata": {},
   "source": [
    "## Nodule mass fraction "
   ]
  },
  {
   "cell_type": "code",
   "execution_count": null,
   "id": "73603d87",
   "metadata": {
    "dpi": 350,
    "fig.align": "center",
    "name": "q2_validation_model_plot_nodule_mass_fraction",
    "out.height": 500,
    "out.width": 1000
   },
   "outputs": [],
   "source": [
    "validation_plots(models_q2$nodule_count, data = data_nodules_cleaned, group = 'spcode')"
   ]
  },
  {
   "cell_type": "markdown",
   "id": "b04584a5",
   "metadata": {},
   "source": [
    "# Model inference"
   ]
  },
  {
   "cell_type": "code",
   "execution_count": null,
   "id": "5b150bbe",
   "metadata": {},
   "outputs": [],
   "source": [
    "## r2 models\n",
    "models_q2 %>%\n",
    "    map(., r2_nakagawa) %>%\n",
    "    unlist()"
   ]
  },
  {
   "cell_type": "code",
   "execution_count": null,
   "id": "0e9d0fbc",
   "metadata": {},
   "outputs": [],
   "source": [
    "## r2 models\n",
    "models_q2 %>%\n",
    "    map(., AIC) %>%\n",
    "    unlist()"
   ]
  },
  {
   "cell_type": "markdown",
   "id": "a59e130f",
   "metadata": {},
   "source": [
    "## Anova tables"
   ]
  },
  {
   "cell_type": "code",
   "execution_count": null,
   "id": "6d7a58e0",
   "metadata": {},
   "outputs": [],
   "source": [
    "map(models_q2, ~anova.lme(.x, type = \"marginal\"))"
   ]
  },
  {
   "cell_type": "markdown",
   "id": "da246bf6",
   "metadata": {},
   "source": [
    "## Post-Hoc: Tukey's test\n",
    "\n",
    "### Maximal photosynthesis"
   ]
  },
  {
   "cell_type": "code",
   "execution_count": null,
   "id": "60793f14",
   "metadata": {
    "warning": false
   },
   "outputs": [],
   "source": [
    "as_tibble(emmeans(models_q2$amax,\n",
    "        pairwise ~ treatment*nfixer,\n",
    "        adjust = \"tukey\"\n",
    "        )$contrast) %>%\n",
    "        mutate(across(2:6, round, 6)) %>%\n",
    "        kable()"
   ]
  },
  {
   "cell_type": "code",
   "execution_count": null,
   "id": "0d912878",
   "metadata": {},
   "outputs": [],
   "source": [
    "# Treatment effects\n",
    "emmeans_table_tidy(models_q2$amax,\n",
    "                        formula = \"treatment|nfixer\",\n",
    "                        grouping_var = \"nfixer\")"
   ]
  },
  {
   "cell_type": "markdown",
   "id": "deeee7ec",
   "metadata": {},
   "source": [
    "### Water Use Efficiency"
   ]
  },
  {
   "cell_type": "code",
   "execution_count": null,
   "id": "0a3b3a63",
   "metadata": {
    "warning": false
   },
   "outputs": [],
   "source": [
    "as_tibble(emmeans(models_q2$wue_log,\n",
    "        pairwise ~ treatment*nfixer,\n",
    "        adjust = \"tukey\"\n",
    "        )$contrast) %>%\n",
    "        mutate(across(2:6, round, 6)) %>%\n",
    "        kable() "
   ]
  },
  {
   "cell_type": "code",
   "execution_count": null,
   "id": "da6f091a",
   "metadata": {},
   "outputs": [],
   "source": [
    "# Treatment effects\n",
    "emmeans_table_tidy(models_q2$wue_log,\n",
    "                        formula = \"treatment|nfixer\",\n",
    "                        grouping_var = \"nfixer\")"
   ]
  },
  {
   "cell_type": "code",
   "execution_count": null,
   "id": "f6d84bfb",
   "metadata": {
    "warning": false
   },
   "outputs": [],
   "source": [
    "as_tibble(emmeans(models_q2$wue_log,\n",
    "        pairwise ~ nfixer,\n",
    "        adjust = \"tukey\"\n",
    "        )$contrast) %>%\n",
    "        mutate(across(2:6, round, 6)) %>%\n",
    "        kable()"
   ]
  },
  {
   "cell_type": "code",
   "execution_count": null,
   "id": "c50e0ddb",
   "metadata": {
    "warning": false
   },
   "outputs": [],
   "source": [
    "# Treatment effects\n",
    "as.data.frame(emmeans::emmeans(models_q2$wue_log,\n",
    "                                specs = pairwise ~nfixer,\n",
    "                                type = \"response\",\n",
    "                                adjust = \"tukey\")$emmeans) %>%\n",
    "\n",
    "        janitor::clean_names() %>%\n",
    "        dplyr::select(response, everything(),\n",
    "                        # Remove variables\n",
    "                      -c(df, lower_cl, upper_cl, se)) %>%\n",
    "\n",
    "        # Rename response to emmean, this is done when models is log\n",
    "        dplyr::rename_all(funs(stringr::str_replace_all(., \"response\", \"emmean\"))) %>% \n",
    "\n",
    "        # Calculate % difference between control and variable, this assume that\n",
    "        # that first name is the control\n",
    "\n",
    "        dplyr::mutate(difference = ((emmean - first(emmean))),\n",
    "               perc_difference =((emmean - first(emmean) )/first(emmean))*100) %>%\n",
    "\n",
    "        dplyr::mutate_if(is.numeric, round, 3)"
   ]
  },
  {
   "cell_type": "markdown",
   "id": "3187fc15",
   "metadata": {
    "lines_to_next_cell": 0
   },
   "source": [
    "### Stomatal Conductance"
   ]
  },
  {
   "cell_type": "code",
   "execution_count": null,
   "id": "de77aa28",
   "metadata": {
    "warning": false
   },
   "outputs": [],
   "source": [
    "as_tibble(emmeans(models_q2$gs,\n",
    "        pairwise ~ treatment,\n",
    "        adjust = \"tukey\"\n",
    "        )$contrast) %>%\n",
    "        mutate(across(2:6, round, 6)) %>%\n",
    "        kable() "
   ]
  },
  {
   "cell_type": "code",
   "execution_count": null,
   "id": "e06a94cb",
   "metadata": {},
   "outputs": [],
   "source": [
    "# Treatment effects\n",
    "emmeans_table_tidy(models_q2$gs,\n",
    "                        formula = \"treatment\",\n",
    "                        )"
   ]
  },
  {
   "cell_type": "markdown",
   "id": "75bfeee7",
   "metadata": {},
   "source": [
    "### SLA \n",
    "\n",
    "SLA did not responded to any of the treatments nor varied between nfixers and \n",
    "non-fixing species so no post hoc test was performed.\n",
    "\n",
    "### PNUE"
   ]
  },
  {
   "cell_type": "code",
   "execution_count": null,
   "id": "ff413617",
   "metadata": {
    "warning": false
   },
   "outputs": [],
   "source": [
    "as_tibble(emmeans(models_q2$pnue_log,\n",
    "        pairwise ~ treatment,\n",
    "        adjust = \"tukey\"\n",
    "        )$contrast) %>%\n",
    "        mutate(across(2:6, round, 6)) %>%\n",
    "        kable()"
   ]
  },
  {
   "cell_type": "code",
   "execution_count": null,
   "id": "9002827d",
   "metadata": {},
   "outputs": [],
   "source": [
    "# Treatment effects\n",
    "emmeans_table_tidy(models_q2$pnue_log,\n",
    "                        formula = \"treatment\",\n",
    "                        )"
   ]
  },
  {
   "cell_type": "markdown",
   "id": "b6b6c64d",
   "metadata": {},
   "source": [
    "### Nitrogen concentration per unit of area"
   ]
  },
  {
   "cell_type": "code",
   "execution_count": null,
   "id": "b87279ae",
   "metadata": {
    "lines_to_next_cell": 2,
    "warning": false
   },
   "outputs": [],
   "source": [
    "as_tibble(emmeans(models_q2$n_area_log,\n",
    "        pairwise ~ treatment,\n",
    "        adjust = \"tukey\"\n",
    "        )$contrast) %>%\n",
    "        mutate(across(2:6, round, 6)) %>%\n",
    "        kable()"
   ]
  },
  {
   "cell_type": "code",
   "execution_count": null,
   "id": "f9723b68",
   "metadata": {},
   "outputs": [],
   "source": [
    "# Treatment effects\n",
    "emmeans_table_tidy(models_q2$n_area_log,\n",
    "                        formula = \"treatment\",\n",
    "                        )"
   ]
  },
  {
   "cell_type": "code",
   "execution_count": null,
   "id": "e5cd3425",
   "metadata": {
    "warning": false
   },
   "outputs": [],
   "source": [
    "as_tibble(emmeans(models_q2$n_area_log,\n",
    "        pairwise ~ nfixer,\n",
    "        adjust = \"tukey\"\n",
    "        )$contrast) %>%\n",
    "        mutate(across(2:6, round, 6)) %>%\n",
    "        kable()"
   ]
  },
  {
   "cell_type": "code",
   "execution_count": null,
   "id": "17517f9b",
   "metadata": {
    "warning": false
   },
   "outputs": [],
   "source": [
    "# Treatment effects\n",
    "as.data.frame(emmeans::emmeans(models_q2$n_area_log,\n",
    "                                specs = pairwise ~nfixer,\n",
    "                                type = \"response\",\n",
    "                                adjust = \"tukey\")$emmeans) %>%\n",
    "\n",
    "        janitor::clean_names() %>%\n",
    "        dplyr::select(response, everything(),\n",
    "                        # Remove variables\n",
    "                      -c(df, lower_cl, upper_cl, se)) %>%\n",
    "\n",
    "        # Rename response to emmean, this is done when models is log\n",
    "        dplyr::rename_all(funs(stringr::str_replace_all(., \"response\", \"emmean\"))) %>%\n",
    "\n",
    "        # Calculate % difference between control and variable, this assume that\n",
    "        # that first name is the control\n",
    "\n",
    "        dplyr::mutate(difference = ((emmean - first(emmean))),\n",
    "               perc_difference =((emmean - first(emmean) )/first(emmean))*100) %>%\n",
    "\n",
    "        dplyr::mutate_if(is.numeric, round, 3)"
   ]
  },
  {
   "cell_type": "markdown",
   "id": "d7bf9a01",
   "metadata": {},
   "source": [
    "### Nodule weight"
   ]
  },
  {
   "cell_type": "code",
   "execution_count": null,
   "id": "3976ae3c",
   "metadata": {},
   "outputs": [],
   "source": [
    "as_tibble(emmeans(models_q2$nodule_weight,\n",
    "        pairwise ~ treatment,\n",
    "        adjust = \"tukey\"\n",
    "        )$contrast) %>%\n",
    "        mutate(across(2:6, round, 6)) %>%\n",
    "        kable()"
   ]
  },
  {
   "cell_type": "code",
   "execution_count": null,
   "id": "51c8b3e9",
   "metadata": {},
   "outputs": [],
   "source": [
    "# Treatment effects\n",
    "emmeans_table_tidy(models_q2$nodule_weight,\n",
    "                        formula = \"treatment\")"
   ]
  },
  {
   "cell_type": "markdown",
   "id": "80032bc8",
   "metadata": {},
   "source": [
    "### Nodule Count"
   ]
  },
  {
   "cell_type": "code",
   "execution_count": null,
   "id": "28194a71",
   "metadata": {},
   "outputs": [],
   "source": [
    "as_tibble(emmeans(models_q2$nodule_count,\n",
    "        pairwise ~ treatment,\n",
    "        adjust = \"tukey\"\n",
    "        )$contrast) %>%\n",
    "        mutate(across(2:6, round, 6)) %>%\n",
    "        kable()"
   ]
  },
  {
   "cell_type": "code",
   "execution_count": null,
   "id": "b8743b3a",
   "metadata": {},
   "outputs": [],
   "source": [
    "# Treatment effects\n",
    "emmeans_table_tidy(models_q2$nodule_count,\n",
    "                        formula = \"treatment\")"
   ]
  },
  {
   "cell_type": "markdown",
   "id": "b38f790b",
   "metadata": {
    "lines_to_next_cell": 0
   },
   "source": [
    "### glmmTMB Nodule count model"
   ]
  },
  {
   "cell_type": "code",
   "execution_count": null,
   "id": "add5a934",
   "metadata": {},
   "outputs": [],
   "source": [
    "as_tibble(emmeans(glmmtmb_log_gaussian_with_nfixers,\n",
    "        pairwise ~ treatment,\n",
    "        adjust = \"tukey\"\n",
    "        )$contrast) %>% \n",
    "        #mutate(across(2:6, round, 6)) %>%\n",
    "        kable()"
   ]
  },
  {
   "cell_type": "code",
   "execution_count": null,
   "id": "dc92e605",
   "metadata": {
    "lines_to_next_cell": 0
   },
   "outputs": [],
   "source": [
    "# Treatment effects\n",
    "emmeans_table_tidy(models_q2$nodule_count,\n",
    "                        formula = \"treatment\")"
   ]
  },
  {
   "cell_type": "markdown",
   "id": "7bd1292e",
   "metadata": {},
   "source": [
    "\n"
   ]
  },
  {
   "cell_type": "markdown",
   "id": "dfff49c3",
   "metadata": {},
   "source": [
    "### Nodule mass ratio \n",
    "Nodule mass ratio did not responded to any of the treatments applied \n",
    "so no post hoc test was performed."
   ]
  },
  {
   "cell_type": "markdown",
   "id": "43845c5a",
   "metadata": {},
   "source": [
    "### Boxplots\n",
    "\n",
    "#### Boxplots traits"
   ]
  },
  {
   "cell_type": "code",
   "execution_count": null,
   "id": "87788d2d",
   "metadata": {
    "warning": false
   },
   "outputs": [],
   "source": [
    "# Step done for getting predictions from models for Q2\n",
    "data_for_predictions <-\n",
    "    data_for_models %>%\n",
    "\n",
    "        rownames_to_column(\"id\") %>%\n",
    "\n",
    "        # Remove unused variables\n",
    "        dplyr::select(id, spcode, treatment, nfixer, init_height)"
   ]
  },
  {
   "cell_type": "code",
   "execution_count": null,
   "id": "ab18c947",
   "metadata": {
    "warning": false
   },
   "outputs": [],
   "source": [
    "string <- c(\"models_q2\")\n",
    "\n",
    "data_pred_traits <-\n",
    "\n",
    "        # Get models prediction\n",
    "        gather_predictions(data_for_predictions ,\n",
    "\n",
    "                           # Return predictions\n",
    "                            models_q2$amax,\n",
    "                            models_q2$sla,\n",
    "                            models_q2$gs,\n",
    "                            models_q2$wue_log,\n",
    "                            models_q2$pnue_log,\n",
    "                            models_q2$n_area_log\n",
    "\n",
    "                            ) %>%\n",
    "\n",
    "        pivot_wider(names_from = model, values_from = pred) %>%\n",
    "            rename_all(funs(\n",
    "\n",
    "                # rename columns\n",
    "                stringr::str_to_lower(.) %>%\n",
    "                stringr::str_replace(., c(string),\"pred_\") %>%\n",
    "\n",
    "                # Remove dollar sing\n",
    "                gsub(\"\\\\$\", \"\", .)\n",
    "                )) %>%\n",
    "\n",
    "        # Back transform log variables\n",
    "        mutate(pred_wue = exp(pred_wue_log),\n",
    "                pred_n_area = exp(pred_n_area_log),\n",
    "                pred_pnue =  exp(pred_pnue_log),\n",
    "\n",
    "            ) %>%\n",
    "\n",
    "        # Remove log predictions and init height\n",
    "        dplyr::select(-c(init_height, pred_wue_log, pred_n_area_log))"
   ]
  },
  {
   "cell_type": "code",
   "execution_count": null,
   "id": "ef079c5b",
   "metadata": {
    "warning": false
   },
   "outputs": [],
   "source": [
    "# Generate plot combinations\n",
    "\n",
    "vars_q2_interaction <-\n",
    "\n",
    "  crossing(\n",
    "\n",
    "    # Get all numeric variables to plot (all y)\n",
    "    as_tibble(t(combn(dplyr::select(data_pred_traits, where(is.numeric)) %>% names, 1))),\n",
    "\n",
    "    # Select factor variables to plot\n",
    "    x_axis_var = dplyr::select(data_pred_traits, nfixer) %>%  names,\n",
    "    group_var = dplyr::select(data_pred_traits, treatment) %>%  names) %>%\n",
    "\n",
    "    filter(V1 %in% c('pred_amax', 'pred_wue'))"
   ]
  },
  {
   "cell_type": "code",
   "execution_count": null,
   "id": "c9615c30",
   "metadata": {
    "dpi": 350,
    "fig.align": "center",
    "name": "q2_fig_2_traits_interaction",
    "out.height": 500,
    "out.width": 1000
   },
   "outputs": [],
   "source": [
    "vars_q2_interaction %>%\n",
    "      # Gererate plots\n",
    "      pmap( ~ boxplot_plot_pmap(data = data_pred_traits,\n",
    "                                y = !!sym(..1), x = !!sym(..2),\n",
    "                                fill = !!sym(..3)))"
   ]
  },
  {
   "cell_type": "code",
   "execution_count": null,
   "id": "93b1947b",
   "metadata": {
    "lines_to_next_cell": 2,
    "warning": false
   },
   "outputs": [],
   "source": [
    "vars_q2_treatment <-\n",
    "\n",
    "  crossing(\n",
    "\n",
    "    # Get all numeric variables to plot (all y)\n",
    "    as_tibble(t(combn(dplyr::select(data_pred_traits, where(is.numeric)) %>% names, 1))),\n",
    "\n",
    "    # Select factor variables to plot\n",
    "    x_axis_var = dplyr::select(data_pred_traits, treatment) %>%  names,\n",
    "    group_var = dplyr::select(data_pred_traits, treatment) %>%  names) %>%\n",
    "\n",
    "    filter(V1 %in% c('pred_gs', 'pred_n_area', 'pred_pnue' ))"
   ]
  },
  {
   "cell_type": "code",
   "execution_count": null,
   "id": "8599553e",
   "metadata": {
    "dpi": 350,
    "fig.align": "center",
    "name": "q2_fig_3_traits_treatment",
    "out.height": 500,
    "out.width": 1000
   },
   "outputs": [],
   "source": [
    "vars_q2_treatment %>%\n",
    "      # Gererate plots\n",
    "      pmap( ~ boxplot_plot_pmap(data = data_pred_traits,\n",
    "                                y = !!sym(..1), x = !!sym(..2),\n",
    "                                fill = !!sym(..3)))"
   ]
  },
  {
   "cell_type": "markdown",
   "id": "0ef00ac7",
   "metadata": {},
   "source": [
    "#### Boxplots Nodules"
   ]
  },
  {
   "cell_type": "code",
   "execution_count": null,
   "id": "f0368506",
   "metadata": {
    "lines_to_next_cell": 2
   },
   "outputs": [],
   "source": [
    "data_for_nodule_predictions <- \n",
    "        data_nodules_cleaned %>%\n",
    "\n",
    "        rownames_to_column(\"id\") %>%\n",
    "\n",
    "        # Remove unused variables\n",
    "        dplyr::select(id, spcode, treatment, init_height)"
   ]
  },
  {
   "cell_type": "code",
   "execution_count": null,
   "id": "3e3d9abb",
   "metadata": {},
   "outputs": [],
   "source": [
    "string <- c(\"models_q2\")\n",
    "\n",
    "data_pred_nodules <-\n",
    "\n",
    "        # Get models prediction\n",
    "        gather_predictions(data_for_nodule_predictions,\n",
    "\n",
    "                           # Return predictions\n",
    "\n",
    "                            models_q2$nodule_count,\n",
    "                            models_q2$nodule_mass_ratio,\n",
    "                            models_q2$nodule_weight) %>% \n",
    "\n",
    "        pivot_wider(names_from = model, values_from = pred) %>%\n",
    "            rename_all(funs(\n",
    "\n",
    "                # rename columns\n",
    "                stringr::str_to_lower(.) %>%\n",
    "                stringr::str_replace(., c(string),\"pred_\") %>%\n",
    "\n",
    "                # Remove dollar sing\n",
    "                gsub(\"\\\\$\", \"\", .)\n",
    "                ))  %>% \n",
    "        \n",
    "        # Back transform log variables\n",
    "        mutate(pred_nodule_count = exp(pred_nodule_count),\n",
    "               pred_nodule_mass_ratio = exp(pred_nodule_mass_ratio)) %>% \n",
    "\n",
    "        # Remove log predictions and init height\n",
    "        dplyr::select(-c(init_height))"
   ]
  },
  {
   "cell_type": "code",
   "execution_count": null,
   "id": "5a8b0f26",
   "metadata": {},
   "outputs": [],
   "source": [
    "# Generate plot combinations\n",
    "\n",
    "vars_q2_nodules <-\n",
    "\n",
    "  crossing(\n",
    "\n",
    "    # Get all numeric variables to plot (all y)\n",
    "    as_tibble(t(combn(dplyr::select(data_pred_nodules, where(is.numeric)) %>% names, 1))),\n",
    "\n",
    "    # Select factor variables to plot\n",
    "    x_axis_var = dplyr::select(data_pred_nodules, treatment) %>%  names,\n",
    "    group_var = dplyr::select(data_pred_nodules, treatment) %>%  names) "
   ]
  },
  {
   "cell_type": "code",
   "execution_count": null,
   "id": "0931f7df",
   "metadata": {
    "dpi": 350,
    "fig.align": "center",
    "lines_to_next_cell": 0,
    "name": "q2_fig_4_noudle",
    "out.height": 500,
    "out.width": 1000
   },
   "outputs": [],
   "source": [
    "vars_q2_nodules %>%\n",
    "      # Gererate plots\n",
    "      pmap( ~ boxplot_plot_pmap(data = data_pred_nodules,\n",
    "                                y = !!sym(..1), x = !!sym(..2),\n",
    "                                fill = !!sym(..3)))"
   ]
  },
  {
   "cell_type": "markdown",
   "id": "25ce00e7",
   "metadata": {},
   "source": []
  }
 ],
 "metadata": {
  "jupytext": {
   "cell_metadata_filter": "out.width,out.height,cache,warning,message,dpi,fig.align,tags,name,-all",
   "main_language": "R",
   "notebook_metadata_filter": "-all"
  }
 },
 "nbformat": 4,
 "nbformat_minor": 5
}
