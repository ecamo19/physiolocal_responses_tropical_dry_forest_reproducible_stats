{
 "cells": [
  {
   "cell_type": "raw",
   "id": "27d738ca",
   "metadata": {},
   "source": [
    "---\n",
    "title: 'Models for Q2'\n",
    "author: \"Erick Calderon-Morales and Leland Werden\"\n",
    "date: ''\n",
    "due_date: \"\"\n",
    "output:\n",
    "  prettydoc::html_pretty:\n",
    "    highlight: pygments\n",
    "    theme: tactile\n",
    "    toc: yes\n",
    "    number_sections: no\n",
    "    toc_depth: 1\n",
    "---"
   ]
  },
  {
   "cell_type": "code",
   "execution_count": null,
   "id": "7ad599c7",
   "metadata": {
    "lines_to_next_cell": 2,
    "name": "knitr",
    "tags": [
     "remove_cell"
    ]
   },
   "outputs": [],
   "source": [
    "\n",
    "# Save figures in specific place\n",
    "\n",
    "knitr::opts_chunk$set(autodep        = TRUE,\n",
    "                      cache          = FALSE,\n",
    "                      cache.comments = TRUE,\n",
    "\n",
    "                      # Save figures as pdf ?\n",
    "                      dev = c(\"png\", \"pdf\"),\n",
    "\n",
    "                      # Include code?\n",
    "                      echo           = TRUE,\n",
    "                      warning = FALSE,\n",
    "\n",
    "                      error          = FALSE,\n",
    "                      fig.align      = \"center\",\n",
    "\n",
    "                      # Path where figures are going to be store pdf single\n",
    "                      # figures\n",
    "                      fig.path       = paste0(\"./figures\", \"/\"),\n",
    "                      fig.width      = 11,\n",
    "                      fig.height     = 7,\n",
    "                      message        = FALSE)\n",
    "\n",
    "# set to two decimal\n",
    "options(scipen = 1, digits = 4)"
   ]
  },
  {
   "cell_type": "code",
   "execution_count": null,
   "id": "461270bb",
   "metadata": {
    "cache": false,
    "message": false,
    "name": "libaries",
    "warning": false
   },
   "outputs": [],
   "source": [
    "library(dplyr)\n",
    "library(nlme)\n",
    "library(purrr)\n",
    "library(performance)\n",
    "library(tibble)\n",
    "library(here)\n",
    "library(reactablefmtr)\n",
    "library(reactable)\n",
    "library(emmeans)\n",
    "library(car)\n",
    "library(ggplot2)\n",
    "library(modelr)\n",
    "library(knitr)"
   ]
  },
  {
   "cell_type": "code",
   "execution_count": null,
   "id": "0e776b50",
   "metadata": {
    "name": "setup",
    "tags": [
     "remove_cell"
    ]
   },
   "outputs": [],
   "source": [
    "# Set knit directory\n",
    "setwd(here::here())\n",
    "knitr::opts_knit$set(root.dir = setwd(here::here()))\n",
    "getwd()"
   ]
  },
  {
   "cell_type": "markdown",
   "id": "1b0a773d",
   "metadata": {},
   "source": [
    "# Load functions and data"
   ]
  },
  {
   "cell_type": "code",
   "execution_count": null,
   "id": "d3bc2efc",
   "metadata": {
    "message": false,
    "warning": false
   },
   "outputs": [],
   "source": [
    "# Load all joined dataset\n",
    "source(\"./scripts/code_join_data_full_dataset.R\")\n",
    "\n",
    "# Step was done like this because I am working with a subset of the data\n",
    "# source cleaned data\n",
    "source(\"./scripts/code_clean_data_nodules.R\")"
   ]
  },
  {
   "cell_type": "code",
   "execution_count": null,
   "id": "e9bb6981",
   "metadata": {
    "message": false,
    "warning": false
   },
   "outputs": [],
   "source": [
    "# Load custom made functions\n",
    "source(\"./R/functions_models.R\")\n",
    "source(\"./R/function_plots.R\")\n",
    "source(\"./R/function_validation_plots.R\")\n",
    "source(\"./R/function_for_inference_emmeans_and_percentage_diff.R\")"
   ]
  },
  {
   "cell_type": "markdown",
   "id": "0376150a",
   "metadata": {},
   "source": [
    "__Q2: How does increased nutrient and/or water availability influence seedling\n",
    "water- and nutrient-use traits and the relationships with N-fixing bacteria?__\n",
    "\n",
    "# Model fitting\n",
    "\n",
    "## Traits"
   ]
  },
  {
   "cell_type": "code",
   "execution_count": null,
   "id": "a5f85efd",
   "metadata": {},
   "outputs": [],
   "source": [
    "# Take response variables names\n",
    "response_vars_q2 <-\n",
    "  set_names(c(\"amax\", \"gs\", \"sla\"))"
   ]
  },
  {
   "cell_type": "code",
   "execution_count": null,
   "id": "db334f7d",
   "metadata": {},
   "outputs": [],
   "source": [
    "## Create empty list\n",
    "models_q2 <- list()"
   ]
  },
  {
   "cell_type": "code",
   "execution_count": null,
   "id": "f3249c28",
   "metadata": {},
   "outputs": [],
   "source": [
    "model_q2_amax <- lme(amax ~ nfixer*treatment +init_height,\n",
    "                                        random = ~1|spcode,\n",
    "                                        data = data_for_models)\n",
    "\n",
    "model_q2_amax <- list(model_q2_amax)\n",
    "\n",
    "names(model_q2_amax) <- \"amax\"\n",
    "\n"
   ]
  },
  {
   "cell_type": "code",
   "execution_count": null,
   "id": "cd672ecb",
   "metadata": {},
   "outputs": [],
   "source": [
    "model_q2_gs <- lme(gs ~ nfixer*treatment +init_height,\n",
    "                                        random = ~1|spcode,\n",
    "                                        data = data_for_models)\n",
    "\n",
    "model_q2_gs <- list(model_q2_gs)\n",
    "\n",
    "names(model_q2_gs) <- \"gs\"\n"
   ]
  },
  {
   "cell_type": "code",
   "execution_count": null,
   "id": "7c003ee6",
   "metadata": {},
   "outputs": [],
   "source": [
    "model_q2_sla <- lme(sla ~ nfixer*treatment +init_height,\n",
    "                                        random = ~1|spcode,\n",
    "                                        data = data_for_models)\n",
    "\n",
    "model_q2_sla <- list(model_q2_sla)\n",
    "\n",
    "names(model_q2_sla) <- \"sla\"                      "
   ]
  },
  {
   "cell_type": "code",
   "execution_count": null,
   "id": "8fdce6e2",
   "metadata": {},
   "outputs": [],
   "source": [
    "## PNUE\n",
    "model_q2_pnue_log <- lme(log(pnue) ~ nfixer*treatment +init_height,\n",
    "                                        random = ~1|spcode,\n",
    "                                        data = data_for_models)\n",
    "\n",
    "model_q2_pnue_log <- list(model_q2_pnue_log)\n",
    "\n",
    "names(model_q2_pnue_log) <- \"pnue_log\""
   ]
  },
  {
   "cell_type": "code",
   "execution_count": null,
   "id": "5c0fd4b3",
   "metadata": {},
   "outputs": [],
   "source": [
    "model_q2_pnue_nlme <- lme(pnue ~ nfixer*treatment + init_height,\n",
    "                                        random = ~1|spcode,\n",
    "                                        weights = varIdent(form = ~1|spcode*treatment),\n",
    "                                        data = data_for_models)\n",
    "\n",
    "model_q2_pnue_nlme <- list(model_q2_pnue_nlme)\n",
    "\n",
    "names(model_q2_pnue_nlme) <- \"pnue_nlme\"\n"
   ]
  },
  {
   "cell_type": "code",
   "execution_count": null,
   "id": "96edf0e9",
   "metadata": {
    "lines_to_next_cell": 2
   },
   "outputs": [],
   "source": [
    "## Narea_g_m2 log model\n",
    "model_q2_n_area_log <- lme(log(narea_g_m2) ~ nfixer*treatment + init_height,\n",
    "                                                random = ~1|spcode,\n",
    "                                                data = data_for_models)\n",
    "\n",
    "model_q2_n_area_log <- list(model_q2_n_area_log)\n",
    "\n",
    "names(model_q2_n_area_log) <- \"n_area_log\""
   ]
  },
  {
   "cell_type": "code",
   "execution_count": null,
   "id": "5eb3399a",
   "metadata": {
    "lines_to_next_cell": 2
   },
   "outputs": [],
   "source": [
    "model_q2_n_area_nlme <- lme(narea_g_m2 ~ nfixer*treatment + init_height,\n",
    "                                        random = ~1|spcode,\n",
    "                                        weights = varIdent(form = ~1|spcode*treatment),\n",
    "                                        data = data_for_models)\n",
    "\n",
    "model_q2_n_area_nlme <- list(model_q2_n_area_nlme)\n",
    "\n",
    "names(model_q2_n_area_nlme) <- \"n_area_nlme\"\n"
   ]
  },
  {
   "cell_type": "code",
   "execution_count": null,
   "id": "254a10e9",
   "metadata": {},
   "outputs": [],
   "source": [
    "## WUE log model\n",
    "model_q2_wue_log <- lme(log(wue) ~ nfixer*treatment + init_height,\n",
    "                                        random = ~1|spcode,\n",
    "                                        data = data_for_models)\n",
    "\n",
    "model_q2_wue_log <- list(model_q2_wue_log)\n",
    "\n",
    "names(model_q2_wue_log) <- \"wue_log\""
   ]
  },
  {
   "cell_type": "code",
   "execution_count": null,
   "id": "8909e7b1",
   "metadata": {},
   "outputs": [],
   "source": [
    "model_q2_wue_nlme <- lme(wue ~ nfixer*treatment + init_height,\n",
    "                                        random = ~1|spcode,\n",
    "                                        weights = varIdent(form = ~1|spcode*treatment),\n",
    "                                        data = data_for_models)\n",
    "\n",
    "model_q2_wue_nlme <- list(model_q2_wue_nlme)\n",
    "\n",
    "names(model_q2_wue_nlme) <- \"wue_nlme\""
   ]
  },
  {
   "cell_type": "markdown",
   "id": "7a1984f7",
   "metadata": {},
   "source": [
    "## Nodule colonization data"
   ]
  },
  {
   "cell_type": "code",
   "execution_count": null,
   "id": "0fdb62fa",
   "metadata": {},
   "outputs": [],
   "source": [
    "# Delete unused variables\n",
    "data_nodules_cleaned <-\n",
    "    data_nodules_cleaned %>%\n",
    "\n",
    "        # add id to rownames for keep track of the rows\n",
    "        column_to_rownames(\"id\") %>%\n",
    "        dplyr::select(spcode, treatment, everything())"
   ]
  },
  {
   "cell_type": "markdown",
   "id": "631e42a1",
   "metadata": {},
   "source": [
    "### Nodule weight"
   ]
  },
  {
   "cell_type": "code",
   "execution_count": null,
   "id": "8d2376c6",
   "metadata": {},
   "outputs": [],
   "source": [
    "nlme_nodule_weight <- lme(estimated_total_nodule_mass_per_plant ~ treatment + init_height,\n",
    "                                    random = ~1|spcode,\n",
    "                                    weights = varIdent(form = ~1|spcode*treatment),\n",
    "                                    data = data_nodules_cleaned)\n",
    "\n",
    "\n",
    "model_q2_nodule_weight <- list(nlme_nodule_weight)\n",
    "\n",
    "names(model_q2_nodule_weight) <- \"nodule_weight\""
   ]
  },
  {
   "cell_type": "markdown",
   "id": "24221b26",
   "metadata": {
    "lines_to_next_cell": 0
   },
   "source": [
    "### Nodule count"
   ]
  },
  {
   "cell_type": "code",
   "execution_count": null,
   "id": "ce4c4aa7",
   "metadata": {},
   "outputs": [],
   "source": [
    "nlme_nodule_count <- lme(log(total_number_of_plant_nodules) ~ treatment + init_height,\n",
    "                                    random = ~1|spcode,\n",
    "                                    weights = varIdent(form = ~1|spcode),\n",
    "                                    data = data_nodules_cleaned)\n",
    "\n",
    "model_q2_nodule_count <- list(nlme_nodule_count)\n",
    "\n",
    "names(model_q2_nodule_count) <- \"nodule_count\""
   ]
  },
  {
   "cell_type": "markdown",
   "id": "82c9b7dd",
   "metadata": {},
   "source": [
    "### Nodule mass fraction"
   ]
  },
  {
   "cell_type": "code",
   "execution_count": null,
   "id": "8c86c01c",
   "metadata": {},
   "outputs": [],
   "source": [
    "# Get Nfixers biomass\n",
    "data_fixers_plant_biomass <- \n",
    "        data_for_models  %>% \n",
    "\n",
    "        # Filter only Nfixers\n",
    "        filter(nfixer == 'fixer') %>% \n",
    "\n",
    "        # Select only the columns that will be used\n",
    "        select(\"spcode\", \"treatment\", \"init_height\", \"total_biomass\") %>% \n",
    "\n",
    "        # Get plant's id\n",
    "        rownames_to_column(\"id\")"
   ]
  },
  {
   "cell_type": "code",
   "execution_count": null,
   "id": "30f981c8",
   "metadata": {
    "lines_to_next_cell": 2
   },
   "outputs": [],
   "source": [
    "# Join datasets\n",
    "data_nodule_mass_fraction <- \n",
    "        data_nodules_cleaned  %>% \n",
    "\n",
    "                # Get plant's id\n",
    "                rownames_to_column(\"id\") %>% \n",
    "\n",
    "                # join data\n",
    "                full_join(., data_fixers_plant_biomass, by = join_by(id, spcode, \n",
    "                                                                        treatment, \n",
    "                                                                        init_height)) %>% \n",
    "\n",
    "                # Remove NA's\n",
    "                drop_na() %>% \n",
    "\n",
    "                # Calculate nodule mass fraction\n",
    "                mutate(nodule_mass_ratio = (estimated_total_nodule_mass_per_plant / total_biomass)*100)"
   ]
  },
  {
   "cell_type": "code",
   "execution_count": null,
   "id": "8481dbd5",
   "metadata": {},
   "outputs": [],
   "source": [
    "nlme_nodule_mass_ratio <- lme(log(nodule_mass_ratio) ~ treatment + init_height,\n",
    "                                    random = ~1|spcode,\n",
    "                                    weights = varIdent(form = ~1|spcode),\n",
    "                                    data = data_nodule_mass_fraction)\n",
    "\n",
    "model_q2_nodule_mass_ratio <- list(nlme_nodule_mass_ratio)\n",
    "\n",
    "names(model_q2_nodule_mass_ratio) <- \"nodule_mass_ratio\""
   ]
  },
  {
   "cell_type": "markdown",
   "id": "885f9792",
   "metadata": {
    "lines_to_next_cell": 0
   },
   "source": [
    "## Append all models into a single list"
   ]
  },
  {
   "cell_type": "code",
   "execution_count": null,
   "id": "d6fd4f78",
   "metadata": {},
   "outputs": [],
   "source": [
    "# Append models to model list\n",
    "models_q2 <- append(model_q2_amax, models_q2)\n",
    "models_q2 <- append(model_q2_gs, models_q2)\n",
    "models_q2 <- append(model_q2_sla, models_q2)\n",
    "\n",
    "models_q2 <- append(model_q2_n_area_log, models_q2)\n",
    "models_q2 <- append(model_q2_n_area_nlme, models_q2)\n",
    "\n",
    "models_q2 <- append(model_q2_pnue_log, models_q2)\n",
    "models_q2 <- append(model_q2_pnue_nlme, models_q2)\n",
    "\n",
    "models_q2 <- append(model_q2_wue_log, models_q2)\n",
    "models_q2 <- append(model_q2_wue_nlme, models_q2)\n",
    "\n",
    "models_q2 <- append(model_q2_nodule_count, models_q2)\n",
    "models_q2 <- append(model_q2_nodule_weight, models_q2)\n",
    "models_q2 <- append(model_q2_nodule_mass_ratio, models_q2)"
   ]
  },
  {
   "cell_type": "code",
   "execution_count": null,
   "id": "69fbe7c1",
   "metadata": {},
   "outputs": [],
   "source": [
    "names(models_q2)"
   ]
  },
  {
   "cell_type": "markdown",
   "id": "ee8c9f7f",
   "metadata": {},
   "source": [
    "# Model Assumptions\n",
    "\n",
    "## Maximal photosynthesis"
   ]
  },
  {
   "cell_type": "code",
   "execution_count": null,
   "id": "0d491bd4",
   "metadata": {
    "dpi": 350,
    "fig.align": "center",
    "name": "q2_validation_model_plot_amax",
    "out.height": 500,
    "out.width": 1000
   },
   "outputs": [],
   "source": [
    "validation_plots(models_q2$amax, data = data_for_models, group = \"spcode\")"
   ]
  },
  {
   "cell_type": "markdown",
   "id": "abb59902",
   "metadata": {},
   "source": [
    "## Stomatal Conductance"
   ]
  },
  {
   "cell_type": "code",
   "execution_count": null,
   "id": "85664f1e",
   "metadata": {
    "dpi": 350,
    "fig.align": "center",
    "name": "q2_validation_model_plot_gs",
    "out.height": 500,
    "out.width": 1000
   },
   "outputs": [],
   "source": [
    "validation_plots(models_q2$gs, data = data_for_models, group = \"spcode\")"
   ]
  },
  {
   "cell_type": "markdown",
   "id": "805e7ee8",
   "metadata": {},
   "source": [
    "## SLA"
   ]
  },
  {
   "cell_type": "code",
   "execution_count": null,
   "id": "54f51f82",
   "metadata": {
    "dpi": 350,
    "fig.align": "center",
    "name": "q2_validation_model_plot_sla",
    "out.height": 500,
    "out.width": 1000
   },
   "outputs": [],
   "source": [
    "validation_plots(models_q2$sla, data = data_for_models, group = \"spcode\")"
   ]
  },
  {
   "cell_type": "markdown",
   "id": "ec9eaea0",
   "metadata": {},
   "source": [
    "## Water Use Efficiency"
   ]
  },
  {
   "cell_type": "code",
   "execution_count": null,
   "id": "80d9bb00",
   "metadata": {
    "dpi": 350,
    "fig.align": "center",
    "name": "q2_validation_model_plot_wue",
    "out.height": 500,
    "out.width": 1000
   },
   "outputs": [],
   "source": [
    "validation_plots(models_q2$wue_log, data = data_for_models, group = \"spcode\")"
   ]
  },
  {
   "cell_type": "code",
   "execution_count": null,
   "id": "29ec4c4c",
   "metadata": {
    "dpi": 350,
    "fig.align": "center",
    "name": "q2_validation_model_plot_wue_nlme",
    "out.height": 500,
    "out.width": 1000
   },
   "outputs": [],
   "source": [
    "validation_plots(models_q2$wue_nlme, data = data_for_models, group = \"spcode\")"
   ]
  },
  {
   "cell_type": "markdown",
   "id": "c85e9374",
   "metadata": {},
   "source": [
    "## PNUE"
   ]
  },
  {
   "cell_type": "code",
   "execution_count": null,
   "id": "5f5451b7",
   "metadata": {
    "dpi": 350,
    "fig.align": "center",
    "name": "q2_validation_model_plot_pnue",
    "out.height": 500,
    "out.width": 1000
   },
   "outputs": [],
   "source": [
    "validation_plots(models_q2$pnue_log, data = data_for_models, group = \"spcode\")"
   ]
  },
  {
   "cell_type": "code",
   "execution_count": null,
   "id": "22b422e3",
   "metadata": {
    "dpi": 350,
    "fig.align": "center",
    "name": "q2_validation_model_plot_pnue_nlme",
    "out.height": 500,
    "out.width": 1000
   },
   "outputs": [],
   "source": [
    "validation_plots(models_q2$pnue_nlme, data = data_for_models, group = \"spcode\")"
   ]
  },
  {
   "cell_type": "markdown",
   "id": "9dba37ee",
   "metadata": {},
   "source": [
    "## Nitrogen concentration per unit of area"
   ]
  },
  {
   "cell_type": "code",
   "execution_count": null,
   "id": "1eccbad4",
   "metadata": {
    "dpi": 350,
    "fig.align": "center",
    "name": "q2_validation_model_plot_n_area",
    "out.height": 500,
    "out.width": 1000
   },
   "outputs": [],
   "source": [
    "validation_plots(models_q2$n_area_log, data = data_for_models, group = \"spcode\")"
   ]
  },
  {
   "cell_type": "code",
   "execution_count": null,
   "id": "5c50d550",
   "metadata": {
    "dpi": 350,
    "fig.align": "center",
    "name": "q2_validation_model_plot_n_area_nlme",
    "out.height": 500,
    "out.width": 1000
   },
   "outputs": [],
   "source": [
    "validation_plots(models_q2$n_area_nlme, data = data_for_models, group = \"spcode\")"
   ]
  },
  {
   "cell_type": "markdown",
   "id": "f2891b6c",
   "metadata": {},
   "source": [
    "## Nodule weight"
   ]
  },
  {
   "cell_type": "code",
   "execution_count": null,
   "id": "74225086",
   "metadata": {
    "dpi": 350,
    "fig.align": "center",
    "name": "q2_validation_model_plot_nodule_weight",
    "out.height": 500,
    "out.width": 1000
   },
   "outputs": [],
   "source": [
    "validation_plots(models_q2$nodule_weight, data = data_nodules_cleaned, group = \"treatment\")"
   ]
  },
  {
   "cell_type": "markdown",
   "id": "63b67c24",
   "metadata": {},
   "source": [
    "## Nodule count"
   ]
  },
  {
   "cell_type": "code",
   "execution_count": null,
   "id": "e8a75df6",
   "metadata": {
    "dpi": 350,
    "fig.align": "center",
    "name": "q2_validation_model_plot_nodule_count",
    "out.height": 500,
    "out.width": 1000
   },
   "outputs": [],
   "source": [
    "validation_plots(models_q2$nodule_count, data = data_nodules_cleaned, group = 'spcode')"
   ]
  },
  {
   "cell_type": "markdown",
   "id": "12724251",
   "metadata": {},
   "source": [
    "## Nodule mass fraction "
   ]
  },
  {
   "cell_type": "code",
   "execution_count": null,
   "id": "e0965cd9",
   "metadata": {
    "dpi": 350,
    "fig.align": "center",
    "name": "q2_validation_model_plot_nodule_mass_fraction",
    "out.height": 500,
    "out.width": 1000
   },
   "outputs": [],
   "source": [
    "validation_plots(models_q2$nodule_count, data = data_nodules_cleaned, group = 'spcode')"
   ]
  },
  {
   "cell_type": "markdown",
   "id": "e3a9cd38",
   "metadata": {},
   "source": [
    "# Model inference"
   ]
  },
  {
   "cell_type": "code",
   "execution_count": null,
   "id": "5552aa41",
   "metadata": {},
   "outputs": [],
   "source": [
    "## r2 models\n",
    "models_q2 %>%\n",
    "    map(., r2_nakagawa) %>%\n",
    "    unlist()"
   ]
  },
  {
   "cell_type": "code",
   "execution_count": null,
   "id": "872ff3cc",
   "metadata": {},
   "outputs": [],
   "source": [
    "## r2 models\n",
    "models_q2 %>%\n",
    "    map(., AIC) %>%\n",
    "    unlist()"
   ]
  },
  {
   "cell_type": "markdown",
   "id": "b135ef09",
   "metadata": {},
   "source": [
    "## Anova tables"
   ]
  },
  {
   "cell_type": "code",
   "execution_count": null,
   "id": "9f9f969c",
   "metadata": {},
   "outputs": [],
   "source": [
    "map(models_q2, ~anova.lme(.x, type = \"marginal\"))"
   ]
  },
  {
   "cell_type": "markdown",
   "id": "f946dfe3",
   "metadata": {},
   "source": [
    "## Post-Hoc: Tukey's test\n",
    "\n",
    "### Maximal photosynthesis"
   ]
  },
  {
   "cell_type": "code",
   "execution_count": null,
   "id": "ad35586a",
   "metadata": {
    "warning": false
   },
   "outputs": [],
   "source": [
    "as_tibble(emmeans(models_q2$amax,\n",
    "        pairwise ~ treatment*nfixer,\n",
    "        adjust = \"tukey\"\n",
    "        )$contrast) %>%\n",
    "        mutate(across(2:6, round, 6)) %>%\n",
    "        kable()"
   ]
  },
  {
   "cell_type": "code",
   "execution_count": null,
   "id": "13cc6314",
   "metadata": {},
   "outputs": [],
   "source": [
    "# Treatment effects\n",
    "emmeans_table_tidy(models_q2$amax,\n",
    "                        formula = \"treatment|nfixer\",\n",
    "                        grouping_var = \"nfixer\")"
   ]
  },
  {
   "cell_type": "markdown",
   "id": "e4e87e49",
   "metadata": {},
   "source": [
    "### Water Use Efficiency"
   ]
  },
  {
   "cell_type": "code",
   "execution_count": null,
   "id": "b4badce0",
   "metadata": {
    "warning": false
   },
   "outputs": [],
   "source": [
    "as_tibble(emmeans(models_q2$wue_log,\n",
    "        pairwise ~ treatment*nfixer,\n",
    "        adjust = \"tukey\"\n",
    "        )$contrast) %>%\n",
    "        mutate(across(2:6, round, 6)) %>%\n",
    "        kable() "
   ]
  },
  {
   "cell_type": "code",
   "execution_count": null,
   "id": "eb1a0fd6",
   "metadata": {},
   "outputs": [],
   "source": [
    "# Treatment effects\n",
    "emmeans_table_tidy(models_q2$wue_log,\n",
    "                        formula = \"treatment|nfixer\",\n",
    "                        grouping_var = \"nfixer\")"
   ]
  },
  {
   "cell_type": "code",
   "execution_count": null,
   "id": "c331d550",
   "metadata": {
    "warning": false
   },
   "outputs": [],
   "source": [
    "as_tibble(emmeans(models_q2$wue_log,\n",
    "        pairwise ~ nfixer,\n",
    "        adjust = \"tukey\"\n",
    "        )$contrast) %>%\n",
    "        mutate(across(2:6, round, 6)) %>%\n",
    "        kable()"
   ]
  },
  {
   "cell_type": "code",
   "execution_count": null,
   "id": "400b6157",
   "metadata": {
    "warning": false
   },
   "outputs": [],
   "source": [
    "# Treatment effects\n",
    "as.data.frame(emmeans::emmeans(models_q2$wue_log,\n",
    "                                specs = pairwise ~nfixer,\n",
    "                                type = \"response\",\n",
    "                                adjust = \"tukey\")$emmeans) %>%\n",
    "\n",
    "        janitor::clean_names() %>%\n",
    "        dplyr::select(response, everything(),\n",
    "                        # Remove variables\n",
    "                      -c(df, lower_cl, upper_cl, se)) %>%\n",
    "\n",
    "        # Rename response to emmean, this is done when models is log\n",
    "        dplyr::rename_all(funs(stringr::str_replace_all(., \"response\", \"emmean\"))) %>% \n",
    "\n",
    "        # Calculate % difference between control and variable, this assume that\n",
    "        # that first name is the control\n",
    "\n",
    "        dplyr::mutate(difference = ((emmean - first(emmean))),\n",
    "               perc_difference =((emmean - first(emmean) )/first(emmean))*100) %>%\n",
    "\n",
    "        dplyr::mutate_if(is.numeric, round, 3)"
   ]
  },
  {
   "cell_type": "markdown",
   "id": "6be4e43a",
   "metadata": {
    "lines_to_next_cell": 0
   },
   "source": [
    "### Stomatal Conductance"
   ]
  },
  {
   "cell_type": "code",
   "execution_count": null,
   "id": "bf881b2c",
   "metadata": {
    "warning": false
   },
   "outputs": [],
   "source": [
    "as_tibble(emmeans(models_q2$gs,\n",
    "        pairwise ~ treatment,\n",
    "        adjust = \"tukey\"\n",
    "        )$contrast) %>%\n",
    "        mutate(across(2:6, round, 6)) %>%\n",
    "        kable() "
   ]
  },
  {
   "cell_type": "code",
   "execution_count": null,
   "id": "157592b8",
   "metadata": {},
   "outputs": [],
   "source": [
    "# Treatment effects\n",
    "emmeans_table_tidy(models_q2$gs,\n",
    "                        formula = \"treatment\",\n",
    "                        )"
   ]
  },
  {
   "cell_type": "markdown",
   "id": "3aeffed4",
   "metadata": {},
   "source": [
    "### SLA \n",
    "\n",
    "SLA did not responded to any of the treatments nor varied between nfixers and \n",
    "non-fixing species so no post hoc test was performed.\n",
    "\n",
    "### PNUE"
   ]
  },
  {
   "cell_type": "code",
   "execution_count": null,
   "id": "c9d8c6b1",
   "metadata": {
    "warning": false
   },
   "outputs": [],
   "source": [
    "as_tibble(emmeans(models_q2$pnue_log,\n",
    "        pairwise ~ treatment,\n",
    "        adjust = \"tukey\"\n",
    "        )$contrast) %>%\n",
    "        mutate(across(2:6, round, 6)) %>%\n",
    "        kable()"
   ]
  },
  {
   "cell_type": "code",
   "execution_count": null,
   "id": "63db52cd",
   "metadata": {},
   "outputs": [],
   "source": [
    "# Treatment effects\n",
    "emmeans_table_tidy(models_q2$pnue_log,\n",
    "                        formula = \"treatment\",\n",
    "                        )"
   ]
  },
  {
   "cell_type": "markdown",
   "id": "23f53f6a",
   "metadata": {},
   "source": [
    "### Nitrogen concentration per unit of area"
   ]
  },
  {
   "cell_type": "code",
   "execution_count": null,
   "id": "95af332f",
   "metadata": {
    "lines_to_next_cell": 2,
    "warning": false
   },
   "outputs": [],
   "source": [
    "as_tibble(emmeans(models_q2$n_area_log,\n",
    "        pairwise ~ treatment,\n",
    "        adjust = \"tukey\"\n",
    "        )$contrast) %>%\n",
    "        mutate(across(2:6, round, 6)) %>%\n",
    "        kable()"
   ]
  },
  {
   "cell_type": "code",
   "execution_count": null,
   "id": "6beb7e6d",
   "metadata": {},
   "outputs": [],
   "source": [
    "# Treatment effects\n",
    "emmeans_table_tidy(models_q2$n_area_log,\n",
    "                        formula = \"treatment\",\n",
    "                        )"
   ]
  },
  {
   "cell_type": "code",
   "execution_count": null,
   "id": "82db575e",
   "metadata": {
    "warning": false
   },
   "outputs": [],
   "source": [
    "as_tibble(emmeans(models_q2$n_area_log,\n",
    "        pairwise ~ nfixer,\n",
    "        adjust = \"tukey\"\n",
    "        )$contrast) %>%\n",
    "        mutate(across(2:6, round, 6)) %>%\n",
    "        kable()"
   ]
  },
  {
   "cell_type": "code",
   "execution_count": null,
   "id": "84b010c2",
   "metadata": {
    "warning": false
   },
   "outputs": [],
   "source": [
    "# Treatment effects\n",
    "as.data.frame(emmeans::emmeans(models_q2$n_area_log,\n",
    "                                specs = pairwise ~nfixer,\n",
    "                                type = \"response\",\n",
    "                                adjust = \"tukey\")$emmeans) %>%\n",
    "\n",
    "        janitor::clean_names() %>%\n",
    "        dplyr::select(response, everything(),\n",
    "                        # Remove variables\n",
    "                      -c(df, lower_cl, upper_cl, se)) %>%\n",
    "\n",
    "        # Rename response to emmean, this is done when models is log\n",
    "        dplyr::rename_all(funs(stringr::str_replace_all(., \"response\", \"emmean\"))) %>%\n",
    "\n",
    "        # Calculate % difference between control and variable, this assume that\n",
    "        # that first name is the control\n",
    "\n",
    "        dplyr::mutate(difference = ((emmean - first(emmean))),\n",
    "               perc_difference =((emmean - first(emmean) )/first(emmean))*100) %>%\n",
    "\n",
    "        dplyr::mutate_if(is.numeric, round, 3)"
   ]
  },
  {
   "cell_type": "markdown",
   "id": "1d102da1",
   "metadata": {},
   "source": [
    "### Nodule weight"
   ]
  },
  {
   "cell_type": "code",
   "execution_count": null,
   "id": "6994c9eb",
   "metadata": {},
   "outputs": [],
   "source": [
    "as_tibble(emmeans(models_q2$nodule_weight,\n",
    "        pairwise ~ treatment,\n",
    "        adjust = \"tukey\"\n",
    "        )$contrast) %>%\n",
    "        mutate(across(2:6, round, 6)) %>%\n",
    "        kable()"
   ]
  },
  {
   "cell_type": "code",
   "execution_count": null,
   "id": "8da494fd",
   "metadata": {},
   "outputs": [],
   "source": [
    "# Treatment effects\n",
    "emmeans_table_tidy(models_q2$nodule_weight,\n",
    "                        formula = \"treatment\")"
   ]
  },
  {
   "cell_type": "markdown",
   "id": "c2c95044",
   "metadata": {},
   "source": [
    "### Nodule Count"
   ]
  },
  {
   "cell_type": "code",
   "execution_count": null,
   "id": "c43f2bbd",
   "metadata": {},
   "outputs": [],
   "source": [
    "as_tibble(emmeans(models_q2$nodule_count,\n",
    "        pairwise ~ treatment,\n",
    "        adjust = \"tukey\"\n",
    "        )$contrast) %>%\n",
    "        mutate(across(2:6, round, 6)) %>%\n",
    "        kable()"
   ]
  },
  {
   "cell_type": "code",
   "execution_count": null,
   "id": "b0884bdd",
   "metadata": {
    "lines_to_next_cell": 2
   },
   "outputs": [],
   "source": [
    "# Treatment effects\n",
    "emmeans_table_tidy(models_q2$nodule_count,\n",
    "                        formula = \"treatment\")"
   ]
  },
  {
   "cell_type": "markdown",
   "id": "42f8202e",
   "metadata": {},
   "source": [
    "### Nodule mass ratio \n",
    "Nodule mass ratio did not responded to any of the treatments applied \n",
    "so no post hoc test was performed."
   ]
  },
  {
   "cell_type": "markdown",
   "id": "27064a28",
   "metadata": {},
   "source": [
    "### Boxplots\n",
    "\n",
    "#### Boxplots traits"
   ]
  },
  {
   "cell_type": "code",
   "execution_count": null,
   "id": "1511cff1",
   "metadata": {
    "warning": false
   },
   "outputs": [],
   "source": [
    "# Step done for getting predictions from models for Q2\n",
    "data_for_predictions <-\n",
    "    data_for_models %>%\n",
    "\n",
    "        rownames_to_column(\"id\") %>%\n",
    "\n",
    "        # Remove unused variables\n",
    "        dplyr::select(id, spcode, treatment, nfixer, init_height)"
   ]
  },
  {
   "cell_type": "code",
   "execution_count": null,
   "id": "24dd5ec2",
   "metadata": {
    "warning": false
   },
   "outputs": [],
   "source": [
    "string <- c(\"models_q2\")\n",
    "\n",
    "data_pred_traits <-\n",
    "\n",
    "        # Get models prediction\n",
    "        gather_predictions(data_for_predictions ,\n",
    "\n",
    "                           # Return predictions\n",
    "                            models_q2$amax,\n",
    "                            models_q2$sla,\n",
    "                            models_q2$gs,\n",
    "                            models_q2$wue_log,\n",
    "                            models_q2$pnue_log,\n",
    "                            models_q2$n_area_log\n",
    "\n",
    "                            ) %>%\n",
    "\n",
    "        pivot_wider(names_from = model, values_from = pred) %>%\n",
    "            rename_all(funs(\n",
    "\n",
    "                # rename columns\n",
    "                stringr::str_to_lower(.) %>%\n",
    "                stringr::str_replace(., c(string),\"pred_\") %>%\n",
    "\n",
    "                # Remove dollar sing\n",
    "                gsub(\"\\\\$\", \"\", .)\n",
    "                )) %>%\n",
    "\n",
    "        # Back transform log variables\n",
    "        mutate(pred_wue = exp(pred_wue_log),\n",
    "                pred_n_area = exp(pred_n_area_log),\n",
    "                pred_pnue =  exp(pred_pnue_log),\n",
    "\n",
    "            ) %>%\n",
    "\n",
    "        # Remove log predictions and init height\n",
    "        dplyr::select(-c(init_height, pred_wue_log, pred_n_area_log))"
   ]
  },
  {
   "cell_type": "code",
   "execution_count": null,
   "id": "a750d93d",
   "metadata": {
    "warning": false
   },
   "outputs": [],
   "source": [
    "# Generate plot combinations\n",
    "\n",
    "vars_q2_interaction <-\n",
    "\n",
    "  crossing(\n",
    "\n",
    "    # Get all numeric variables to plot (all y)\n",
    "    as_tibble(t(combn(dplyr::select(data_pred_traits, where(is.numeric)) %>% names, 1))),\n",
    "\n",
    "    # Select factor variables to plot\n",
    "    x_axis_var = dplyr::select(data_pred_traits, nfixer) %>%  names,\n",
    "    group_var = dplyr::select(data_pred_traits, treatment) %>%  names) %>%\n",
    "\n",
    "    filter(V1 %in% c('pred_amax', 'pred_wue'))"
   ]
  },
  {
   "cell_type": "code",
   "execution_count": null,
   "id": "0b72db09",
   "metadata": {
    "dpi": 350,
    "fig.align": "center",
    "name": "q2_fig_2_traits_interaction",
    "out.height": 500,
    "out.width": 1000
   },
   "outputs": [],
   "source": [
    "vars_q2_interaction %>%\n",
    "      # Gererate plots\n",
    "      pmap( ~ boxplot_plot_pmap(data = data_pred_traits,\n",
    "                                y = !!sym(..1), x = !!sym(..2),\n",
    "                                fill = !!sym(..3)))"
   ]
  },
  {
   "cell_type": "code",
   "execution_count": null,
   "id": "de93218a",
   "metadata": {
    "lines_to_next_cell": 2,
    "warning": false
   },
   "outputs": [],
   "source": [
    "vars_q2_treatment <-\n",
    "\n",
    "  crossing(\n",
    "\n",
    "    # Get all numeric variables to plot (all y)\n",
    "    as_tibble(t(combn(dplyr::select(data_pred_traits, where(is.numeric)) %>% names, 1))),\n",
    "\n",
    "    # Select factor variables to plot\n",
    "    x_axis_var = dplyr::select(data_pred_traits, treatment) %>%  names,\n",
    "    group_var = dplyr::select(data_pred_traits, treatment) %>%  names) %>%\n",
    "\n",
    "    filter(V1 %in% c('pred_gs', 'pred_n_area', 'pred_pnue' ))"
   ]
  },
  {
   "cell_type": "code",
   "execution_count": null,
   "id": "ddbfbf13",
   "metadata": {
    "dpi": 350,
    "fig.align": "center",
    "name": "q2_fig_3_traits_treatment",
    "out.height": 500,
    "out.width": 1000
   },
   "outputs": [],
   "source": [
    "vars_q2_treatment %>%\n",
    "      # Gererate plots\n",
    "      pmap( ~ boxplot_plot_pmap(data = data_pred_traits,\n",
    "                                y = !!sym(..1), x = !!sym(..2),\n",
    "                                fill = !!sym(..3)))"
   ]
  },
  {
   "cell_type": "markdown",
   "id": "5ba4b106",
   "metadata": {},
   "source": [
    "#### Boxplots Nodules"
   ]
  },
  {
   "cell_type": "code",
   "execution_count": null,
   "id": "cbe32861",
   "metadata": {
    "lines_to_next_cell": 2
   },
   "outputs": [],
   "source": [
    "data_for_nodule_predictions <- \n",
    "        data_nodules_cleaned %>%\n",
    "\n",
    "        rownames_to_column(\"id\") %>%\n",
    "\n",
    "        # Remove unused variables\n",
    "        dplyr::select(id, spcode, treatment, init_height)"
   ]
  },
  {
   "cell_type": "code",
   "execution_count": null,
   "id": "24c598ee",
   "metadata": {},
   "outputs": [],
   "source": [
    "string <- c(\"models_q2\")\n",
    "\n",
    "data_pred_nodules <-\n",
    "\n",
    "        # Get models prediction\n",
    "        gather_predictions(data_for_nodule_predictions,\n",
    "\n",
    "                           # Return predictions\n",
    "\n",
    "                            models_q2$nodule_count,\n",
    "                            models_q2$nodule_mass_ratio,\n",
    "                            models_q2$nodule_weight) %>% \n",
    "\n",
    "        pivot_wider(names_from = model, values_from = pred) %>%\n",
    "            rename_all(funs(\n",
    "\n",
    "                # rename columns\n",
    "                stringr::str_to_lower(.) %>%\n",
    "                stringr::str_replace(., c(string),\"pred_\") %>%\n",
    "\n",
    "                # Remove dollar sing\n",
    "                gsub(\"\\\\$\", \"\", .)\n",
    "                ))  %>% \n",
    "        \n",
    "        # Back transform log variables\n",
    "        mutate(pred_nodule_count = exp(pred_nodule_count),\n",
    "               pred_nodule_mass_ratio = exp(pred_nodule_mass_ratio)) %>% \n",
    "\n",
    "        # Remove log predictions and init height\n",
    "        dplyr::select(-c(init_height))"
   ]
  },
  {
   "cell_type": "code",
   "execution_count": null,
   "id": "18c00e4a",
   "metadata": {},
   "outputs": [],
   "source": [
    "# Generate plot combinations\n",
    "\n",
    "vars_q2_nodules <-\n",
    "\n",
    "  crossing(\n",
    "\n",
    "    # Get all numeric variables to plot (all y)\n",
    "    as_tibble(t(combn(dplyr::select(data_pred_nodules, where(is.numeric)) %>% names, 1))),\n",
    "\n",
    "    # Select factor variables to plot\n",
    "    x_axis_var = dplyr::select(data_pred_nodules, treatment) %>%  names,\n",
    "    group_var = dplyr::select(data_pred_nodules, treatment) %>%  names) "
   ]
  },
  {
   "cell_type": "code",
   "execution_count": null,
   "id": "b2d03015",
   "metadata": {
    "dpi": 350,
    "fig.align": "center",
    "lines_to_next_cell": 0,
    "name": "q2_fig_4_noudle",
    "out.height": 500,
    "out.width": 1000
   },
   "outputs": [],
   "source": [
    "vars_q2_nodules %>%\n",
    "      # Gererate plots\n",
    "      pmap( ~ boxplot_plot_pmap(data = data_pred_nodules,\n",
    "                                y = !!sym(..1), x = !!sym(..2),\n",
    "                                fill = !!sym(..3)))"
   ]
  },
  {
   "cell_type": "markdown",
   "id": "495460cf",
   "metadata": {},
   "source": []
  }
 ],
 "metadata": {
  "jupytext": {
   "cell_metadata_filter": "tags,warning,dpi,out.height,out.width,fig.align,message,cache,name,-all",
   "main_language": "R",
   "notebook_metadata_filter": "-all"
  }
 },
 "nbformat": 4,
 "nbformat_minor": 5
}
