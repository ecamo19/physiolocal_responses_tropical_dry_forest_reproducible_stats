{
 "cells": [
  {
   "cell_type": "raw",
   "id": "c5f49930",
   "metadata": {},
   "source": [
    "---\n",
    "title: 'Models for Q2'\n",
    "author: \"Erick Calderon-Morales and Leland Werden\"\n",
    "date: ''\n",
    "due_date: \"\"\n",
    "output:\n",
    "  prettydoc::html_pretty:\n",
    "    highlight: pygments\n",
    "    theme: tactile\n",
    "    toc: yes\n",
    "    number_sections: no\n",
    "    toc_depth: 1\n",
    "---"
   ]
  },
  {
   "cell_type": "code",
   "execution_count": null,
   "id": "e1da906d",
   "metadata": {
    "lines_to_next_cell": 2,
    "name": "knitr",
    "tags": [
     "remove_cell"
    ]
   },
   "outputs": [],
   "source": [
    "\n",
    "# Save figures in specific place\n",
    "\n",
    "knitr::opts_chunk$set(autodep        = TRUE,\n",
    "                      cache          = FALSE,\n",
    "                      cache.comments = TRUE,\n",
    "\n",
    "                      # Save figures as pdf ?\n",
    "                      dev = c(\"png\", \"pdf\"),\n",
    "\n",
    "                      # Include code?\n",
    "                      echo           = TRUE,\n",
    "                      warning = FALSE,\n",
    "\n",
    "                      error          = FALSE,\n",
    "                      fig.align      = \"center\",\n",
    "\n",
    "                      # Path where figures are going to be store pdf single\n",
    "                      # figures\n",
    "                      fig.path       = paste0(\"./figures\", \"/\"),\n",
    "                      fig.width      = 11,\n",
    "                      fig.height     = 7,\n",
    "                      message        = FALSE)\n",
    "\n",
    "# set to two decimal\n",
    "options(scipen = 1, digits = 4)"
   ]
  },
  {
   "cell_type": "code",
   "execution_count": null,
   "id": "dab7b3da",
   "metadata": {
    "cache": false,
    "message": false,
    "name": "libaries",
    "warning": false
   },
   "outputs": [],
   "source": [
    "library(dplyr)\n",
    "library(nlme)\n",
    "library(purrr)\n",
    "library(performance)\n",
    "library(tibble)\n",
    "library(here)\n",
    "library(reactablefmtr)\n",
    "library(reactable)\n",
    "library(emmeans)\n",
    "library(car)\n",
    "library(ggplot2)\n",
    "library(modelr)\n",
    "library(knitr)"
   ]
  },
  {
   "cell_type": "code",
   "execution_count": null,
   "id": "b5add06d",
   "metadata": {
    "name": "setup",
    "tags": [
     "remove_cell"
    ]
   },
   "outputs": [],
   "source": [
    "# Set knit directory\n",
    "setwd(here::here())\n",
    "knitr::opts_knit$set(root.dir = setwd(here::here()))\n",
    "getwd()"
   ]
  },
  {
   "cell_type": "markdown",
   "id": "6d556069",
   "metadata": {},
   "source": [
    "# Load functions and data"
   ]
  },
  {
   "cell_type": "code",
   "execution_count": null,
   "id": "cd039bec",
   "metadata": {
    "message": false,
    "warning": false
   },
   "outputs": [],
   "source": [
    "# Load all joined dataset\n",
    "source(\"./scripts/code_join_data_full_dataset.R\")\n",
    "\n",
    "# Step was done like this because I am working with a subset of the data\n",
    "# source cleaned data\n",
    "source(\"./scripts/code_clean_data_nodules.R\")"
   ]
  },
  {
   "cell_type": "code",
   "execution_count": null,
   "id": "1fd637f5",
   "metadata": {
    "message": false,
    "warning": false
   },
   "outputs": [],
   "source": [
    "# Load custom made functions\n",
    "source(\"./R/functions_models.R\")\n",
    "source(\"./R/function_plots.R\")\n",
    "source(\"./R/function_validation_plots.R\")\n",
    "source(\"./R/function_for_inference_emmeans_and_percentage_diff.R\")"
   ]
  },
  {
   "cell_type": "markdown",
   "id": "44bdfd29",
   "metadata": {},
   "source": [
    "__Q2: How does increased nutrient and/or water availability influence seedling\n",
    "water- and nutrient-use traits and the relationships with N-fixing bacteria?__\n",
    "\n",
    "# Model fitting\n",
    "\n",
    "## Traits"
   ]
  },
  {
   "cell_type": "code",
   "execution_count": null,
   "id": "be6ce831",
   "metadata": {},
   "outputs": [],
   "source": [
    "# Take response variables names\n",
    "response_vars_q2 <-\n",
    "  set_names(c(\"amax\", \"gs\", \"sla\"))"
   ]
  },
  {
   "cell_type": "code",
   "execution_count": null,
   "id": "effd7599",
   "metadata": {},
   "outputs": [],
   "source": [
    "## Create empty list\n",
    "models_q2 <- list()"
   ]
  },
  {
   "cell_type": "code",
   "execution_count": null,
   "id": "c5bb8266",
   "metadata": {},
   "outputs": [],
   "source": [
    "model_q2_amax <- lme(amax ~ nfixer*treatment +init_height,\n",
    "                                        random = ~1|spcode,\n",
    "                                        data = data_for_models)\n",
    "\n",
    "model_q2_amax <- list(model_q2_amax)\n",
    "\n",
    "names(model_q2_amax) <- \"amax\"\n",
    "\n"
   ]
  },
  {
   "cell_type": "code",
   "execution_count": null,
   "id": "9775a83e",
   "metadata": {},
   "outputs": [],
   "source": [
    "model_q2_gs <- lme(gs ~ nfixer*treatment +init_height,\n",
    "                                        random = ~1|spcode,\n",
    "                                        data = data_for_models)\n",
    "\n",
    "model_q2_gs <- list(model_q2_gs)\n",
    "\n",
    "names(model_q2_gs) <- \"gs\"\n"
   ]
  },
  {
   "cell_type": "code",
   "execution_count": null,
   "id": "6f9eef62",
   "metadata": {},
   "outputs": [],
   "source": [
    "model_q2_sla <- lme(sla ~ nfixer*treatment +init_height,\n",
    "                                        random = ~1|spcode,\n",
    "                                        data = data_for_models)\n",
    "\n",
    "model_q2_sla <- list(model_q2_sla)\n",
    "\n",
    "names(model_q2_sla) <- \"sla\"                      "
   ]
  },
  {
   "cell_type": "code",
   "execution_count": null,
   "id": "48468afa",
   "metadata": {},
   "outputs": [],
   "source": [
    "## PNUE\n",
    "model_q2_pnue_log <- lme(log(pnue) ~ nfixer*treatment +init_height,\n",
    "                                        random = ~1|spcode,\n",
    "                                        data = data_for_models)\n",
    "\n",
    "model_q2_pnue_log <- list(model_q2_pnue_log)\n",
    "\n",
    "names(model_q2_pnue_log) <- \"pnue_log\""
   ]
  },
  {
   "cell_type": "code",
   "execution_count": null,
   "id": "589e603c",
   "metadata": {},
   "outputs": [],
   "source": [
    "model_q2_pnue_nlme <- lme(pnue ~ nfixer*treatment + init_height,\n",
    "                                        random = ~1|spcode,\n",
    "                                        weights = varIdent(form = ~1|spcode*treatment),\n",
    "                                        data = data_for_models)\n",
    "\n",
    "model_q2_pnue_nlme <- list(model_q2_pnue_nlme)\n",
    "\n",
    "names(model_q2_pnue_nlme) <- \"pnue_nlme\"\n"
   ]
  },
  {
   "cell_type": "code",
   "execution_count": null,
   "id": "e11e982f",
   "metadata": {
    "lines_to_next_cell": 2
   },
   "outputs": [],
   "source": [
    "## Narea_g_m2 log model\n",
    "model_q2_n_area_log <- lme(log(narea_g_m2) ~ nfixer*treatment + init_height,\n",
    "                                                random = ~1|spcode,\n",
    "                                                data = data_for_models)\n",
    "\n",
    "model_q2_n_area_log <- list(model_q2_n_area_log)\n",
    "\n",
    "names(model_q2_n_area_log) <- \"n_area_log\""
   ]
  },
  {
   "cell_type": "code",
   "execution_count": null,
   "id": "cae2a67c",
   "metadata": {
    "lines_to_next_cell": 2
   },
   "outputs": [],
   "source": [
    "model_q2_n_area_nlme <- lme(narea_g_m2 ~ nfixer*treatment + init_height,\n",
    "                                        random = ~1|spcode,\n",
    "                                        weights = varIdent(form = ~1|spcode*treatment),\n",
    "                                        data = data_for_models)\n",
    "\n",
    "model_q2_n_area_nlme <- list(model_q2_n_area_nlme)\n",
    "\n",
    "names(model_q2_n_area_nlme) <- \"n_area_nlme\"\n"
   ]
  },
  {
   "cell_type": "code",
   "execution_count": null,
   "id": "177659f1",
   "metadata": {},
   "outputs": [],
   "source": [
    "## WUE log model\n",
    "model_q2_wue_log <- lme(log(wue) ~ nfixer*treatment + init_height,\n",
    "                                        random = ~1|spcode,\n",
    "                                        data = data_for_models)\n",
    "\n",
    "model_q2_wue_log <- list(model_q2_wue_log)\n",
    "\n",
    "names(model_q2_wue_log) <- \"wue_log\""
   ]
  },
  {
   "cell_type": "code",
   "execution_count": null,
   "id": "983d5f7a",
   "metadata": {},
   "outputs": [],
   "source": [
    "model_q2_wue_nlme <- lme(wue ~ nfixer*treatment + init_height,\n",
    "                                        random = ~1|spcode,\n",
    "                                        weights = varIdent(form = ~1|spcode*treatment),\n",
    "                                        data = data_for_models)\n",
    "\n",
    "model_q2_wue_nlme <- list(model_q2_wue_nlme)\n",
    "\n",
    "names(model_q2_wue_nlme) <- \"wue_nlme\""
   ]
  },
  {
   "cell_type": "markdown",
   "id": "f2fe26cc",
   "metadata": {},
   "source": [
    "## Nodule colonization"
   ]
  },
  {
   "cell_type": "code",
   "execution_count": null,
   "id": "e5761563",
   "metadata": {},
   "outputs": [],
   "source": [
    "# Delete unused variables\n",
    "data_nodules_cleaned <-\n",
    "    data_nodules_cleaned %>%\n",
    "\n",
    "        # add id to rownames for keep track of the rows\n",
    "        column_to_rownames(\"id\") %>%\n",
    "        dplyr::select(spcode, treatment, everything())"
   ]
  },
  {
   "cell_type": "markdown",
   "id": "a1440e65",
   "metadata": {},
   "source": [
    "### Nodule weight"
   ]
  },
  {
   "cell_type": "code",
   "execution_count": null,
   "id": "86b5bf7c",
   "metadata": {},
   "outputs": [],
   "source": [
    "nlme_nodule_weight <- lme(estimated_total_nodule_mass_per_plant ~ treatment + init_height,\n",
    "                                    random = ~1|spcode,\n",
    "                                    weights = varIdent(form = ~1|spcode*treatment),\n",
    "                                    data = data_nodules_cleaned)\n",
    "\n",
    "\n",
    "model_q2_nodule_weight <- list(nlme_nodule_weight)\n",
    "\n",
    "names(model_q2_nodule_weight) <- \"nodule_weight\""
   ]
  },
  {
   "cell_type": "markdown",
   "id": "3673ec79",
   "metadata": {
    "lines_to_next_cell": 0
   },
   "source": [
    "### Nodule count"
   ]
  },
  {
   "cell_type": "code",
   "execution_count": null,
   "id": "79c94dd4",
   "metadata": {
    "lines_to_next_cell": 2
   },
   "outputs": [],
   "source": [
    "nlme_nodule_count <- lme(total_number_of_plant_nodules ~ treatment + init_height,\n",
    "                                    random = ~1|spcode,\n",
    "                                    weights = varIdent(form = ~1|spcode*treatment),\n",
    "                                    data = data_nodules_cleaned)\n",
    "\n",
    "\n",
    "model_q2_nodule_count <- list(nlme_nodule_count)\n",
    "\n",
    "names(model_q2_nodule_count) <- \"nodule_count\""
   ]
  },
  {
   "cell_type": "code",
   "execution_count": null,
   "id": "352484ed",
   "metadata": {},
   "outputs": [],
   "source": [
    "# Append models to model list\n",
    "models_q2 <- append(model_q2_amax, models_q2)\n",
    "models_q2 <- append(model_q2_gs, models_q2)\n",
    "models_q2 <- append(model_q2_sla, models_q2)\n",
    "\n",
    "models_q2 <- append(model_q2_n_area_log, models_q2)\n",
    "models_q2 <- append(model_q2_n_area_nlme, models_q2)\n",
    "\n",
    "models_q2 <- append(model_q2_pnue_log, models_q2)\n",
    "models_q2 <- append(model_q2_pnue_nlme, models_q2)\n",
    "\n",
    "models_q2 <- append(model_q2_wue_log, models_q2)\n",
    "models_q2 <- append(model_q2_wue_nlme, models_q2)\n",
    "\n",
    "models_q2 <- append(model_q2_nodule_count, models_q2)\n",
    "models_q2 <- append(model_q2_nodule_weight, models_q2)"
   ]
  },
  {
   "cell_type": "code",
   "execution_count": null,
   "id": "4beba78e",
   "metadata": {},
   "outputs": [],
   "source": [
    "names(models_q2)"
   ]
  },
  {
   "cell_type": "markdown",
   "id": "0e6ed528",
   "metadata": {},
   "source": [
    "# Model Assumptions\n",
    "\n",
    "## Maximal photosynthesis"
   ]
  },
  {
   "cell_type": "code",
   "execution_count": null,
   "id": "59010a27",
   "metadata": {
    "dpi": 350,
    "fig.align": "center",
    "name": "q2_validation_model_plot_amax",
    "out.height": 500,
    "out.width": 1000
   },
   "outputs": [],
   "source": [
    "validation_plots(models_q2$amax, data = data_for_models, group = \"spcode\")"
   ]
  },
  {
   "cell_type": "markdown",
   "id": "30218f11",
   "metadata": {},
   "source": [
    "## Stomatal Conductance"
   ]
  },
  {
   "cell_type": "code",
   "execution_count": null,
   "id": "87445d15",
   "metadata": {
    "dpi": 350,
    "fig.align": "center",
    "name": "q2_validation_model_plot_gs",
    "out.height": 500,
    "out.width": 1000
   },
   "outputs": [],
   "source": [
    "validation_plots(models_q2$gs, data = data_for_models, group = \"spcode\")"
   ]
  },
  {
   "cell_type": "markdown",
   "id": "bb19304d",
   "metadata": {},
   "source": [
    "## SLA"
   ]
  },
  {
   "cell_type": "code",
   "execution_count": null,
   "id": "045d5ef9",
   "metadata": {
    "dpi": 350,
    "fig.align": "center",
    "name": "q2_validation_model_plot_sla",
    "out.height": 500,
    "out.width": 1000
   },
   "outputs": [],
   "source": [
    "validation_plots(models_q2$sla, data = data_for_models, group = \"spcode\")"
   ]
  },
  {
   "cell_type": "markdown",
   "id": "1ec28487",
   "metadata": {},
   "source": [
    "## Water Use Efficiency"
   ]
  },
  {
   "cell_type": "code",
   "execution_count": null,
   "id": "2f36c18b",
   "metadata": {
    "dpi": 350,
    "fig.align": "center",
    "name": "q2_validation_model_plot_wue",
    "out.height": 500,
    "out.width": 1000
   },
   "outputs": [],
   "source": [
    "validation_plots(models_q2$wue_log, data = data_for_models, group = \"spcode\")"
   ]
  },
  {
   "cell_type": "code",
   "execution_count": null,
   "id": "9268cd45",
   "metadata": {
    "dpi": 350,
    "fig.align": "center",
    "name": "q2_validation_model_plot_wue_nlme",
    "out.height": 500,
    "out.width": 1000
   },
   "outputs": [],
   "source": [
    "validation_plots(models_q2$wue_nlme, data = data_for_models, group = \"spcode\")"
   ]
  },
  {
   "cell_type": "markdown",
   "id": "1713b623",
   "metadata": {},
   "source": [
    "## PNUE"
   ]
  },
  {
   "cell_type": "code",
   "execution_count": null,
   "id": "71f3ab34",
   "metadata": {
    "dpi": 350,
    "fig.align": "center",
    "name": "q2_validation_model_plot_pnue",
    "out.height": 500,
    "out.width": 1000
   },
   "outputs": [],
   "source": [
    "validation_plots(models_q2$pnue_log, data = data_for_models, group = \"spcode\")"
   ]
  },
  {
   "cell_type": "code",
   "execution_count": null,
   "id": "af0d7e16",
   "metadata": {
    "dpi": 350,
    "fig.align": "center",
    "name": "q2_validation_model_plot_pnue_nlme",
    "out.height": 500,
    "out.width": 1000
   },
   "outputs": [],
   "source": [
    "validation_plots(models_q2$pnue_nlme, data = data_for_models, group = \"spcode\")"
   ]
  },
  {
   "cell_type": "markdown",
   "id": "40c2c981",
   "metadata": {},
   "source": [
    "## Nitrogen concentration per unit of area"
   ]
  },
  {
   "cell_type": "code",
   "execution_count": null,
   "id": "2cecad06",
   "metadata": {
    "dpi": 350,
    "fig.align": "center",
    "name": "q2_validation_model_plot_n_area",
    "out.height": 500,
    "out.width": 1000
   },
   "outputs": [],
   "source": [
    "validation_plots(models_q2$n_area_log, data = data_for_models, group = \"spcode\")"
   ]
  },
  {
   "cell_type": "code",
   "execution_count": null,
   "id": "a713a517",
   "metadata": {
    "dpi": 350,
    "fig.align": "center",
    "name": "q2_validation_model_plot_n_area_nlme",
    "out.height": 500,
    "out.width": 1000
   },
   "outputs": [],
   "source": [
    "validation_plots(models_q2$n_area_nlme, data = data_for_models, group = \"spcode\")"
   ]
  },
  {
   "cell_type": "markdown",
   "id": "b870e1fb",
   "metadata": {},
   "source": [
    "## Nodule weight"
   ]
  },
  {
   "cell_type": "code",
   "execution_count": null,
   "id": "a214d9fa",
   "metadata": {
    "dpi": 350,
    "fig.align": "center",
    "name": "q2_validation_model_plot_nodule_weight",
    "out.height": 500,
    "out.width": 1000
   },
   "outputs": [],
   "source": [
    "validation_plots(models_q2$nodule_weight, data = data_nodules_cleaned, group = \"treatment\")"
   ]
  },
  {
   "cell_type": "markdown",
   "id": "a6b8485b",
   "metadata": {},
   "source": [
    "## Nodule count"
   ]
  },
  {
   "cell_type": "code",
   "execution_count": null,
   "id": "7a28a0e6",
   "metadata": {
    "dpi": 350,
    "fig.align": "center",
    "name": "q2_validation_model_plot_nodule_count",
    "out.height": 500,
    "out.width": 1000
   },
   "outputs": [],
   "source": [
    "validation_plots(models_q2$nodule_count, data = data_nodules_cleaned, group = 'spcode')"
   ]
  },
  {
   "cell_type": "markdown",
   "id": "90659034",
   "metadata": {},
   "source": [
    "# Model inference"
   ]
  },
  {
   "cell_type": "code",
   "execution_count": null,
   "id": "ad9ae953",
   "metadata": {},
   "outputs": [],
   "source": [
    "## r2 models\n",
    "models_q2 %>%\n",
    "    map(., r2_nakagawa) %>%\n",
    "    unlist()"
   ]
  },
  {
   "cell_type": "code",
   "execution_count": null,
   "id": "81ad1a5e",
   "metadata": {},
   "outputs": [],
   "source": [
    "## r2 models\n",
    "models_q2 %>%\n",
    "    map(., AIC) %>%\n",
    "    unlist()"
   ]
  },
  {
   "cell_type": "markdown",
   "id": "0509ece8",
   "metadata": {},
   "source": [
    "## Anova tables"
   ]
  },
  {
   "cell_type": "code",
   "execution_count": null,
   "id": "b633111a",
   "metadata": {},
   "outputs": [],
   "source": [
    "#map(models_q2, ~Anova(.x, type = \"III\", test.statistic = c(\"F\")))"
   ]
  },
  {
   "cell_type": "code",
   "execution_count": null,
   "id": "0c0efcd9",
   "metadata": {},
   "outputs": [],
   "source": [
    "map(models_q2, ~anova.lme(.x, type = \"marginal\"))"
   ]
  },
  {
   "cell_type": "markdown",
   "id": "e78ffb27",
   "metadata": {},
   "source": [
    "## Post-Hoc: Tukey's test\n",
    "\n",
    "### Maximal photosynthesis"
   ]
  },
  {
   "cell_type": "code",
   "execution_count": null,
   "id": "c59efaa1",
   "metadata": {
    "warning": false
   },
   "outputs": [],
   "source": [
    "as_tibble(emmeans(models_q2$amax,\n",
    "        pairwise ~ treatment*nfixer,\n",
    "        adjust = \"tukey\"\n",
    "        )$contrast) %>%\n",
    "        mutate(across(2:6, round, 6)) %>%\n",
    "        kable()"
   ]
  },
  {
   "cell_type": "code",
   "execution_count": null,
   "id": "9d6ae455",
   "metadata": {},
   "outputs": [],
   "source": [
    "# Treatment effects\n",
    "emmeans_table_tidy(models_q2$amax,\n",
    "                        formula = \"treatment|nfixer\",\n",
    "                        grouping_var = \"nfixer\")"
   ]
  },
  {
   "cell_type": "markdown",
   "id": "68ec9e24",
   "metadata": {},
   "source": [
    "### Water Use Efficiency"
   ]
  },
  {
   "cell_type": "code",
   "execution_count": null,
   "id": "777a20c5",
   "metadata": {
    "warning": false
   },
   "outputs": [],
   "source": [
    "as_tibble(emmeans(models_q2$wue_log,\n",
    "        pairwise ~ treatment*nfixer,\n",
    "        adjust = \"tukey\"\n",
    "        )$contrast) %>%\n",
    "        mutate(across(2:6, round, 6)) %>%\n",
    "        kable() "
   ]
  },
  {
   "cell_type": "code",
   "execution_count": null,
   "id": "7bf07f6f",
   "metadata": {},
   "outputs": [],
   "source": [
    "# Treatment effects\n",
    "emmeans_table_tidy(models_q2$wue_log,\n",
    "                        formula = \"treatment|nfixer\",\n",
    "                        grouping_var = \"nfixer\")"
   ]
  },
  {
   "cell_type": "markdown",
   "id": "25e9613d",
   "metadata": {
    "lines_to_next_cell": 0
   },
   "source": [
    "### Stomatal Conductance"
   ]
  },
  {
   "cell_type": "code",
   "execution_count": null,
   "id": "87172fe1",
   "metadata": {
    "warning": false
   },
   "outputs": [],
   "source": [
    "as_tibble(emmeans(models_q2$gs,\n",
    "        pairwise ~ treatment,\n",
    "        adjust = \"tukey\"\n",
    "        )$contrast) %>%\n",
    "        mutate(across(2:6, round, 6)) %>%\n",
    "        kable() "
   ]
  },
  {
   "cell_type": "code",
   "execution_count": null,
   "id": "73def4f9",
   "metadata": {},
   "outputs": [],
   "source": [
    "# Treatment effects\n",
    "emmeans_table_tidy(models_q2$gs,\n",
    "                        formula = \"treatment\",\n",
    "                        )"
   ]
  },
  {
   "cell_type": "markdown",
   "id": "fc1e662e",
   "metadata": {},
   "source": [
    "### PNUE"
   ]
  },
  {
   "cell_type": "code",
   "execution_count": null,
   "id": "f8513ba9",
   "metadata": {
    "warning": false
   },
   "outputs": [],
   "source": [
    "as_tibble(emmeans(models_q2$pnue_log,\n",
    "        pairwise ~ treatment,\n",
    "        adjust = \"tukey\"\n",
    "        )$contrast) %>%\n",
    "        mutate(across(2:6, round, 6)) %>%\n",
    "        kable()"
   ]
  },
  {
   "cell_type": "code",
   "execution_count": null,
   "id": "fcf2cb82",
   "metadata": {},
   "outputs": [],
   "source": [
    "# Treatment effects\n",
    "emmeans_table_tidy(models_q2$pnue_log,\n",
    "                        formula = \"treatment\",\n",
    "                        )"
   ]
  },
  {
   "cell_type": "markdown",
   "id": "cae80f36",
   "metadata": {},
   "source": [
    "### Nitrogen concentration per unit of area"
   ]
  },
  {
   "cell_type": "code",
   "execution_count": null,
   "id": "300a883e",
   "metadata": {
    "lines_to_next_cell": 2,
    "warning": false
   },
   "outputs": [],
   "source": [
    "as_tibble(emmeans(models_q2$n_area_log,\n",
    "        pairwise ~ treatment,\n",
    "        adjust = \"tukey\"\n",
    "        )$contrast) %>%\n",
    "        mutate(across(2:6, round, 6)) %>%\n",
    "        kable()"
   ]
  },
  {
   "cell_type": "code",
   "execution_count": null,
   "id": "1e9034a6",
   "metadata": {},
   "outputs": [],
   "source": [
    "# Treatment effects\n",
    "emmeans_table_tidy(models_q2$n_area_log,\n",
    "                        formula = \"treatment\",\n",
    "                        )"
   ]
  },
  {
   "cell_type": "code",
   "execution_count": null,
   "id": "8da49982",
   "metadata": {
    "warning": false
   },
   "outputs": [],
   "source": [
    "as_tibble(emmeans(models_q2$n_area_log,\n",
    "        pairwise ~ nfixer,\n",
    "        adjust = \"tukey\"\n",
    "        )$contrast) %>%\n",
    "        mutate(across(2:6, round, 6)) %>%\n",
    "        kable()"
   ]
  },
  {
   "cell_type": "code",
   "execution_count": null,
   "id": "bbe922f5",
   "metadata": {
    "warning": false
   },
   "outputs": [],
   "source": [
    "# Treatment effects\n",
    "as.data.frame(emmeans::emmeans(models_q2$n_area_log,\n",
    "                                specs = pairwise ~nfixer,\n",
    "                                type = \"response\",\n",
    "                                adjust = \"tukey\")$emmeans) %>%\n",
    "\n",
    "        janitor::clean_names() %>%\n",
    "        dplyr::select(response, everything(),\n",
    "                        # Remove variables\n",
    "                      -c(df, lower_cl, upper_cl, se)) %>%\n",
    "\n",
    "        # Rename response to emmean, this is done when models is log\n",
    "        dplyr::rename_all(funs(stringr::str_replace_all(., \"response\", \"emmean\"))) %>%\n",
    "\n",
    "        # Calculate % difference between control and variable, this assume that\n",
    "        # that first name is the control\n",
    "\n",
    "        dplyr::mutate(difference = ((emmean - first(emmean))),\n",
    "               perc_difference =((emmean - first(emmean) )/first(emmean))*100) %>%\n",
    "\n",
    "        dplyr::mutate_if(is.numeric, round, 3)"
   ]
  },
  {
   "cell_type": "markdown",
   "id": "1ad66c11",
   "metadata": {},
   "source": [
    "### Boxplots traits"
   ]
  },
  {
   "cell_type": "code",
   "execution_count": null,
   "id": "443b31c2",
   "metadata": {
    "warning": false
   },
   "outputs": [],
   "source": [
    "# Step done for getting predictions from models for Q2\n",
    "data_for_predictions <-\n",
    "    data_for_models %>%\n",
    "\n",
    "        rownames_to_column(\"id\") %>%\n",
    "\n",
    "        # Remove unused variables\n",
    "        dplyr::select(id, spcode, treatment, nfixer, init_height)"
   ]
  },
  {
   "cell_type": "code",
   "execution_count": null,
   "id": "187797fc",
   "metadata": {
    "warning": false
   },
   "outputs": [],
   "source": [
    "string <- c(\"models_q2\")\n",
    "\n",
    "data_pred_traits <-\n",
    "\n",
    "        # Get models prediction\n",
    "        gather_predictions(data_for_predictions ,\n",
    "\n",
    "                           # Return predictions\n",
    "                            models_q2$amax,\n",
    "                            models_q2$sla,\n",
    "                            models_q2$gs,\n",
    "                            models_q2$wue_log,\n",
    "                            models_q2$pnue_log,\n",
    "                            models_q2$n_area_log\n",
    "\n",
    "                            ) %>%\n",
    "\n",
    "        pivot_wider(names_from = model, values_from = pred) %>%\n",
    "            rename_all(funs(\n",
    "\n",
    "                # rename columns\n",
    "                stringr::str_to_lower(.) %>%\n",
    "                stringr::str_replace(., c(string),\"pred_\") %>%\n",
    "\n",
    "                # Remove dollar sing\n",
    "                gsub(\"\\\\$\", \"\", .)\n",
    "                )) %>%\n",
    "\n",
    "        # Back transform log variables\n",
    "        mutate(pred_wue = exp(pred_wue_log),\n",
    "                pred_n_area = exp(pred_n_area_log),\n",
    "                pred_pnue =  exp(pred_pnue_log),\n",
    "\n",
    "            ) %>%\n",
    "\n",
    "        # Remove log predictions and init height\n",
    "        dplyr::select(-c(init_height, pred_wue_log, pred_n_area_log))"
   ]
  },
  {
   "cell_type": "code",
   "execution_count": null,
   "id": "93cbd9e7",
   "metadata": {
    "warning": false
   },
   "outputs": [],
   "source": [
    "# Generate plot combinations\n",
    "\n",
    "vars_q2_interaction <-\n",
    "\n",
    "  crossing(\n",
    "\n",
    "    # Get all numeric variables to plot (all y)\n",
    "    as_tibble(t(combn(dplyr::select(data_pred_traits, where(is.numeric)) %>% names, 1))),\n",
    "\n",
    "    # Select factor variables to plot\n",
    "    x_axis_var = dplyr::select(data_pred_traits, nfixer) %>%  names,\n",
    "    group_var = dplyr::select(data_pred_traits, treatment) %>%  names) %>%\n",
    "\n",
    "    filter(V1 %in% c('pred_amax', 'pred_wue'))"
   ]
  },
  {
   "cell_type": "code",
   "execution_count": null,
   "id": "e5e4cd90",
   "metadata": {
    "dpi": 350,
    "fig.align": "center",
    "name": "q2_fig_2_traits_interaction",
    "out.height": 500,
    "out.width": 1000
   },
   "outputs": [],
   "source": [
    "vars_q2_interaction %>%\n",
    "      # Gererate plots\n",
    "      pmap( ~ boxplot_plot_pmap(data = data_pred_traits,\n",
    "                                y = !!sym(..1), x = !!sym(..2),\n",
    "                                fill = !!sym(..3)))"
   ]
  },
  {
   "cell_type": "code",
   "execution_count": null,
   "id": "da6b0c41",
   "metadata": {
    "lines_to_next_cell": 2,
    "warning": false
   },
   "outputs": [],
   "source": [
    "vars_q2_treatment <-\n",
    "\n",
    "  crossing(\n",
    "\n",
    "    # Get all numeric variables to plot (all y)\n",
    "    as_tibble(t(combn(dplyr::select(data_pred_traits, where(is.numeric)) %>% names, 1))),\n",
    "\n",
    "    # Select factor variables to plot\n",
    "    x_axis_var = dplyr::select(data_pred_traits, treatment) %>%  names,\n",
    "    group_var = dplyr::select(data_pred_traits, treatment) %>%  names) %>%\n",
    "\n",
    "    filter(V1 %in% c('pred_gs', 'pred_n_area', 'pred_pnue' ))"
   ]
  },
  {
   "cell_type": "code",
   "execution_count": null,
   "id": "455a37f9",
   "metadata": {
    "dpi": 350,
    "fig.align": "center",
    "lines_to_next_cell": 2,
    "name": "q2_fig_3_traits_treatment",
    "out.height": 500,
    "out.width": 1000
   },
   "outputs": [],
   "source": [
    "vars_q2_treatment %>%\n",
    "      # Gererate plots\n",
    "      pmap( ~ boxplot_plot_pmap(data = data_pred_traits,\n",
    "                                y = !!sym(..1), x = !!sym(..2),\n",
    "                                fill = !!sym(..3)))"
   ]
  },
  {
   "cell_type": "markdown",
   "id": "6e1382f6",
   "metadata": {
    "lines_to_next_cell": 0
   },
   "source": [
    "### Nodule weight"
   ]
  },
  {
   "cell_type": "code",
   "execution_count": null,
   "id": "fffe0c5b",
   "metadata": {},
   "outputs": [],
   "source": [
    "as_tibble(emmeans(models_q2$nodule_weight,\n",
    "        pairwise ~ treatment,\n",
    "        adjust = \"tukey\"\n",
    "        )$contrast) %>%\n",
    "        mutate(across(2:6, round, 6)) %>%\n",
    "        kable()"
   ]
  },
  {
   "cell_type": "code",
   "execution_count": null,
   "id": "a255e202",
   "metadata": {
    "lines_to_next_cell": 2
   },
   "outputs": [],
   "source": [
    "# Treatment effects\n",
    "emmeans_table_tidy(models_q2$nodule_weight,\n",
    "                        formula = \"treatment\")"
   ]
  },
  {
   "cell_type": "markdown",
   "id": "6d33c6d3",
   "metadata": {},
   "source": [
    "### Nodule Count"
   ]
  },
  {
   "cell_type": "code",
   "execution_count": null,
   "id": "5e9b5de2",
   "metadata": {},
   "outputs": [],
   "source": [
    "as_tibble(emmeans(models_q2$nodule_count,\n",
    "        pairwise ~ treatment,\n",
    "        adjust = \"tukey\"\n",
    "        )$contrast) %>%\n",
    "        mutate(across(2:6, round, 6)) %>%\n",
    "        kable()"
   ]
  },
  {
   "cell_type": "code",
   "execution_count": null,
   "id": "5cba4ff2",
   "metadata": {},
   "outputs": [],
   "source": [
    "# Treatment effects\n",
    "emmeans_table_tidy(models_q2$nodule_count,\n",
    "                        formula = \"treatment\")"
   ]
  },
  {
   "cell_type": "markdown",
   "id": "50a205a9",
   "metadata": {},
   "source": [
    "### Boxplots Nodules"
   ]
  },
  {
   "cell_type": "code",
   "execution_count": null,
   "id": "b5d0beba",
   "metadata": {
    "lines_to_next_cell": 2
   },
   "outputs": [],
   "source": [
    "data_for_nodule_predictions <- \n",
    "        data_nodules_cleaned %>%\n",
    "\n",
    "        rownames_to_column(\"id\") %>%\n",
    "\n",
    "        # Remove unused variables\n",
    "        dplyr::select(id, spcode, treatment, init_height)"
   ]
  },
  {
   "cell_type": "code",
   "execution_count": null,
   "id": "a456c043",
   "metadata": {},
   "outputs": [],
   "source": [
    "string <- c(\"models_q2\")\n",
    "\n",
    "data_pred_nodules <-\n",
    "\n",
    "        # Get models prediction\n",
    "        gather_predictions(data_for_nodule_predictions,\n",
    "\n",
    "                           # Return predictions\n",
    "                            models_q2$nodule_count,\n",
    "                            models_q2$nodule_weight) %>%    \n",
    "\n",
    "        pivot_wider(names_from = model, values_from = pred) %>%\n",
    "            rename_all(funs(\n",
    "\n",
    "                # rename columns\n",
    "                stringr::str_to_lower(.) %>%\n",
    "                stringr::str_replace(., c(string),\"pred_\") %>%\n",
    "\n",
    "                # Remove dollar sing\n",
    "                gsub(\"\\\\$\", \"\", .)\n",
    "                )) %>% \n",
    "        # Remove log predictions and init height\n",
    "        dplyr::select(-c(init_height))"
   ]
  },
  {
   "cell_type": "code",
   "execution_count": null,
   "id": "33c27158",
   "metadata": {},
   "outputs": [],
   "source": [
    "# Generate plot combinations\n",
    "\n",
    "vars_q2_nodules <-\n",
    "\n",
    "  crossing(\n",
    "\n",
    "    # Get all numeric variables to plot (all y)\n",
    "    as_tibble(t(combn(dplyr::select(data_pred_nodules, where(is.numeric)) %>% names, 1))),\n",
    "\n",
    "    # Select factor variables to plot\n",
    "    x_axis_var = dplyr::select(data_pred_nodules, treatment) %>%  names,\n",
    "    group_var = dplyr::select(data_pred_nodules, treatment) %>%  names) "
   ]
  },
  {
   "cell_type": "code",
   "execution_count": null,
   "id": "15686004",
   "metadata": {
    "dpi": 350,
    "fig.align": "center",
    "name": "q2_fig_4_noudle",
    "out.height": 500,
    "out.width": 1000
   },
   "outputs": [],
   "source": [
    "vars_q2_nodules %>%\n",
    "      # Gererate plots\n",
    "      pmap( ~ boxplot_plot_pmap(data = data_pred_nodules,\n",
    "                                y = !!sym(..1), x = !!sym(..2),\n",
    "                                fill = !!sym(..3)))"
   ]
  }
 ],
 "metadata": {
  "jupytext": {
   "cell_metadata_filter": "fig.align,warning,cache,out.height,dpi,out.width,message,tags,name,-all",
   "main_language": "R",
   "notebook_metadata_filter": "-all"
  }
 },
 "nbformat": 4,
 "nbformat_minor": 5
}
