{
 "cells": [
  {
   "cell_type": "raw",
   "id": "f9e40003",
   "metadata": {},
   "source": [
    "---\n",
    "title: 'Models for Q1'\n",
    "author: \"Erick Calderon-Morales and Leland Werden\"\n",
    "date: ''\n",
    "due_date: \"\"\n",
    "output:\n",
    "  prettydoc::html_pretty:\n",
    "    highlight: pygments\n",
    "    theme: tactile\n",
    "    toc: yes\n",
    "    number_sections: no\n",
    "    toc_depth: 1\n",
    "---"
   ]
  },
  {
   "cell_type": "code",
   "execution_count": null,
   "id": "942dbccb",
   "metadata": {
    "lines_to_next_cell": 2,
    "name": "knitr",
    "tags": [
     "remove_cell"
    ]
   },
   "outputs": [],
   "source": [
    "\n",
    "# Save figures in specific place\n",
    "knitr::opts_chunk$set(autodep        = TRUE,\n",
    "                      cache          = FALSE,\n",
    "                      cache.comments = TRUE,\n",
    "                      comment = \"\",\n",
    "\n",
    "                      # Save figures as pdf ?\n",
    "                      dev = c(\"png\", \"pdf\"),\n",
    "\n",
    "                      # Include code?\n",
    "                      echo           = TRUE,\n",
    "                      warning = FALSE, \n",
    "                      error          = FALSE,\n",
    "                      fig.align      = \"center\",\n",
    "\n",
    "                      # Path where figures are going to be store pdf single\n",
    "                      # figures\n",
    "                      fig.path       = paste0(\"./figures\", \"/\"),\n",
    "                      fig.width      = 11,\n",
    "                      fig.height     = 7,\n",
    "                      message        = FALSE,\n",
    "                      warning        = FALSE)\n",
    "\n",
    "# set to two decimal\n",
    "options(scipen = 1, digits = 8)"
   ]
  },
  {
   "cell_type": "code",
   "execution_count": null,
   "id": "e9bbd1cd",
   "metadata": {
    "cache": false,
    "message": false,
    "name": "libaries",
    "warning": false
   },
   "outputs": [],
   "source": [
    "library(dplyr)\n",
    "library(nlme)\n",
    "library(purrr)\n",
    "library(performance)\n",
    "library(tibble)\n",
    "library(here)\n",
    "library(reactablefmtr)\n",
    "library(emmeans)\n",
    "library(car)\n",
    "library(ggplot2)\n",
    "library(modelr)\n",
    "library(knitr)"
   ]
  },
  {
   "cell_type": "code",
   "execution_count": null,
   "id": "3f7fb2e4",
   "metadata": {
    "name": "setup",
    "tags": [
     "remove_cell"
    ]
   },
   "outputs": [],
   "source": [
    "# Set knit directory\n",
    "setwd(here::here())\n",
    "knitr::opts_knit$set(root.dir = setwd(here::here()))\n",
    "getwd()"
   ]
  },
  {
   "cell_type": "markdown",
   "id": "33457992",
   "metadata": {
    "lines_to_next_cell": 0
   },
   "source": [
    "# Load functions and data"
   ]
  },
  {
   "cell_type": "code",
   "execution_count": null,
   "id": "6849d08a",
   "metadata": {},
   "outputs": [],
   "source": [
    "# Load all joined dataset\n",
    "source(\"./scripts/code_join_data_full_dataset.R\")"
   ]
  },
  {
   "cell_type": "code",
   "execution_count": null,
   "id": "ca0b6c7e",
   "metadata": {},
   "outputs": [],
   "source": [
    "# Load custom made functions\n",
    "source(\"./R/functions_models.R\")\n",
    "source(\"./R/function_plots.R\")\n",
    "source(\"./R/function_validation_plots.R\")\n",
    "source(\"./R/function_for_inference_emmeans_and_percentage_diff.R\")"
   ]
  },
  {
   "cell_type": "markdown",
   "id": "0fa45a32",
   "metadata": {},
   "source": [
    "# Research question\n",
    "\n",
    "__Q1: How do plant responses to water and nutrients vary between N-Fixers and non-fixers?__\n",
    "\n",
    "# Model fitting"
   ]
  },
  {
   "cell_type": "code",
   "execution_count": null,
   "id": "e2d91be4",
   "metadata": {},
   "outputs": [],
   "source": [
    "# Create empty list\n",
    "models_q1 <- list()"
   ]
  },
  {
   "cell_type": "code",
   "execution_count": null,
   "id": "39b31826",
   "metadata": {
    "lines_to_next_cell": 2
   },
   "outputs": [],
   "source": [
    "model_q1_total_biomass <- lme(total_biomass ~ nfixer*treatment + init_height,\n",
    "                                                random = ~1|spcode,             \n",
    "                                                data = data_for_models)\n",
    "\n",
    "model_q1_total_biomass <- list(model_q1_total_biomass)\n",
    "names(model_q1_total_biomass) <- \"total_biomass\""
   ]
  },
  {
   "cell_type": "code",
   "execution_count": null,
   "id": "14c66886",
   "metadata": {},
   "outputs": [],
   "source": [
    "model_q1_rgr <- lme(rgr ~ nfixer*treatment + init_height,\n",
    "                                                random = ~1|spcode,             \n",
    "                                                data = data_for_models)\n",
    "\n",
    "model_q1_rgr <- list(model_q1_rgr)\n",
    "names(model_q1_rgr) <- \"rgr\""
   ]
  },
  {
   "cell_type": "code",
   "execution_count": null,
   "id": "60ab1aa2",
   "metadata": {},
   "outputs": [],
   "source": [
    "\n",
    "# Log model\n",
    "\n",
    "## Root-Shoot ratio\n",
    "model_q1_ratio_log <- lme(log(root_shoot_ratio) ~ nfixer*treatment + init_height,\n",
    "                                                random = ~1|spcode,             \n",
    "                                                data = data_for_models)\n",
    "\n",
    "log_models_q1 <- list(model_q1_ratio_log)\n",
    "\n",
    "names(log_models_q1) <- \"root_shoot_ratio_log\""
   ]
  },
  {
   "cell_type": "code",
   "execution_count": null,
   "id": "4dd5ab8d",
   "metadata": {},
   "outputs": [],
   "source": [
    "# Append log models to model list\n",
    "models_q1 <- append(model_q1_total_biomass, models_q1)\n",
    "models_q1 <- append(model_q1_rgr, models_q1)\n",
    "models_q1 <- append(log_models_q1, models_q1)"
   ]
  },
  {
   "cell_type": "code",
   "execution_count": null,
   "id": "f9f4f1ce",
   "metadata": {},
   "outputs": [],
   "source": [
    "names(models_q1)"
   ]
  },
  {
   "cell_type": "markdown",
   "id": "2130f8cf",
   "metadata": {},
   "source": [
    "# Model Assumptions\n",
    "\n",
    "## Total Biomass"
   ]
  },
  {
   "cell_type": "code",
   "execution_count": null,
   "id": "ec60244e",
   "metadata": {
    "dpi": 350,
    "fig.align": "center",
    "name": "q1_validation_model_plot_total_biom",
    "out.height": 500,
    "out.width": 1000
   },
   "outputs": [],
   "source": [
    "validation_plots(models_q1$total_biomass, data = data_for_models,group = \"spcode\")"
   ]
  },
  {
   "cell_type": "markdown",
   "id": "c3ae535e",
   "metadata": {},
   "source": [
    "## RGR"
   ]
  },
  {
   "cell_type": "code",
   "execution_count": null,
   "id": "14c57ee5",
   "metadata": {
    "dpi": 350,
    "fig.align": "center",
    "name": "q1_validation_model_plot_rgr",
    "out.height": 500,
    "out.width": 1000
   },
   "outputs": [],
   "source": [
    "validation_plots(models_q1$rgr, data = data_for_models, group = \"spcode\")"
   ]
  },
  {
   "cell_type": "markdown",
   "id": "7e833f63",
   "metadata": {},
   "source": [
    "## Root-Shoot ratio"
   ]
  },
  {
   "cell_type": "code",
   "execution_count": null,
   "id": "dbf0268e",
   "metadata": {
    "dpi": 350,
    "fig.align": "center",
    "name": "q1_validation_model_plot_root_ratio",
    "out.height": 500,
    "out.width": 1000
   },
   "outputs": [],
   "source": [
    "validation_plots(models_q1$root_shoot_ratio_log, data = data_for_models, \n",
    "                group = \"spcode\")"
   ]
  },
  {
   "cell_type": "markdown",
   "id": "ec41aa65",
   "metadata": {},
   "source": [
    "# Model inference"
   ]
  },
  {
   "cell_type": "code",
   "execution_count": null,
   "id": "a6a34bc6",
   "metadata": {},
   "outputs": [],
   "source": [
    "## r2 models\n",
    "models_q1 %>%\n",
    "    map(., r2_nakagawa) %>%\n",
    "    unlist() %>%\n",
    "    kable()"
   ]
  },
  {
   "cell_type": "code",
   "execution_count": null,
   "id": "b1c198c9",
   "metadata": {},
   "outputs": [],
   "source": [
    "models_q1 %>%\n",
    "    map(., AIC) %>%\n",
    "    unlist()"
   ]
  },
  {
   "cell_type": "markdown",
   "id": "0ec9ed0e",
   "metadata": {},
   "source": [
    "## Anova tables\n",
    "\n",
    "All models show a significant two-way interaction between Nfixer and Treatment"
   ]
  },
  {
   "cell_type": "code",
   "execution_count": null,
   "id": "2158c8d8",
   "metadata": {},
   "outputs": [],
   "source": [
    "#map(models_q1, ~Anova(.x, type = \"III\", test.statistic = c(\"F\")))\n",
    "map(models_q1, ~anova.lme(.x, type = \"marginal\"))"
   ]
  },
  {
   "cell_type": "markdown",
   "id": "b03a4484",
   "metadata": {},
   "source": [
    "### Post-Hoc: Tukey's test\n",
    "\n",
    "#### Total Biomass"
   ]
  },
  {
   "cell_type": "code",
   "execution_count": null,
   "id": "870ca23e",
   "metadata": {},
   "outputs": [],
   "source": [
    "as_tibble(emmeans(models_q1$total_biomass,\n",
    "        pairwise ~ treatment*nfixer,\n",
    "        adjust = \"tukey\"\n",
    "        )$contrast) %>%\n",
    "        mutate(across(2:6, round, 6)) %>%\n",
    "        kable()"
   ]
  },
  {
   "cell_type": "code",
   "execution_count": null,
   "id": "0b1de19a",
   "metadata": {},
   "outputs": [],
   "source": [
    "## Treatment effects\n",
    "emmeans_table_tidy(models_q1$total_biomass,\n",
    "                        formula = \"treatment|nfixer\",\n",
    "                        grouping_var = \"nfixer\")"
   ]
  },
  {
   "cell_type": "markdown",
   "id": "34ca84de",
   "metadata": {},
   "source": [
    "#### RGR"
   ]
  },
  {
   "cell_type": "code",
   "execution_count": null,
   "id": "f3d23776",
   "metadata": {},
   "outputs": [],
   "source": [
    "as_tibble(emmeans(models_q1$rgr,\n",
    "        pairwise ~ treatment*nfixer,\n",
    "        adjust = \"tukey\"\n",
    "        )$contrast) %>%\n",
    "        mutate(across(2:6, round, 6)) %>%\n",
    "        kable()"
   ]
  },
  {
   "cell_type": "code",
   "execution_count": null,
   "id": "39d6dd44",
   "metadata": {},
   "outputs": [],
   "source": [
    "# Treatment effects\n",
    "emmeans_table_tidy(models_q1$root_shoot_ratio_log,\n",
    "                        formula = \"treatment|nfixer\",\n",
    "                        grouping_var = \"nfixer\")"
   ]
  },
  {
   "cell_type": "markdown",
   "id": "f4a7804d",
   "metadata": {},
   "source": [
    "## Boxplots Biomass and growth"
   ]
  },
  {
   "cell_type": "code",
   "execution_count": null,
   "id": "06ba5ff2",
   "metadata": {},
   "outputs": [],
   "source": [
    "# Step done for getting predictions from models for Q1\n",
    "data_for_predictions <-\n",
    "    data_for_models %>%\n",
    "\n",
    "        rownames_to_column(\"id\") %>%\n",
    "\n",
    "        # Remove unused variables\n",
    "        dplyr::select(id, spcode, treatment, nfixer, init_height)"
   ]
  },
  {
   "cell_type": "code",
   "execution_count": null,
   "id": "0a96bff9",
   "metadata": {},
   "outputs": [],
   "source": [
    "# Get predictions\n",
    "string <- c(\"models_q1\")\n",
    "\n",
    "data_pred_biomass_growth <-\n",
    "\n",
    "        # Get models prediction\n",
    "        gather_predictions(data_for_predictions,\n",
    "\n",
    "                           # Return predictions of:\n",
    "                            models_q1$rgr,\n",
    "                            models_q1$total_biomass,\n",
    "                            models_q1$root_shoot_ratio_log)   %>%\n",
    "\n",
    "            # Get fitted values\n",
    "            pivot_wider(names_from = model, values_from = pred)  %>%\n",
    "             rename_all(\n",
    "              funs(\n",
    "\n",
    "                # rename columns\n",
    "                stringr::str_to_lower(.) %>%\n",
    "\n",
    "                # Remove string from name and replace it with pred_\n",
    "                stringr::str_replace(., c(string), \"pred_\") %>%\n",
    "\n",
    "                # Remove dollar sing\n",
    "                gsub(\"\\\\$\", \"\", .))) %>%\n",
    "\n",
    "\n",
    "        # Back transform log variables\n",
    "        mutate(pred_root_shoot_ratio = exp(pred_root_shoot_ratio_log)) %>%\n",
    "\n",
    "        # Select only pred variables\n",
    "        dplyr::select(-c(init_height, pred_root_shoot_ratio_log))"
   ]
  },
  {
   "cell_type": "code",
   "execution_count": null,
   "id": "cf8c0e53",
   "metadata": {},
   "outputs": [],
   "source": [
    "# Generate plot combinations\n",
    "vars_q1 <-\n",
    "  crossing(\n",
    "\n",
    "    # Get all numeric variables to plot (all y)\n",
    "    as_tibble(t(combn(dplyr::select(data_pred_biomass_growth, where(is.numeric)) %>% names, 1))),\n",
    "\n",
    "    # Select factor variables to plot\n",
    "    x_axis_var = dplyr::select(data_pred_biomass_growth, nfixer) %>%  names,\n",
    "    group_var = dplyr::select(data_pred_biomass_growth, treatment) %>%  names)"
   ]
  },
  {
   "cell_type": "code",
   "execution_count": null,
   "id": "3e4a76bd",
   "metadata": {
    "dpi": 600,
    "fig.align": "center",
    "lines_to_next_cell": 0,
    "name": "q1_fig_1_biomass_growth_boxplot",
    "out.height": 500,
    "out.width": 600
   },
   "outputs": [],
   "source": [
    "par(mfrow = c(2,2))\n",
    "vars_q1 %>%\n",
    "      # Gererate plots\n",
    "      pmap(~boxplot_plot_pmap(data = data_pred_biomass_growth,\n",
    "                        y = !!sym(..1), x = !!sym(..2),\n",
    "                                fill = !!sym(..3)))"
   ]
  },
  {
   "cell_type": "markdown",
   "id": "10a8c261",
   "metadata": {},
   "source": []
  }
 ],
 "metadata": {
  "jupytext": {
   "cell_metadata_filter": "dpi,warning,cache,message,fig.align,out.width,out.height,name,tags,-all",
   "main_language": "R",
   "notebook_metadata_filter": "-all"
  }
 },
 "nbformat": 4,
 "nbformat_minor": 5
}
