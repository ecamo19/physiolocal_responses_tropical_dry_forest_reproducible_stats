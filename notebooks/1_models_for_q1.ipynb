{
 "cells": [
  {
   "cell_type": "raw",
   "id": "514778c8",
   "metadata": {},
   "source": [
    "---\n",
    "title: 'Models for Q1'\n",
    "author: \"Erick Calderon-Morales and Leland Werden\"\n",
    "date: ''\n",
    "due_date: \"\"\n",
    "output:\n",
    "  prettydoc::html_pretty:\n",
    "    highlight: pygments\n",
    "    theme: tactile\n",
    "    toc: yes\n",
    "    number_sections: no\n",
    "    toc_depth: 1\n",
    "---"
   ]
  },
  {
   "cell_type": "code",
   "execution_count": null,
   "id": "c2c727f5",
   "metadata": {
    "lines_to_next_cell": 2,
    "name": "knitr",
    "tags": [
     "remove_cell"
    ]
   },
   "outputs": [],
   "source": [
    "\n",
    "# Save figures in specific place\n",
    "knitr::opts_chunk$set(autodep        = TRUE,\n",
    "                      cache          = FALSE,\n",
    "                      cache.comments = TRUE,\n",
    "                      comment = \"\",\n",
    "\n",
    "                      # Save figures as pdf ?\n",
    "                      dev = c(\"png\", \"pdf\"),\n",
    "\n",
    "                      # Include code?\n",
    "                      echo           = TRUE,\n",
    "                      warning = FALSE, \n",
    "                      error          = FALSE,\n",
    "                      fig.align      = \"center\",\n",
    "\n",
    "                      # Path where figures are going to be store pdf single\n",
    "                      # figures\n",
    "                      fig.path       = paste0(\"./figures\", \"/\"),\n",
    "                      fig.width      = 11,\n",
    "                      fig.height     = 7,\n",
    "                      message        = FALSE,\n",
    "                      warning        = FALSE)\n",
    "\n",
    "# set to two decimal\n",
    "options(scipen = 1, digits = 8)"
   ]
  },
  {
   "cell_type": "code",
   "execution_count": null,
   "id": "3bf41eb4",
   "metadata": {
    "cache": false,
    "message": false,
    "name": "libaries",
    "warning": false
   },
   "outputs": [],
   "source": [
    "library(dplyr)\n",
    "library(nlme)\n",
    "library(purrr)\n",
    "library(performance)\n",
    "library(tibble)\n",
    "library(here)\n",
    "library(reactablefmtr)\n",
    "library(emmeans)\n",
    "library(car)\n",
    "library(ggplot2)\n",
    "library(modelr)\n",
    "library(knitr)"
   ]
  },
  {
   "cell_type": "code",
   "execution_count": null,
   "id": "476804c5",
   "metadata": {
    "name": "setup",
    "tags": [
     "remove_cell"
    ]
   },
   "outputs": [],
   "source": [
    "# Set knit directory\n",
    "setwd(here::here())\n",
    "knitr::opts_knit$set(root.dir = setwd(here::here()))\n",
    "getwd()"
   ]
  },
  {
   "cell_type": "markdown",
   "id": "f47cd751",
   "metadata": {
    "lines_to_next_cell": 0
   },
   "source": [
    "# Load functions and data"
   ]
  },
  {
   "cell_type": "code",
   "execution_count": null,
   "id": "c246e078",
   "metadata": {},
   "outputs": [],
   "source": [
    "# Load all joined dataset\n",
    "source(\"./scripts/code_join_data_full_dataset.R\")"
   ]
  },
  {
   "cell_type": "code",
   "execution_count": null,
   "id": "4a455069",
   "metadata": {},
   "outputs": [],
   "source": [
    "# Load custom made functions\n",
    "source(\"./R/functions_models.R\")\n",
    "source(\"./R/function_plots.R\")\n",
    "source(\"./R/function_validation_plots.R\")\n",
    "source(\"./R/function_for_inference_emmeans_and_percentage_diff.R\")"
   ]
  },
  {
   "cell_type": "markdown",
   "id": "ec4757a8",
   "metadata": {},
   "source": [
    "# Research question\n",
    "\n",
    "__Q1: How do plant responses to water and nutrients vary between N-Fixers and non-fixers?__\n",
    "\n",
    "# Model fitting"
   ]
  },
  {
   "cell_type": "code",
   "execution_count": null,
   "id": "01bff846",
   "metadata": {},
   "outputs": [],
   "source": [
    "# Create empty list\n",
    "models_q1 <- list()"
   ]
  },
  {
   "cell_type": "code",
   "execution_count": null,
   "id": "1985e1cb",
   "metadata": {
    "lines_to_next_cell": 2
   },
   "outputs": [],
   "source": [
    "model_q1_total_biomass <- lme(total_biomass ~ nfixer*treatment + init_height,\n",
    "                                                random = ~1|spcode,             \n",
    "                                                data = data_for_models)\n",
    "\n",
    "model_q1_total_biomass <- list(model_q1_total_biomass)\n",
    "names(model_q1_total_biomass) <- \"total_biomass\""
   ]
  },
  {
   "cell_type": "code",
   "execution_count": null,
   "id": "f252ac66",
   "metadata": {},
   "outputs": [],
   "source": [
    "model_q1_rgr <- lme(rgr ~ nfixer*treatment + init_height,\n",
    "                                                random = ~1|spcode,             \n",
    "                                                data = data_for_models)\n",
    "\n",
    "model_q1_rgr <- list(model_q1_rgr)\n",
    "names(model_q1_rgr) <- \"rgr\""
   ]
  },
  {
   "cell_type": "code",
   "execution_count": null,
   "id": "c3dd65ae",
   "metadata": {},
   "outputs": [],
   "source": [
    "\n",
    "# Log model\n",
    "\n",
    "## Root-Shoot ratio\n",
    "model_q1_ratio_log <- lme(log(root_shoot_ratio) ~ nfixer*treatment + init_height,\n",
    "                                                random = ~1|spcode,             \n",
    "                                                data = data_for_models)\n",
    "\n",
    "log_models_q1 <- list(model_q1_ratio_log)\n",
    "\n",
    "names(log_models_q1) <- \"root_shoot_ratio_log\""
   ]
  },
  {
   "cell_type": "code",
   "execution_count": null,
   "id": "dc2be2e4",
   "metadata": {},
   "outputs": [],
   "source": [
    "# Append log models to model list\n",
    "models_q1 <- append(model_q1_total_biomass, models_q1)\n",
    "models_q1 <- append(model_q1_rgr, models_q1)\n",
    "models_q1 <- append(log_models_q1, models_q1)"
   ]
  },
  {
   "cell_type": "code",
   "execution_count": null,
   "id": "09626b4c",
   "metadata": {},
   "outputs": [],
   "source": [
    "names(models_q1)"
   ]
  },
  {
   "cell_type": "markdown",
   "id": "a6e74c40",
   "metadata": {},
   "source": [
    "# Model Assumptions\n",
    "\n",
    "## Total Biomass"
   ]
  },
  {
   "cell_type": "code",
   "execution_count": null,
   "id": "91d55f83",
   "metadata": {
    "dpi": 350,
    "fig.align": "center",
    "name": "q1_validation_model_plot_total_biom",
    "out.height": 500,
    "out.width": 1000
   },
   "outputs": [],
   "source": [
    "validation_plots(models_q1$total_biomass, data = data_for_models,group = \"spcode\")"
   ]
  },
  {
   "cell_type": "markdown",
   "id": "38d7182e",
   "metadata": {},
   "source": [
    "## RGR"
   ]
  },
  {
   "cell_type": "code",
   "execution_count": null,
   "id": "424bfbe5",
   "metadata": {
    "dpi": 350,
    "fig.align": "center",
    "name": "q1_validation_model_plot_rgr",
    "out.height": 500,
    "out.width": 1000
   },
   "outputs": [],
   "source": [
    "validation_plots(models_q1$rgr, data = data_for_models, group = \"spcode\")"
   ]
  },
  {
   "cell_type": "markdown",
   "id": "65edd2a9",
   "metadata": {},
   "source": [
    "## Root-Shoot ratio"
   ]
  },
  {
   "cell_type": "code",
   "execution_count": null,
   "id": "60611b2e",
   "metadata": {
    "dpi": 350,
    "fig.align": "center",
    "name": "q1_validation_model_plot_root_ratio",
    "out.height": 500,
    "out.width": 1000
   },
   "outputs": [],
   "source": [
    "validation_plots(models_q1$root_shoot_ratio_log, data = data_for_models, \n",
    "                group = \"spcode\")"
   ]
  },
  {
   "cell_type": "markdown",
   "id": "281d8cbb",
   "metadata": {},
   "source": [
    "# Model inference"
   ]
  },
  {
   "cell_type": "code",
   "execution_count": null,
   "id": "694c8cf4",
   "metadata": {},
   "outputs": [],
   "source": [
    "## r2 models\n",
    "models_q1 %>%\n",
    "    map(., r2_nakagawa) %>%\n",
    "    unlist() %>%\n",
    "    kable()"
   ]
  },
  {
   "cell_type": "code",
   "execution_count": null,
   "id": "6d5363b3",
   "metadata": {},
   "outputs": [],
   "source": [
    "models_q1 %>%\n",
    "    map(., AIC) %>%\n",
    "    unlist()"
   ]
  },
  {
   "cell_type": "markdown",
   "id": "0d37af85",
   "metadata": {},
   "source": [
    "## Anova tables\n",
    "\n",
    "All models show a significant two-way interaction between Nfixer and Treatment"
   ]
  },
  {
   "cell_type": "code",
   "execution_count": null,
   "id": "2fa5769c",
   "metadata": {},
   "outputs": [],
   "source": [
    "#map(models_q1, ~Anova(.x, type = \"III\", test.statistic = c(\"F\")))\n",
    "map(models_q1, ~anova.lme(.x, type = \"marginal\"))"
   ]
  },
  {
   "cell_type": "markdown",
   "id": "6e79b528",
   "metadata": {},
   "source": [
    "### Post-Hoc: Tukey's test\n",
    "\n",
    "#### Total Biomass"
   ]
  },
  {
   "cell_type": "code",
   "execution_count": null,
   "id": "b7367667",
   "metadata": {},
   "outputs": [],
   "source": [
    "as_tibble(emmeans(models_q1$total_biomass,\n",
    "        pairwise ~ treatment*nfixer,\n",
    "        adjust = \"tukey\"\n",
    "        )$contrast) %>%\n",
    "        mutate(across(2:6, round, 6)) %>%\n",
    "        kable()"
   ]
  },
  {
   "cell_type": "code",
   "execution_count": null,
   "id": "4754c552",
   "metadata": {},
   "outputs": [],
   "source": [
    "## Treatment effects\n",
    "emmeans_table_tidy(models_q1$total_biomass,\n",
    "                        formula = \"treatment|nfixer\",\n",
    "                        grouping_var = \"nfixer\")"
   ]
  },
  {
   "cell_type": "markdown",
   "id": "ee046783",
   "metadata": {},
   "source": [
    "#### RGR"
   ]
  },
  {
   "cell_type": "code",
   "execution_count": null,
   "id": "60e1d86b",
   "metadata": {},
   "outputs": [],
   "source": [
    "as_tibble(emmeans(models_q1$rgr,\n",
    "        pairwise ~ treatment*nfixer,\n",
    "        adjust = \"tukey\"\n",
    "        )$contrast) %>%\n",
    "        mutate(across(2:6, round, 6)) %>%\n",
    "        kable()"
   ]
  },
  {
   "cell_type": "code",
   "execution_count": null,
   "id": "42e291e2",
   "metadata": {
    "lines_to_next_cell": 2
   },
   "outputs": [],
   "source": [
    "# Treatment effects\n",
    "emmeans_table_tidy(models_q1$rgr,\n",
    "                        formula = \"treatment|nfixer\",\n",
    "                        grouping_var = \"nfixer\")"
   ]
  },
  {
   "cell_type": "markdown",
   "id": "83405c6b",
   "metadata": {
    "lines_to_next_cell": 0
   },
   "source": [
    "#### Root shoot ratio"
   ]
  },
  {
   "cell_type": "code",
   "execution_count": null,
   "id": "1b4f206c",
   "metadata": {},
   "outputs": [],
   "source": [
    "as_tibble(emmeans(models_q1$root_shoot_ratio_log,\n",
    "        pairwise ~ treatment*nfixer,\n",
    "        adjust = \"tukey\"\n",
    "        )$contrast) %>%\n",
    "        mutate(across(2:6, round, 6)) %>%\n",
    "        kable()"
   ]
  },
  {
   "cell_type": "code",
   "execution_count": null,
   "id": "b58ed720",
   "metadata": {},
   "outputs": [],
   "source": [
    "# Treatment effects\n",
    "emmeans_table_tidy(models_q1$root_shoot_ratio_log,\n",
    "                        formula = \"treatment|nfixer\",\n",
    "                        grouping_var = \"nfixer\")"
   ]
  },
  {
   "cell_type": "markdown",
   "id": "9ac76fee",
   "metadata": {},
   "source": [
    "## Boxplots Biomass and growth"
   ]
  },
  {
   "cell_type": "code",
   "execution_count": null,
   "id": "65392faa",
   "metadata": {},
   "outputs": [],
   "source": [
    "# Step done for getting predictions from models for Q1\n",
    "data_for_predictions <-\n",
    "    data_for_models %>%\n",
    "\n",
    "        rownames_to_column(\"id\") %>%\n",
    "\n",
    "        # Remove unused variables\n",
    "        dplyr::select(id, spcode, treatment, nfixer, init_height)"
   ]
  },
  {
   "cell_type": "code",
   "execution_count": null,
   "id": "d5568f2b",
   "metadata": {},
   "outputs": [],
   "source": [
    "# Get predictions\n",
    "string <- c(\"models_q1\")\n",
    "\n",
    "data_pred_biomass_growth <-\n",
    "\n",
    "        # Get models prediction\n",
    "        gather_predictions(data_for_predictions,\n",
    "\n",
    "                           # Return predictions of:\n",
    "                            models_q1$rgr,\n",
    "                            models_q1$total_biomass,\n",
    "                            models_q1$root_shoot_ratio_log)   %>%\n",
    "\n",
    "            # Get fitted values\n",
    "            pivot_wider(names_from = model, values_from = pred)  %>%\n",
    "             rename_all(\n",
    "              funs(\n",
    "\n",
    "                # rename columns\n",
    "                stringr::str_to_lower(.) %>%\n",
    "\n",
    "                # Remove string from name and replace it with pred_\n",
    "                stringr::str_replace(., c(string), \"pred_\") %>%\n",
    "\n",
    "                # Remove dollar sing\n",
    "                gsub(\"\\\\$\", \"\", .))) %>%\n",
    "\n",
    "\n",
    "        # Back transform log variables\n",
    "        mutate(pred_root_shoot_ratio = exp(pred_root_shoot_ratio_log)) %>%\n",
    "\n",
    "        # Select only pred variables\n",
    "        dplyr::select(-c(init_height, pred_root_shoot_ratio_log))"
   ]
  },
  {
   "cell_type": "code",
   "execution_count": null,
   "id": "2398aab8",
   "metadata": {},
   "outputs": [],
   "source": [
    "# Generate plot combinations\n",
    "vars_q1 <-\n",
    "  crossing(\n",
    "\n",
    "    # Get all numeric variables to plot (all y)\n",
    "    as_tibble(t(combn(dplyr::select(data_pred_biomass_growth, where(is.numeric)) %>% names, 1))),\n",
    "\n",
    "    # Select factor variables to plot\n",
    "    x_axis_var = dplyr::select(data_pred_biomass_growth, nfixer) %>%  names,\n",
    "    group_var = dplyr::select(data_pred_biomass_growth, treatment) %>%  names)"
   ]
  },
  {
   "cell_type": "code",
   "execution_count": null,
   "id": "825cd065",
   "metadata": {
    "dpi": 600,
    "fig.align": "center",
    "lines_to_next_cell": 0,
    "name": "q1_fig_1_biomass_growth_boxplot",
    "out.height": 500,
    "out.width": 600
   },
   "outputs": [],
   "source": [
    "par(mfrow = c(2,2))\n",
    "vars_q1 %>%\n",
    "      # Gererate plots\n",
    "      pmap(~boxplot_plot_pmap(data = data_pred_biomass_growth,\n",
    "                        y = !!sym(..1), x = !!sym(..2),\n",
    "                                fill = !!sym(..3)))"
   ]
  },
  {
   "cell_type": "markdown",
   "id": "6bfaae7c",
   "metadata": {},
   "source": []
  }
 ],
 "metadata": {
  "jupytext": {
   "cell_metadata_filter": "fig.align,name,out.width,message,tags,dpi,warning,out.height,cache,-all",
   "main_language": "R",
   "notebook_metadata_filter": "-all"
  }
 },
 "nbformat": 4,
 "nbformat_minor": 5
}
