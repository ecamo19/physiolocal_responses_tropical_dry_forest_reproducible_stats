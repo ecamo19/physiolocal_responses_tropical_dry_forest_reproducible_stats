{
 "cells": [
  {
   "cell_type": "raw",
   "id": "0626efbd",
   "metadata": {},
   "source": [
    "---\n",
    "title: 'Models for Q2'\n",
    "author: \"Erick Calderon-Morales and Leland Werden\"\n",
    "date: ''\n",
    "due_date: \"\"\n",
    "output:\n",
    "  prettydoc::html_pretty:\n",
    "    highlight: pygments\n",
    "    theme: tactile\n",
    "    toc: yes\n",
    "    number_sections: no\n",
    "    toc_depth: 1\n",
    "---"
   ]
  },
  {
   "cell_type": "code",
   "execution_count": null,
   "id": "de9f76ca",
   "metadata": {
    "lines_to_next_cell": 2,
    "name": "knitr",
    "tags": [
     "remove_cell"
    ]
   },
   "outputs": [],
   "source": [
    "\n",
    "# Save figures in specific place\n",
    "\n",
    "knitr::opts_chunk$set(autodep        = TRUE,\n",
    "                      cache          = FALSE,\n",
    "                      cache.comments = TRUE,\n",
    "\n",
    "                      # Save figures as pdf ?\n",
    "                      dev = c(\"pdf\"),\n",
    "\n",
    "                      # Include code?\n",
    "                      echo           = TRUE,\n",
    "\n",
    "                      error          = FALSE,\n",
    "                      fig.align      = \"center\",\n",
    "\n",
    "                      # Path where figures are going to be store pdf single\n",
    "                      # figures\n",
    "                      fig.path       = paste0(\"./figures\", \"/\"),\n",
    "                      fig.width      = 11,\n",
    "                      fig.height     = 7,\n",
    "                      message        = FALSE)\n",
    "\n",
    "# set to two decimal\n",
    "options(scipen = 1, digits = 4)"
   ]
  },
  {
   "cell_type": "code",
   "execution_count": null,
   "id": "81a010f8",
   "metadata": {
    "cache": false,
    "message": false,
    "name": "libaries",
    "warning": false
   },
   "outputs": [],
   "source": [
    "library(dplyr)\n",
    "library(performance)\n",
    "library(tibble)\n",
    "library(here)\n",
    "library(emmeans)\n",
    "library(car)\n",
    "library(modelr)\n",
    "library(knitr)\n",
    "library(ggpubr)\n",
    "library(janitor)\n",
    "library(factoextra)\n",
    "library(dichromat)"
   ]
  },
  {
   "cell_type": "code",
   "execution_count": null,
   "id": "35895bc8",
   "metadata": {
    "name": "setup",
    "tags": [
     "remove_cell"
    ]
   },
   "outputs": [],
   "source": [
    "# Set knit directory\n",
    "setwd(here::here())\n",
    "knitr::opts_knit$set(root.dir = setwd(here::here()))\n",
    "getwd()"
   ]
  },
  {
   "cell_type": "markdown",
   "id": "63269348",
   "metadata": {},
   "source": [
    "# Load data"
   ]
  },
  {
   "cell_type": "code",
   "execution_count": null,
   "id": "bd0b63cd",
   "metadata": {
    "message": false,
    "warning": false
   },
   "outputs": [],
   "source": [
    "# Load all joined dataset\n",
    "source(\"./scripts/code_join_data_full_dataset.R\")"
   ]
  },
  {
   "cell_type": "markdown",
   "id": "5fe299db",
   "metadata": {},
   "source": [
    "__Q3: Are traits coordinated along the \"fast to slow\" continuum and to what extent does this correlated with N-fixing status?__\n",
    "\n",
    "## Trait PCA"
   ]
  },
  {
   "cell_type": "code",
   "execution_count": null,
   "id": "ad7b632b",
   "metadata": {
    "lines_to_next_cell": 2
   },
   "outputs": [],
   "source": [
    "# Select variables that are going to be used in the model\n",
    "data_for_models <-\n",
    "    data_for_models %>%\n",
    "\n",
    "        clean_names() %>%\n",
    "        # Select columns needed for regression\n",
    "        dplyr::select(spcode, treatment, nfixer, init_height,\n",
    "\n",
    "                  # Performance measures\n",
    "                  total_biomass, rgr, root_shoot_ratio,\n",
    "\n",
    "                  # physiology traits\n",
    "                  amax, gs, wue, pnue, sla,\n",
    "\n",
    "                  # Leaf traits\n",
    "                  narea_g_m2) %>%\n",
    "        clean_names()"
   ]
  },
  {
   "cell_type": "code",
   "execution_count": null,
   "id": "ccf00876",
   "metadata": {},
   "outputs": [],
   "source": [
    "data_traits_scaled <-\n",
    "    data_for_models %>%\n",
    "        dplyr::select(-c(total_biomass, rgr, root_shoot_ratio, init_height)) %>%\n",
    "\n",
    "        mutate(across(where(is.numeric), scale))\n"
   ]
  },
  {
   "cell_type": "code",
   "execution_count": null,
   "id": "8bef93c4",
   "metadata": {},
   "outputs": [],
   "source": [
    "pca_traits <- princomp(data_traits_scaled[, c(4:ncol(data_traits_scaled))])"
   ]
  },
  {
   "cell_type": "code",
   "execution_count": null,
   "id": "ec1cb8eb",
   "metadata": {},
   "outputs": [],
   "source": [
    "eigs <- pca_traits$sdev^2/sum(pca_traits$sdev^2)"
   ]
  },
  {
   "cell_type": "code",
   "execution_count": null,
   "id": "c5fe84bf",
   "metadata": {
    "lines_to_next_cell": 2
   },
   "outputs": [],
   "source": [
    "fviz_screeplot(pca_traits, addlabels = TRUE, ylim = c(0, 50))"
   ]
  },
  {
   "cell_type": "code",
   "execution_count": null,
   "id": "534b70c9",
   "metadata": {
    "dpi": 350,
    "fig.align": "center",
    "lines_to_next_cell": 2,
    "name": "q3_biplot_pc1_pc2",
    "out.height": 500,
    "out.width": 1000
   },
   "outputs": [],
   "source": [
    "fviz_pca_biplot(pca_traits, axes = c(1, 2),\n",
    "\n",
    "                invisible=\"quali\",\n",
    "                pointsize = 2.5,\n",
    "                # Add group\n",
    "                habillage= data_for_models$nfixer,\n",
    "\n",
    "                # Set labels\n",
    "                label =\"var\",\n",
    "\n",
    "                # Set arrow color\n",
    "                col.var = \"black\",\n",
    "                geom=c(\"point\", \"arrows\"),\n",
    "                # Repel overlapping labels\n",
    "                repel = TRUE) +\n",
    "\n",
    "  theme_minimal() + xlim(NA, 7.5) +  labs(title = \"\")+\n",
    "  coord_fixed() + theme(text = element_text(size = 30))+\n",
    "  xlab(paste0(\"PC1 [\", round(100*eigs[1], 1), \"%]\")) +\n",
    "  ylab(paste0(\"PC2 [\", round(100*eigs[2], 1), \"%]\")) +\n",
    "\n",
    "  scale_shape_manual(values = c(16, 17)) +\n",
    "  scale_color_manual(values = c(\"#D95F02\",\"#1B9E77\" )) +\n",
    "  scale_fill_manual(values = c(\"#D95F02\",\"#1B9E77\")) +\n",
    "  theme(legend.position = \"bottom\")"
   ]
  },
  {
   "cell_type": "code",
   "execution_count": null,
   "id": "feb8a744",
   "metadata": {
    "dpi": 350,
    "fig.align": "center",
    "lines_to_next_cell": 2,
    "name": "q3_biplot_pc1_pc3",
    "out.height": 500,
    "out.width": 1000
   },
   "outputs": [],
   "source": [
    "fviz_pca_biplot(pca_traits, axes = c(1, 3),\n",
    "\n",
    "                invisible=\"quali\",\n",
    "                pointsize = 2.5,\n",
    "                # Add group\n",
    "                habillage= data_for_models$nfixer,\n",
    "\n",
    "                # Set labels\n",
    "                label =\"var\",\n",
    "\n",
    "                # Set arrow color\n",
    "                col.var = \"black\",\n",
    "                geom=c(\"point\", \"arrows\"),\n",
    "\n",
    "                # Repel overlapping labels\n",
    "                repel = TRUE) +\n",
    "\n",
    "  theme_minimal() + xlim(NA, 7.5) +  labs(title = \"\")+\n",
    "  coord_fixed() + theme(text = element_text(size = 30))+\n",
    "  xlab(paste0(\"PC1 [\", round(100*eigs[1], 1), \"%]\")) +\n",
    "  ylab(paste0(\"PC3 [\", round(100*eigs[3], 1), \"%]\")) +\n",
    "\n",
    "  scale_shape_manual(values = c(16, 17)) +\n",
    "  scale_color_manual(values = c(\"#D95F02\",\"#1B9E77\" )) +\n",
    "  scale_fill_manual(values = c(\"#D95F02\",\"#1B9E77\")) +\n",
    "  theme(legend.position = \"bottom\")"
   ]
  },
  {
   "cell_type": "code",
   "execution_count": null,
   "id": "dc577fab",
   "metadata": {
    "dpi": 350,
    "fig.align": "center",
    "name": "q3_biplot_pc2_pc3",
    "out.height": 500,
    "out.width": 1000
   },
   "outputs": [],
   "source": [
    "fviz_pca_biplot(pca_traits, axes = c(2,3),\n",
    "\n",
    "                invisible=\"quali\",\n",
    "                pointsize = 2.5,\n",
    "                # Add group\n",
    "                habillage= data_for_models$nfixer,\n",
    "\n",
    "                # Set labels\n",
    "                label =\"var\",\n",
    "\n",
    "                # Set arrow color\n",
    "                col.var = \"black\",\n",
    "                geom=c(\"point\", \"arrows\"),\n",
    "\n",
    "                # Repel overlapping labels\n",
    "                repel = TRUE) +\n",
    "\n",
    "  theme_minimal() + xlim(NA, 7.5) +  labs(title = \"\")+\n",
    "  coord_fixed() + theme(text = element_text(size = 30))+\n",
    "  xlab(paste0(\"PC2 [\", round(100*eigs[2], 1), \"%]\")) +\n",
    "  ylab(paste0(\"PC3 [\", round(100*eigs[3], 1), \"%]\")) +\n",
    "\n",
    "  scale_shape_manual(values = c(16, 17)) +\n",
    "  scale_color_manual(values = c(\"#D95F02\",\"#1B9E77\" )) +\n",
    "  scale_fill_manual(values = c(\"#D95F02\",\"#1B9E77\")) +\n",
    "  theme(legend.position = \"bottom\")"
   ]
  },
  {
   "cell_type": "code",
   "execution_count": null,
   "id": "1cff985d",
   "metadata": {
    "lines_to_next_cell": 0
   },
   "outputs": [],
   "source": [
    "# Extract loadings\n",
    "pca_traits$loadings"
   ]
  },
  {
   "cell_type": "markdown",
   "id": "2cd2b406",
   "metadata": {},
   "source": [
    "\n"
   ]
  }
 ],
 "metadata": {
  "jupytext": {
   "cell_metadata_filter": "dpi,name,out.width,cache,tags,warning,message,fig.align,out.height,-all",
   "main_language": "R",
   "notebook_metadata_filter": "-all"
  }
 },
 "nbformat": 4,
 "nbformat_minor": 5
}
