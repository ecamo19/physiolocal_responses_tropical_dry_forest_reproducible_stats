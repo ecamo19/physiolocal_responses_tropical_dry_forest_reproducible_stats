{
 "cells": [
  {
   "cell_type": "raw",
   "id": "a4d896cf",
   "metadata": {},
   "source": [
    "---\n",
    "title: 'Supplementary Figures'\n",
    "author: \"Erick Calderon-Morales and Leland Werden\"\n",
    "date: ''\n",
    "due_date: \"\"\n",
    "output:\n",
    "  prettydoc::html_pretty:\n",
    "    highlight: pygments\n",
    "    theme: tactile\n",
    "    toc: yes\n",
    "    number_sections: no\n",
    "    toc_depth: 1\n",
    "---"
   ]
  },
  {
   "cell_type": "code",
   "execution_count": null,
   "id": "40fb47cf",
   "metadata": {
    "lines_to_next_cell": 2,
    "name": "knitr",
    "tags": [
     "remove_cell"
    ]
   },
   "outputs": [],
   "source": [
    "\n",
    "# Save figures in specific place\n",
    "\n",
    "knitr::opts_chunk$set(autodep        = TRUE,\n",
    "                      cache          = FALSE,\n",
    "                      cache.comments = TRUE,\n",
    "\n",
    "                      # Save figures as pdf ?\n",
    "                      dev = c(\"png\", \"pdf\"),\n",
    "\n",
    "                      # Include code?\n",
    "                      echo           = TRUE,\n",
    "                      warning = FALSE,\n",
    "\n",
    "                      error          = FALSE,\n",
    "                      fig.align      = \"center\",\n",
    "\n",
    "                      # Path where figures are going to be store pdf single\n",
    "                      # figures\n",
    "                      fig.path       = paste0(\"./figures\", \"/\"),\n",
    "                      #fig.width      = 11,\n",
    "                      #fig.height     = 7,\n",
    "                      message        = FALSE)\n",
    "\n",
    "# set to two decimal\n",
    "options(scipen = 1, digits = 4)"
   ]
  },
  {
   "cell_type": "code",
   "execution_count": null,
   "id": "560393d5",
   "metadata": {
    "cache": false,
    "message": false,
    "name": "libaries",
    "warning": false
   },
   "outputs": [],
   "source": [
    "library(janitor)\n",
    "library(ggpubr)\n",
    "library(knitr)\n",
    "library(ggsci)\n",
    "library(tidyverse)\n",
    "library(here)\n",
    "library(nlme)\n",
    "library(performance)\n",
    "library(reactablefmtr)\n",
    "library(emmeans)\n",
    "library(modelr)\n",
    "library(car)"
   ]
  },
  {
   "cell_type": "code",
   "execution_count": null,
   "id": "d10c29b1",
   "metadata": {
    "name": "setup",
    "tags": [
     "remove_cell"
    ]
   },
   "outputs": [],
   "source": [
    "# Set knit directory\n",
    "setwd(here::here())\n",
    "knitr::opts_knit$set(root.dir = setwd(here::here()))\n",
    "getwd()"
   ]
  },
  {
   "cell_type": "markdown",
   "id": "a6b65a68",
   "metadata": {},
   "source": [
    "# Load functions and data"
   ]
  },
  {
   "cell_type": "code",
   "execution_count": null,
   "id": "5b1dad07",
   "metadata": {
    "message": false,
    "warning": false
   },
   "outputs": [],
   "source": [
    "# Load all joined dataset\n",
    "source(\"./scripts/code_join_data_full_dataset.R\")\n",
    "source(\"./scripts/code_clean_data_soil_moisture.R\")"
   ]
  },
  {
   "cell_type": "code",
   "execution_count": null,
   "id": "dc23b1f9",
   "metadata": {
    "message": false,
    "warning": false
   },
   "outputs": [],
   "source": [
    "# Load custom made functions\n",
    "source(\"./R/functions_models.R\")\n",
    "source(\"./R/function_plots.R\")\n",
    "source(\"./R/function_validation_plots.R\")\n",
    "source(\"./R/function_for_inference_emmeans_and_percentage_diff.R\")"
   ]
  },
  {
   "cell_type": "markdown",
   "id": "e667f7f2",
   "metadata": {},
   "source": [
    "# Soil moisture figures"
   ]
  },
  {
   "cell_type": "code",
   "execution_count": null,
   "id": "9ba8bea3",
   "metadata": {},
   "outputs": [],
   "source": [
    "data_soil_moisture_cleaned  %>% \n",
    "\tgroup_by(treatment,nfixer, date_day_month,sm_measured ) %>%\n",
    "\n",
    "\tsummarise(mean_sm = mean(soil_moisture),\n",
    "\t\t\t  sd_sm   = sd(soil_moisture)) %>%\n",
    "\n",
    "        arrange(nfixer) %>%\n",
    "\tarrange(date_day_month) %>%\n",
    "\tkable()"
   ]
  },
  {
   "cell_type": "markdown",
   "id": "5faa96e3",
   "metadata": {},
   "source": [
    "## Boxplots"
   ]
  },
  {
   "cell_type": "code",
   "execution_count": null,
   "id": "5227e1c2",
   "metadata": {},
   "outputs": [],
   "source": [
    "ggplot(data = data_soil_moisture_cleaned, \n",
    "        aes(x = date_day_month, y = soil_moisture, fill = treatment)) +\n",
    "\t\n",
    "\t#Adjust boxplots side by side\n",
    "\tgeom_boxplot(position = position_dodge(width=.8)) +\n",
    "\ttheme_bw() +\n",
    "\n",
    "        facet_wrap(~ sm_measured, scales = \"free_y\") +\n",
    "\t\t#Define colors\n",
    "\t#scale_colour_manual(values = c(\"#F0E442\",\"#0072B2\"))+\n",
    "\txlab(\"Date\") + ylab(\"Mean Pot Soil Moisture %\") +\n",
    "\n",
    "\t#Delete lines around facet labels\n",
    "\ttheme(strip.background = element_rect( color=\"white\", fill=\"white\"),\n",
    "\n",
    "                # Legend position and size\n",
    "                legend.position = \"bottom\",\n",
    "                legend.title = element_text(size = 18),\n",
    "                legend.text = element_text(size = 18)) +\n",
    "\n",
    "\tguides(col = guide_legend(ncol = 1, title.position = \"left\",\n",
    "                                title.hjust = .59,\n",
    "                                title = \"Soil Moisture Measuared:\")) +\n",
    "        scale_fill_manual(values = c(\"#DDAA33\",\"#117733\",\n",
    "                                            \"#BB5566\",\"#004488\")) +\n",
    "        theme_classic() +\n",
    "        theme(legend.position = \"none\") +\n",
    "        theme(axis.text = element_text(size = 21),\n",
    "                axis.title = element_text(size = 21, face = \"bold\")) "
   ]
  },
  {
   "cell_type": "markdown",
   "id": "7df1841a",
   "metadata": {},
   "source": [
    "## Mean values + Standard errors"
   ]
  },
  {
   "cell_type": "code",
   "execution_count": null,
   "id": "124843c6",
   "metadata": {},
   "outputs": [],
   "source": [
    "data_soil_moisture_cleaned  %>%\n",
    "        group_by(date_day_month, sm_measured, treatment) %>%\n",
    "        summarise(mean_soil_moisture = mean(soil_moisture),\n",
    "\n",
    "                se_soil_moisture = (sd(soil_moisture) / sqrt(n())))  %>%\n",
    "\n",
    "        mutate(difference = ((mean_soil_moisture - first(mean_soil_moisture)))) %>%\n",
    "        filter(sm_measured == \"After applying the treatments\" &\n",
    "                treatment %in% c(\"Ambient Rain plus Water\",\n",
    "                                \"Ambient Rain plus Nutrients and Water\")) %>%\n",
    "        kable()"
   ]
  },
  {
   "cell_type": "code",
   "execution_count": null,
   "id": "901ca2ff",
   "metadata": {
    "dpi": 600,
    "name": "supplementary_figure_soil_moisture",
    "out.height": 700,
    "out.width": 2000
   },
   "outputs": [],
   "source": [
    "data_soil_moisture_cleaned  %>%\n",
    "        group_by(date_day_month, sm_measured, treatment) %>%\n",
    "        summarise(mean_soil_moisture = mean(soil_moisture),\n",
    "\n",
    "                se_soil_moisture = (sd(soil_moisture) / sqrt(n()))) %>% \n",
    "                \n",
    "        ggplot(data = ., aes(x = date_day_month, y = mean_soil_moisture,\n",
    "                            color = treatment)) +\n",
    "            geom_point(position = position_dodge(width = .9), size = 3.5) +\n",
    "            \n",
    "            facet_wrap(~sm_measured) +\n",
    "\n",
    "            scale_color_manual(values = c(\"#DDAA33\",\"#117733\",\n",
    "                                            \"#BB5566\",\"#004488\")) +\n",
    "\n",
    "            xlab(\"Date\") + ylab(\"Mean Pot Soil Moisture %\") +\n",
    "            theme_bw() +\n",
    "\n",
    "            # Add Standard error bars\n",
    "            geom_errorbar(aes(ymin = mean_soil_moisture - se_soil_moisture,\n",
    "                              ymax = mean_soil_moisture + se_soil_moisture),\n",
    "                            width = .2,\n",
    "                            position = position_dodge(width = .9)) +\n",
    "\n",
    "\n",
    "            #Delete lines around facet labels\n",
    "\t        theme(\n",
    "\n",
    "                    #Font size\n",
    "                    axis.text = element_text(size = 18),\n",
    "                    axis.title = element_text(size = 18, face = \"bold\"),\n",
    "                    strip.text.x = element_text(size = 18, face = \"bold\"),\n",
    "\n",
    "                    # Legend position and size\n",
    "                    legend.position = \"none\",\n",
    "                    legend.title = element_text(size = 18),\n",
    "                    legend.text = element_text(size = 18)) +\n",
    "\t        \n",
    "                guides(col = guide_legend(ncol = 1, title.position = \"top\",\n",
    "                            title.hjust = .59))"
   ]
  },
  {
   "cell_type": "markdown",
   "id": "c31a78f1",
   "metadata": {},
   "source": [
    "# Plant's mass fractions figures"
   ]
  },
  {
   "cell_type": "code",
   "execution_count": null,
   "id": "daccc869",
   "metadata": {},
   "outputs": [],
   "source": [
    "data_mass_fractions <-\n",
    "    data_for_models %>%\n",
    "    tibble::rownames_to_column(\"id\") %>%\n",
    "    select(id,spcode, treatment, nfixer, init_height)"
   ]
  },
  {
   "cell_type": "markdown",
   "id": "2688b102",
   "metadata": {},
   "source": [
    "## Model fitting"
   ]
  },
  {
   "cell_type": "code",
   "execution_count": null,
   "id": "87b9794e",
   "metadata": {},
   "outputs": [],
   "source": [
    "data_for_models <-\n",
    "  data_for_models %>%\n",
    "\n",
    "  # Select variables for analysis\n",
    "  dplyr::select(c(spcode, treatment, nfixer, init_height, rmf, smf, lmf))"
   ]
  },
  {
   "cell_type": "code",
   "execution_count": null,
   "id": "ad2e1f60",
   "metadata": {},
   "outputs": [],
   "source": [
    "models_mass_fractions <- list()"
   ]
  },
  {
   "cell_type": "code",
   "execution_count": null,
   "id": "4888c221",
   "metadata": {
    "lines_to_next_cell": 0
   },
   "outputs": [],
   "source": [
    "model_rmf <- lme(rmf ~ nfixer*treatment + init_height,\n",
    "                        random =  ~1|spcode,\n",
    "                        data = data_for_models)\n",
    "\n",
    "model_rmf <- list(model_rmf)\n",
    "\n",
    "names(model_rmf) <- \"rmf\"\n",
    "\n",
    "# Append log models to model list\n",
    "models_mass_fractions <- append(model_rmf, models_mass_fractions)"
   ]
  },
  {
   "cell_type": "code",
   "execution_count": null,
   "id": "4383c590",
   "metadata": {},
   "outputs": [],
   "source": [
    "# Log model\n",
    "\n",
    "## Root-Shoot ratio\n",
    "model_smf_log <- lme(log(smf) ~ nfixer*treatment + init_height,\n",
    "                        random = ~1|spcode,\n",
    "                        data = data_for_models)\n",
    "\n",
    "log_model_smf <- list(model_smf_log)\n",
    "\n",
    "names(log_model_smf) <- \"smf_log\"\n",
    "\n",
    "# Append log models to model list\n",
    "models_mass_fractions <- append(log_model_smf, models_mass_fractions)"
   ]
  },
  {
   "cell_type": "code",
   "execution_count": null,
   "id": "a5faa2a6",
   "metadata": {},
   "outputs": [],
   "source": [
    "model_lmf <- lme(lmf ~ nfixer*treatment + init_height,\n",
    "                        random =  ~1|spcode,\n",
    "                        data = data_for_models)\n",
    "\n",
    "model_lmf <- list(model_lmf)\n",
    "\n",
    "names(model_lmf) <- \"lmf\"\n",
    "\n",
    "# Append log models to model list\n",
    "models_mass_fractions <- append(model_lmf, models_mass_fractions)"
   ]
  },
  {
   "cell_type": "code",
   "execution_count": null,
   "id": "3f4815f5",
   "metadata": {},
   "outputs": [],
   "source": [
    "names(models_mass_fractions)"
   ]
  },
  {
   "cell_type": "markdown",
   "id": "84efe129",
   "metadata": {},
   "source": [
    "## Model Assumptions\n",
    "\n",
    "### Root Mass fractions"
   ]
  },
  {
   "cell_type": "code",
   "execution_count": null,
   "id": "42ce42a5",
   "metadata": {},
   "outputs": [],
   "source": [
    "validation_plots(models_mass_fractions$rmf,\n",
    "                data = data_for_models,\n",
    "                group = \"spcode\")"
   ]
  },
  {
   "cell_type": "markdown",
   "id": "582eb6c8",
   "metadata": {
    "lines_to_next_cell": 0
   },
   "source": [
    "### Stem Mass fractions"
   ]
  },
  {
   "cell_type": "code",
   "execution_count": null,
   "id": "8b230ca0",
   "metadata": {},
   "outputs": [],
   "source": [
    "validation_plots(models_mass_fractions$smf_log,\n",
    "                data = data_for_models,\n",
    "                group = \"spcode\")"
   ]
  },
  {
   "cell_type": "markdown",
   "id": "5241afee",
   "metadata": {
    "lines_to_next_cell": 0
   },
   "source": [
    "### Leaf Mass fractions"
   ]
  },
  {
   "cell_type": "code",
   "execution_count": null,
   "id": "719aebd0",
   "metadata": {},
   "outputs": [],
   "source": [
    "validation_plots(models_mass_fractions$lmf,\n",
    "                data = data_for_models,\n",
    "                group = \"spcode\")"
   ]
  },
  {
   "cell_type": "markdown",
   "id": "6d7771b6",
   "metadata": {},
   "source": [
    "## Model inference"
   ]
  },
  {
   "cell_type": "code",
   "execution_count": null,
   "id": "72acc40b",
   "metadata": {},
   "outputs": [],
   "source": [
    "## r2 models\n",
    "models_mass_fractions %>%\n",
    "    map(., r2_nakagawa) %>%\n",
    "    unlist() %>%\n",
    "    kable()"
   ]
  },
  {
   "cell_type": "markdown",
   "id": "42cb0671",
   "metadata": {},
   "source": [
    "### Anova tables"
   ]
  },
  {
   "cell_type": "code",
   "execution_count": null,
   "id": "5c1529f7",
   "metadata": {},
   "outputs": [],
   "source": [
    "map(models_mass_fractions, ~anova.lme(.x, type = \"marginal\"))"
   ]
  },
  {
   "cell_type": "markdown",
   "id": "8bd22d19",
   "metadata": {},
   "source": [
    "## Post-Hoc: Tukey's test\n",
    "\n",
    "### Root Mass fractions"
   ]
  },
  {
   "cell_type": "code",
   "execution_count": null,
   "id": "3a8a3ebd",
   "metadata": {},
   "outputs": [],
   "source": [
    "as_tibble(emmeans(models_mass_fractions$rmf,\n",
    "        pairwise ~ nfixer*treatment,\n",
    "        adjust = \"tukey\"\n",
    "        )$contrast) %>%\n",
    "        mutate(across(2:6, round, 6)) %>%\n",
    "        kable()"
   ]
  },
  {
   "cell_type": "markdown",
   "id": "6f34feba",
   "metadata": {},
   "source": [
    "### Stem Mass fractions"
   ]
  },
  {
   "cell_type": "code",
   "execution_count": null,
   "id": "80850bfa",
   "metadata": {},
   "outputs": [],
   "source": [
    "as_tibble(emmeans(models_mass_fractions$smf_log,\n",
    "        pairwise ~ treatment*nfixer,\n",
    "        adjust = \"tukey\"\n",
    "        )$contrast) %>%\n",
    "        mutate(across(2:6, round, 6)) %>%\n",
    "        kable()"
   ]
  },
  {
   "cell_type": "markdown",
   "id": "bfa8aae1",
   "metadata": {},
   "source": [
    "### Leaf Mass fractions"
   ]
  },
  {
   "cell_type": "code",
   "execution_count": null,
   "id": "74b2c9a5",
   "metadata": {},
   "outputs": [],
   "source": [
    "as_tibble(emmeans(models_mass_fractions$lmf,\n",
    "        pairwise ~ treatment*nfixer,\n",
    "        adjust = \"tukey\"\n",
    "        )$contrast) %>%\n",
    "        mutate(across(2:6, round, 6)) %>%\n",
    "        kable()"
   ]
  },
  {
   "cell_type": "markdown",
   "id": "77419c3a",
   "metadata": {},
   "source": [
    "## Treatment effects\n",
    "\n",
    "### Root Mass fractions"
   ]
  },
  {
   "cell_type": "code",
   "execution_count": null,
   "id": "f692bbcb",
   "metadata": {
    "lines_to_next_cell": 2
   },
   "outputs": [],
   "source": [
    "emmeans_table_tidy(models_mass_fractions$rmf,\n",
    "                        formula = \"treatment|nfixer\",\n",
    "                        grouping_var = \"nfixer\")"
   ]
  },
  {
   "cell_type": "markdown",
   "id": "55074e40",
   "metadata": {
    "lines_to_next_cell": 0
   },
   "source": [
    "### Stem Mass fractions"
   ]
  },
  {
   "cell_type": "code",
   "execution_count": null,
   "id": "3a30ad8c",
   "metadata": {},
   "outputs": [],
   "source": [
    "emmeans_table_tidy(models_mass_fractions$smf_log,\n",
    "                        formula = \"treatment|nfixer\",\n",
    "                        grouping_var = \"nfixer\")"
   ]
  },
  {
   "cell_type": "markdown",
   "id": "0193284c",
   "metadata": {},
   "source": [
    "### Leaf Mass fractions"
   ]
  },
  {
   "cell_type": "code",
   "execution_count": null,
   "id": "b8f4e247",
   "metadata": {},
   "outputs": [],
   "source": [
    "emmeans_table_tidy(models_mass_fractions$lmf,\n",
    "                        formula = \"treatment|nfixer\",\n",
    "                        grouping_var = \"nfixer\")"
   ]
  },
  {
   "cell_type": "markdown",
   "id": "0f3976c8",
   "metadata": {},
   "source": [
    "## Boxplots Mass fractions"
   ]
  },
  {
   "cell_type": "code",
   "execution_count": null,
   "id": "935c61b4",
   "metadata": {},
   "outputs": [],
   "source": [
    "# Step done for getting predictions from models for Q1\n",
    "data_for_predictions <-\n",
    "    data_for_models %>%\n",
    "\n",
    "        rownames_to_column(\"id\") %>%\n",
    "\n",
    "        # Remove unused variables\n",
    "        dplyr::select(id, spcode, treatment, nfixer, init_height)"
   ]
  },
  {
   "cell_type": "code",
   "execution_count": null,
   "id": "1d1d9002",
   "metadata": {},
   "outputs": [],
   "source": [
    "# Get predictions\n",
    "string <- c(\"models_mass_fractions\")\n",
    "\n",
    "data_pred_mass_fractions <-\n",
    "\n",
    "        # Get models prediction\n",
    "        modelr::gather_predictions(data_for_predictions,\n",
    "\n",
    "                           # Return predictions\n",
    "                            models_mass_fractions$rmf,\n",
    "                            models_mass_fractions$smf_log,\n",
    "                            models_mass_fractions$lmf) %>%\n",
    "\n",
    "        pivot_wider(names_from = model, values_from = pred) %>%\n",
    "            rename_all(funs(\n",
    "\n",
    "                # rename columns\n",
    "                stringr::str_to_lower(.) %>%\n",
    "                stringr::str_replace(., c(string),\"pred_\") %>%\n",
    "\n",
    "                # Remove dollar sing\n",
    "                gsub(\"\\\\$\", \"\", .)\n",
    "                )) %>%\n",
    "\n",
    "        # Back transform log variables\n",
    "        mutate(pred_smf = exp(pred_smf_log)) %>%\n",
    "\n",
    "        # Remove log predictions and init height\n",
    "        dplyr::select(-c(init_height, pred_smf_log))"
   ]
  },
  {
   "cell_type": "code",
   "execution_count": null,
   "id": "a18d42e1",
   "metadata": {},
   "outputs": [],
   "source": [
    "vars_mass_fractions <-\n",
    "  crossing(\n",
    "\n",
    "    # Get all numeric variables to plot (all y)\n",
    "    as_tibble(t(combn(dplyr::select(data_pred_mass_fractions,\n",
    "                                    where(is.numeric)) %>% names, 1))),\n",
    "\n",
    "    # Select factor variables to plot\n",
    "    x_axis_var = dplyr::select(data_pred_mass_fractions, nfixer) %>%  names,\n",
    "    group_var = dplyr::select(data_pred_mass_fractions, treatment) %>%  names)"
   ]
  },
  {
   "cell_type": "code",
   "execution_count": null,
   "id": "227ebf1e",
   "metadata": {
    "dpi": 600,
    "fig.align": "center",
    "lines_to_next_cell": 0,
    "name": "supplementary_figure_mass_fraction",
    "out.height": 500,
    "out.width": 600
   },
   "outputs": [],
   "source": [
    "vars_mass_fractions %>%\n",
    "      # Gererate plots\n",
    "      pmap( ~ boxplot_plot_pmap(data = data_pred_mass_fractions,\n",
    "                                y = !!sym(..1), x = !!sym(..2),\n",
    "                                fill = !!sym(..3))) \n"
   ]
  },
  {
   "cell_type": "markdown",
   "id": "e84bd2bd",
   "metadata": {},
   "source": []
  }
 ],
 "metadata": {
  "jupytext": {
   "cell_metadata_filter": "out.width,fig.align,out.height,name,message,dpi,tags,warning,cache,-all",
   "main_language": "R",
   "notebook_metadata_filter": "-all"
  }
 },
 "nbformat": 4,
 "nbformat_minor": 5
}
